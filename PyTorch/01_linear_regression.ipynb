{
 "cells": [
  {
   "cell_type": "code",
   "execution_count": 1,
   "metadata": {},
   "outputs": [],
   "source": [
    "import numpy as np\n",
    "import torch\n",
    "from torch.autograd import Variable\n",
    "\n",
    "import matplotlib.pyplot as plt\n",
    "plt.style.use('fivethirtyeight')"
   ]
  },
  {
   "cell_type": "markdown",
   "metadata": {},
   "source": [
    "# Linear regression in PyTorch"
   ]
  },
  {
   "cell_type": "code",
   "execution_count": 2,
   "metadata": {},
   "outputs": [],
   "source": [
    "# Toy data\n",
    "X = Variable(torch.Tensor([[1, 2],\n",
    "                           [3, 4],\n",
    "                           [5, 6], \n",
    "                           [1, 3],\n",
    "                           [7, 14]]))\n",
    "\n",
    "y = Variable(torch.Tensor([[6],         # y = 2*x_1 + 2*x_2\n",
    "                           [14], \n",
    "                           [22], \n",
    "                           [8], \n",
    "                           [42]]))     \n",
    "\n",
    "# Toy test data\n",
    "X_test = Variable(torch.Tensor([[4, 9],\n",
    "                                [5, 12]]))\n",
    "\n",
    "y_test = Variable(torch.Tensor([[26],\n",
    "                                [34]]))"
   ]
  },
  {
   "cell_type": "code",
   "execution_count": 3,
   "metadata": {},
   "outputs": [],
   "source": [
    "# Define the model class\n",
    "\n",
    "class Model(torch.nn.Module):\n",
    "    \n",
    "    def __init__(self):\n",
    "        super(Model, self).__init__()\n",
    "        self.linear = torch.nn.Linear(2, 1) # Input and output size\n",
    "        \n",
    "    def forward(self, x):\n",
    "        \"\"\"\n",
    "        Takes Variable as an input \n",
    "        Returns Variable\n",
    "        \"\"\"\n",
    "        return self.linear(x)               # Return prediction (y_hat)\n",
    "        "
   ]
  },
  {
   "cell_type": "code",
   "execution_count": 179,
   "metadata": {},
   "outputs": [],
   "source": [
    "# Instantiate the model\n",
    "torch_reg = Model()"
   ]
  },
  {
   "cell_type": "code",
   "execution_count": 180,
   "metadata": {},
   "outputs": [],
   "source": [
    "# Define loss and optimizer\n",
    "loss_func = torch.nn.MSELoss(reduction='mean')\n",
    "optimizer = torch.optim.Adam(torch_reg.parameters(), lr = .9)"
   ]
  },
  {
   "cell_type": "code",
   "execution_count": 181,
   "metadata": {},
   "outputs": [],
   "source": [
    "# Define training function\n",
    "def train_it(x, y, model, n_epochs = 500):\n",
    "    \n",
    "    for epoch in range(n_epochs):\n",
    "        y_pred = model(x)\n",
    "\n",
    "        loss = loss_func(y_pred, y)\n",
    "        \n",
    "        history.append(loss)\n",
    "        \n",
    "        if epoch % 50 == 0:\n",
    "            print(f\"Epoch: {epoch:06.2f} | Loss: {loss:10.6f}\")\n",
    "\n",
    "        # Reset gradients, perform backprop, perform optimizer step\n",
    "        optimizer.zero_grad()\n",
    "        loss.backward()\n",
    "        optimizer.step()"
   ]
  },
  {
   "cell_type": "code",
   "execution_count": 182,
   "metadata": {},
   "outputs": [],
   "source": [
    "# Capture loss history\n",
    "history = []"
   ]
  },
  {
   "cell_type": "code",
   "execution_count": 183,
   "metadata": {},
   "outputs": [
    {
     "name": "stdout",
     "output_type": "stream",
     "text": [
      "Epoch: 000.00 | Loss: 276.434967\n",
      "Epoch: 050.00 | Loss:   0.886964\n",
      "Epoch: 100.00 | Loss:   0.005694\n",
      "Epoch: 150.00 | Loss:   0.000002\n",
      "Epoch: 200.00 | Loss:   0.000000\n",
      "Epoch: 250.00 | Loss:   0.000000\n"
     ]
    }
   ],
   "source": [
    "train_it(X, y, torch_reg, n_epochs = 251)"
   ]
  },
  {
   "cell_type": "code",
   "execution_count": 184,
   "metadata": {},
   "outputs": [],
   "source": [
    "# Predict\n",
    "y_pred = torch_reg(X_test)"
   ]
  },
  {
   "cell_type": "code",
   "execution_count": 185,
   "metadata": {},
   "outputs": [
    {
     "data": {
      "text/plain": [
       "tensor(1.4061e-09, grad_fn=<MseLossBackward>)"
      ]
     },
     "execution_count": 185,
     "metadata": {},
     "output_type": "execute_result"
    }
   ],
   "source": [
    "# Compute loss of test\n",
    "loss_func(y_pred, y_test)"
   ]
  },
  {
   "cell_type": "code",
   "execution_count": 186,
   "metadata": {},
   "outputs": [
    {
     "data": {
      "text/plain": [
       "tensor([[26.0000],\n",
       "        [34.0000]], grad_fn=<AddmmBackward>)"
      ]
     },
     "execution_count": 186,
     "metadata": {},
     "output_type": "execute_result"
    }
   ],
   "source": [
    "# Examine predictions\n",
    "y_pred"
   ]
  },
  {
   "cell_type": "code",
   "execution_count": 187,
   "metadata": {},
   "outputs": [],
   "source": [
    "# Nice :)"
   ]
  },
  {
   "cell_type": "code",
   "execution_count": 188,
   "metadata": {},
   "outputs": [
    {
     "data": {
      "image/png": "[encoded data removed]",
      "text/plain": [
       "<Figure size 432x288 with 1 Axes>"
      ]
     },
     "metadata": {},
     "output_type": "display_data"
    }
   ],
   "source": [
    "# Plot loss\n",
    "plt.plot(history, alpha=.5)\n",
    "plt.xlabel('Epoch')\n",
    "plt.ylabel('Loss')\n",
    "plt.title('Training loss vs # of epoch')\n",
    "plt.show()"
   ]
  }
 ],
 "metadata": {
  "kernelspec": {
   "display_name": "Python 3",
   "language": "python",
   "name": "python3"
  },
  "language_info": {
   "codemirror_mode": {
    "name": "ipython",
    "version": 3
   },
   "file_extension": ".py",
   "mimetype": "text/x-python",
   "name": "python",
   "nbconvert_exporter": "python",
   "pygments_lexer": "ipython3",
   "version": "3.6.5"
  }
 },
 "nbformat": 4,
 "nbformat_minor": 2
}
