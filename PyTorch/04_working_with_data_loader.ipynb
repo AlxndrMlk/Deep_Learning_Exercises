{
 "cells": [
  {
   "cell_type": "code",
   "execution_count": 1,
   "metadata": {},
   "outputs": [],
   "source": [
    "import numpy as np\n",
    "import pandas as pd\n",
    "\n",
    "import torch\n",
    "from torch.utils.data import Dataset, DataLoader\n",
    "from torch.autograd import Variable\n",
    "\n",
    "import matplotlib.pyplot as plt\n",
    "plt.style.use('fivethirtyeight')"
   ]
  },
  {
   "cell_type": "markdown",
   "metadata": {},
   "source": [
    "# Working with DataLoader & Dataset class in PyTorch"
   ]
  },
  {
   "cell_type": "markdown",
   "metadata": {},
   "source": [
    "* ## Build Dataset class & instantiate loader"
   ]
  },
  {
   "cell_type": "code",
   "execution_count": 2,
   "metadata": {},
   "outputs": [],
   "source": [
    "# Create dataset class\n",
    "\n",
    "class MyDataset(Dataset):\n",
    "    \n",
    "    # Overwrite __init__\n",
    "    def __init__(self):\n",
    "        \n",
    "        # Download the data:\n",
    "        url = r'https://gist.githubusercontent.com/ktisha/c21e73a1bd1700294ef790c56c8aec1f/raw/819b69b5736821ccee93d05b51de0510bea00294/pima-indians-diabetes.csv'\n",
    "        \n",
    "        colnames = ['times_preg', \n",
    "            'glucose_concent', \n",
    "            'blood_press', \n",
    "            'fold_thick',\n",
    "            'insulin',\n",
    "            'bmi',\n",
    "            'pedigree_func',\n",
    "            'age',\n",
    "            'target']\n",
    "        \n",
    "        data = pd.read_csv(url, \n",
    "                   comment = '#', \n",
    "                   header  = None,\n",
    "                   names   = colnames)\n",
    "        \n",
    "        # Define basics:\n",
    "        self.len = data.shape[0]\n",
    "        self.X   = torch.Tensor(data.drop('target', axis = 1).values)\n",
    "        self.y   = torch.Tensor(data.target.values).view(self.len, 1)\n",
    "        \n",
    "    def __getitem__(self, index):\n",
    "        return self.X[index], self.y[index]\n",
    "    \n",
    "    # Overwrite len()\n",
    "    def __len__(self):\n",
    "        return self.len"
   ]
  },
  {
   "cell_type": "code",
   "execution_count": 3,
   "metadata": {},
   "outputs": [],
   "source": [
    "# Instantiate dataset\n",
    "dataset = MyDataset()"
   ]
  },
  {
   "cell_type": "code",
   "execution_count": 4,
   "metadata": {},
   "outputs": [],
   "source": [
    "# Create DataLoader\n",
    "train_loader = DataLoader(dataset = dataset,\n",
    "                          batch_size = 32,\n",
    "                          shuffle = True,\n",
    "                          num_workers = 0)"
   ]
  },
  {
   "cell_type": "code",
   "execution_count": 5,
   "metadata": {},
   "outputs": [
    {
     "data": {
      "text/plain": [
       "(tensor([  8.0000, 125.0000,  96.0000,   0.0000,   0.0000,   0.0000,   0.2320,\n",
       "          54.0000]), tensor([1.]))"
      ]
     },
     "execution_count": 5,
     "metadata": {},
     "output_type": "execute_result"
    }
   ],
   "source": [
    "# This is cool :)\n",
    "dataset[9]"
   ]
  },
  {
   "cell_type": "code",
   "execution_count": 6,
   "metadata": {},
   "outputs": [
    {
     "data": {
      "text/plain": [
       "torch.Size([768, 8])"
      ]
     },
     "execution_count": 6,
     "metadata": {},
     "output_type": "execute_result"
    }
   ],
   "source": [
    "dataset.X.shape"
   ]
  },
  {
   "cell_type": "markdown",
   "metadata": {},
   "source": [
    "* ## Define the model class"
   ]
  },
  {
   "cell_type": "code",
   "execution_count": 27,
   "metadata": {},
   "outputs": [],
   "source": [
    "class MyModel(torch.nn.Module):\n",
    "    \n",
    "    def __init__(self):\n",
    "        \n",
    "        super(MyModel, self).__init__()\n",
    "        \n",
    "        self.layer_1 = torch.nn.Linear(8, 6)\n",
    "        self.layer_2 = torch.nn.Linear(6, 4)\n",
    "        self.layer_3 = torch.nn.Linear(4, 1)\n",
    "        \n",
    "        self.relu    = torch.nn.ReLU()\n",
    "        self.sigmoid = torch.nn.Sigmoid()\n",
    "        \n",
    "        \n",
    "    def forward(self, x):\n",
    "        \n",
    "        out_1 = self.relu(self.layer_1(x))\n",
    "        out_2 = self.relu(self.layer_2(out_1))\n",
    "        out_3 = self.sigmoid(self.layer_3(out_2))\n",
    "        \n",
    "        return out_3"
   ]
  },
  {
   "cell_type": "code",
   "execution_count": 28,
   "metadata": {},
   "outputs": [],
   "source": [
    "# Instatntiate the model\n",
    "model = MyModel()"
   ]
  },
  {
   "cell_type": "code",
   "execution_count": 17,
   "metadata": {},
   "outputs": [],
   "source": [
    "# Define loss & optimizer\n",
    "loss_func = torch.nn.BCELoss(reduction = 'mean')\n",
    "optimizer = torch.optim.Adam(model.parameters(), lr = 0.0003)"
   ]
  },
  {
   "cell_type": "code",
   "execution_count": 18,
   "metadata": {},
   "outputs": [],
   "source": [
    "# Capture loss history\n",
    "history = []"
   ]
  },
  {
   "cell_type": "code",
   "execution_count": 19,
   "metadata": {},
   "outputs": [],
   "source": [
    "# Define training function\n",
    "def train_it(model, n_epochs = 500, granularity = 10):\n",
    "    \n",
    "    for epoch in range(n_epochs):\n",
    "        \n",
    "        if epoch % granularity == 0:\n",
    "            print(f\"Epoch: {epoch:9}\")\n",
    "        \n",
    "        for i, data in enumerate(train_loader):\n",
    "            \n",
    "#             print(f'Batch: {i:08.2f}')\n",
    "            \n",
    "            # Get the inputs\n",
    "            inputs, labels = data\n",
    "            \n",
    "            inputs, labels = Variable(inputs), Variable(labels)\n",
    "            \n",
    "            y_pred = model(inputs)\n",
    "            \n",
    "            loss = loss_func(y_pred, labels) \n",
    "\n",
    "            # Reset gradients, perform backprop, perform optimizer step\n",
    "            optimizer.zero_grad()\n",
    "            loss.backward()\n",
    "            optimizer.step()\n",
    "            \n",
    "        history.append(loss) \n",
    "        \n",
    "        if epoch % granularity == 0:\n",
    "            print(f\"Loss: {loss:10.6f}\") \n",
    "            print('-' * 10)\n",
    "            "
   ]
  },
  {
   "cell_type": "code",
   "execution_count": 20,
   "metadata": {},
   "outputs": [
    {
     "name": "stdout",
     "output_type": "stream",
     "text": [
      "Epoch:         0\n",
      "Loss:   3.107102\n",
      "----------\n",
      "Epoch:        50\n",
      "Loss:   0.538146\n",
      "----------\n",
      "Epoch:       100\n",
      "Loss:   0.514239\n",
      "----------\n",
      "Epoch:       150\n",
      "Loss:   0.597138\n",
      "----------\n",
      "Epoch:       200\n",
      "Loss:   0.548940\n",
      "----------\n",
      "Epoch:       250\n",
      "Loss:   0.658546\n",
      "----------\n",
      "Epoch:       300\n",
      "Loss:   0.475449\n",
      "----------\n",
      "Epoch:       350\n",
      "Loss:   0.359029\n",
      "----------\n",
      "Epoch:       400\n",
      "Loss:   0.519803\n",
      "----------\n",
      "Epoch:       450\n",
      "Loss:   0.519673\n",
      "----------\n",
      "Epoch:       500\n",
      "Loss:   0.389948\n",
      "----------\n"
     ]
    }
   ],
   "source": [
    "train_it(model, 501, 50)"
   ]
  },
  {
   "cell_type": "code",
   "execution_count": 21,
   "metadata": {},
   "outputs": [
    {
     "data": {
      "image/png": "[encoded data removed]",
      "text/plain": [
       "<Figure size 432x288 with 1 Axes>"
      ]
     },
     "metadata": {},
     "output_type": "display_data"
    }
   ],
   "source": [
    "# Plot loss\n",
    "plt.plot(history, alpha=.5, label='Train')\n",
    "plt.legend()\n",
    "plt.xlabel('Epoch')\n",
    "plt.ylabel('Loss')\n",
    "plt.title('Training loss vs # of epoch')\n",
    "plt.show()"
   ]
  },
  {
   "cell_type": "code",
   "execution_count": 22,
   "metadata": {},
   "outputs": [],
   "source": [
    "# Predict\n",
    "y_pred = model(dataset.X)"
   ]
  },
  {
   "cell_type": "code",
   "execution_count": 24,
   "metadata": {},
   "outputs": [
    {
     "data": {
      "text/plain": [
       "array([0.78255208])"
      ]
     },
     "execution_count": 24,
     "metadata": {},
     "output_type": "execute_result"
    }
   ],
   "source": [
    "# Examine predictions - accuracy\n",
    "sum((y_pred > .5).numpy() == dataset.y.numpy()) / len(dataset)"
   ]
  },
  {
   "cell_type": "code",
   "execution_count": null,
   "metadata": {},
   "outputs": [],
   "source": []
  }
 ],
 "metadata": {
  "kernelspec": {
   "display_name": "Python 3",
   "language": "python",
   "name": "python3"
  },
  "language_info": {
   "codemirror_mode": {
    "name": "ipython",
    "version": 3
   },
   "file_extension": ".py",
   "mimetype": "text/x-python",
   "name": "python",
   "nbconvert_exporter": "python",
   "pygments_lexer": "ipython3",
   "version": "3.6.5"
  }
 },
 "nbformat": 4,
 "nbformat_minor": 2
}
