{
 "cells": [
  {
   "cell_type": "code",
   "execution_count": 1,
   "metadata": {},
   "outputs": [],
   "source": [
    "import numpy as np\n",
    "import torch\n",
    "from torch.autograd import Variable\n",
    "\n",
    "import matplotlib.pyplot as plt\n",
    "plt.style.use('fivethirtyeight')"
   ]
  },
  {
   "cell_type": "markdown",
   "metadata": {},
   "source": [
    "# Logistic regression in PyTorch"
   ]
  },
  {
   "cell_type": "code",
   "execution_count": 62,
   "metadata": {},
   "outputs": [],
   "source": [
    "# Generate toy training data\n",
    "X = np.random.randn(100, 2, 1).squeeze()\n",
    "y = (6.7 * X[:, 0] + 2.6 * X[:, 1]) > 0\n",
    "\n",
    "# Convert to tensors\n",
    "X = Variable(torch.Tensor(X))\n",
    "y = Variable(torch.Tensor(y.astype(float)))\n",
    "\n",
    "# Reshape target to match input\n",
    "y = y.view(100, 1)"
   ]
  },
  {
   "cell_type": "code",
   "execution_count": 63,
   "metadata": {},
   "outputs": [],
   "source": [
    "# Generate toy test data\n",
    "X_test = np.random.randn(100, 2, 1).squeeze()\n",
    "y_test = (6.7 * X_test[:, 0] + 2.6 * X_test[:, 1]) > 0\n",
    "\n",
    "# Convert to tensors\n",
    "X_test = Variable(torch.Tensor(X_test))\n",
    "y_test = Variable(torch.Tensor(y_test.astype(float)))\n",
    "\n",
    "# Reshape target to match input\n",
    "y_test = y_test.view(100, 1)"
   ]
  },
  {
   "cell_type": "code",
   "execution_count": 64,
   "metadata": {},
   "outputs": [],
   "source": [
    "# Define the model class\n",
    "\n",
    "class Model(torch.nn.Module):\n",
    "    \n",
    "    def __init__(self):\n",
    "        super(Model, self).__init__()\n",
    "        self.linear = torch.nn.Linear(2, 1)   # Define in & out size\n",
    "        \n",
    "    def forward(self, x):\n",
    "        return torch.sigmoid(self.linear(x))  # Sigmoid "
   ]
  },
  {
   "cell_type": "code",
   "execution_count": 65,
   "metadata": {},
   "outputs": [],
   "source": [
    "# Instatiate the model\n",
    "log_reg = Model()"
   ]
  },
  {
   "cell_type": "code",
   "execution_count": 66,
   "metadata": {},
   "outputs": [],
   "source": [
    "# Define optimization and loss\n",
    "loss_func = torch.nn.BCELoss(reduction = 'mean')              # Binary Cross-Entropy\n",
    "optimizer = torch.optim.Adam(log_reg.parameters(), lr = 29)   # Adam"
   ]
  },
  {
   "cell_type": "code",
   "execution_count": 67,
   "metadata": {},
   "outputs": [],
   "source": [
    "# Create a list to capture loss history\n",
    "history = []"
   ]
  },
  {
   "cell_type": "code",
   "execution_count": 68,
   "metadata": {},
   "outputs": [],
   "source": [
    "# Define training function\n",
    "def train_it(x, y, model, n_epochs = 500):\n",
    "    \n",
    "    for epoch in range(n_epochs):\n",
    "        y_pred = model(x)\n",
    "\n",
    "        loss = loss_func(y_pred, y)\n",
    "        \n",
    "        history.append(loss)\n",
    "        \n",
    "        if epoch % 50 == 0:\n",
    "            print(f\"Epoch: {epoch:06.2f} | Loss: {loss:10.6f}\")\n",
    "\n",
    "        # Reset gradients, perform backprop, perform optimizer step\n",
    "        optimizer.zero_grad()\n",
    "        loss.backward()\n",
    "        optimizer.step()"
   ]
  },
  {
   "cell_type": "code",
   "execution_count": 69,
   "metadata": {},
   "outputs": [
    {
     "name": "stdout",
     "output_type": "stream",
     "text": [
      "Epoch: 000.00 | Loss:   0.691812\n",
      "Epoch: 050.00 | Loss:   0.000010\n",
      "Epoch: 100.00 | Loss:   0.000014\n",
      "Epoch: 150.00 | Loss:   0.000005\n",
      "Epoch: 200.00 | Loss:   0.000003\n",
      "Epoch: 250.00 | Loss:   0.000002\n",
      "Epoch: 300.00 | Loss:   0.000002\n",
      "Epoch: 350.00 | Loss:   0.000001\n",
      "Epoch: 400.00 | Loss:   0.000001\n",
      "Epoch: 450.00 | Loss:   0.000001\n",
      "Epoch: 500.00 | Loss:   0.000001\n"
     ]
    }
   ],
   "source": [
    "# Train the model\n",
    "train_it(X, y, log_reg, n_epochs = 501)"
   ]
  },
  {
   "cell_type": "code",
   "execution_count": 70,
   "metadata": {},
   "outputs": [],
   "source": [
    "# Predict\n",
    "y_pred = log_reg(X_test)"
   ]
  },
  {
   "cell_type": "code",
   "execution_count": 71,
   "metadata": {},
   "outputs": [
    {
     "data": {
      "text/plain": [
       "tensor(0.0013, grad_fn=<BinaryCrossEntropyBackward>)"
      ]
     },
     "execution_count": 71,
     "metadata": {},
     "output_type": "execute_result"
    }
   ],
   "source": [
    "# Compute loss of test\n",
    "loss_func(y_pred, y_test)"
   ]
  },
  {
   "cell_type": "code",
   "execution_count": 72,
   "metadata": {},
   "outputs": [
    {
     "data": {
      "text/plain": [
       "array([1.])"
      ]
     },
     "execution_count": 72,
     "metadata": {},
     "output_type": "execute_result"
    }
   ],
   "source": [
    "# Examine predictions - accuracy\n",
    "sum((y_pred > .5).numpy() == y_test.numpy()) / len(y_test)"
   ]
  },
  {
   "cell_type": "code",
   "execution_count": 73,
   "metadata": {},
   "outputs": [],
   "source": [
    "# Well done! :)"
   ]
  },
  {
   "cell_type": "code",
   "execution_count": 74,
   "metadata": {
    "scrolled": true
   },
   "outputs": [
    {
     "data": {
      "image/png": "[encoded data removed]",
      "text/plain": [
       "<Figure size 432x288 with 1 Axes>"
      ]
     },
     "metadata": {},
     "output_type": "display_data"
    }
   ],
   "source": [
    "# Plot loss\n",
    "plt.plot(history, alpha=.5)\n",
    "plt.xlabel('Epoch')\n",
    "plt.ylabel('Loss')\n",
    "plt.title('Training loss vs # of epoch')\n",
    "plt.show()"
   ]
  }
 ],
 "metadata": {
  "kernelspec": {
   "display_name": "Python 3",
   "language": "python",
   "name": "python3"
  },
  "language_info": {
   "codemirror_mode": {
    "name": "ipython",
    "version": 3
   },
   "file_extension": ".py",
   "mimetype": "text/x-python",
   "name": "python",
   "nbconvert_exporter": "python",
   "pygments_lexer": "ipython3",
   "version": "3.6.5"
  }
 },
 "nbformat": 4,
 "nbformat_minor": 2
}
