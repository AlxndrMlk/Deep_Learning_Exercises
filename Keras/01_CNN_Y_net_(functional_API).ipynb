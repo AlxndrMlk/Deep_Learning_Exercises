{
 "cells": [
  {
   "cell_type": "code",
   "execution_count": 1,
   "metadata": {
    "colab": {
     "base_uri": "https://localhost:8080/",
     "height": 36
    },
    "colab_type": "code",
    "id": "jinW_szx5tfG",
    "outputId": "0813e067-f5a2-449e-9953-6cb7b62fbeee"
   },
   "outputs": [
    {
     "name": "stderr",
     "output_type": "stream",
     "text": [
      "Using TensorFlow backend.\n"
     ]
    }
   ],
   "source": [
    "import numpy as np\n",
    "\n",
    "from keras.layers import Input, Dropout, Dense\n",
    "from keras.layers import Conv2D, MaxPooling2D, Flatten\n",
    "\n",
    "from keras.models import Model\n",
    "\n",
    "from keras.layers.merge import concatenate\n",
    "from keras.utils import to_categorical\n",
    "from keras.utils import plot_model\n",
    "\n",
    "from keras.datasets import mnist\n",
    "\n",
    "import matplotlib.pyplot as plt"
   ]
  },
  {
   "cell_type": "markdown",
   "metadata": {
    "colab_type": "text",
    "id": "Jn8nyvgb5tfV"
   },
   "source": [
    "# Build a CNN Y-net with two independent inputs \n",
    " using Keras functional API"
   ]
  },
  {
   "cell_type": "markdown",
   "metadata": {
    "colab_type": "text",
    "id": "Nw4H6MQ85tfX"
   },
   "source": [
    "* ## Read & convert the data"
   ]
  },
  {
   "cell_type": "code",
   "execution_count": 2,
   "metadata": {
    "colab": {
     "base_uri": "https://localhost:8080/",
     "height": 54
    },
    "colab_type": "code",
    "id": "1s8DXiJl5tfY",
    "outputId": "e5ae5d2f-db98-453c-fff1-51aa3a6579bf"
   },
   "outputs": [
    {
     "name": "stdout",
     "output_type": "stream",
     "text": [
      "Downloading data from https://s3.amazonaws.com/img-datasets/mnist.npz\n",
      "11493376/11490434 [==============================] - 2s 0us/step\n"
     ]
    }
   ],
   "source": [
    "(X_train, y_train), (X_test, y_test) = mnist.load_data()"
   ]
  },
  {
   "cell_type": "code",
   "execution_count": 3,
   "metadata": {
    "colab": {
     "base_uri": "https://localhost:8080/",
     "height": 36
    },
    "colab_type": "code",
    "id": "mV7P4vA05tfe",
    "outputId": "1d97f8a1-66ab-4556-ed0d-15af16a91768"
   },
   "outputs": [
    {
     "data": {
      "text/plain": [
       "(60000, 28, 28)"
      ]
     },
     "execution_count": 3,
     "metadata": {
      "tags": []
     },
     "output_type": "execute_result"
    }
   ],
   "source": [
    "X_train.shape"
   ]
  },
  {
   "cell_type": "code",
   "execution_count": 4,
   "metadata": {
    "colab": {
     "base_uri": "https://localhost:8080/",
     "height": 269
    },
    "colab_type": "code",
    "id": "uolvPhtp5tfl",
    "outputId": "d359d887-d74b-424b-d392-d14b19648eb9"
   },
   "outputs": [
    {
     "data": {
      "image/png": "[encoded data removed]",
      "text/plain": [
       "<Figure size 432x288 with 1 Axes>"
      ]
     },
     "metadata": {
      "tags": []
     },
     "output_type": "display_data"
    }
   ],
   "source": [
    "# Show a randomly selected pic from the dataset\n",
    "plt.imshow(X_train[np.random.randint(60000)], cmap = 'gray')\n",
    "plt.show()"
   ]
  },
  {
   "cell_type": "code",
   "execution_count": 0,
   "metadata": {
    "colab": {},
    "colab_type": "code",
    "id": "BX_0P3KN5tfv"
   },
   "outputs": [],
   "source": [
    "# No. of labels\n",
    "n_labels = len(np.unique(y_train))"
   ]
  },
  {
   "cell_type": "code",
   "execution_count": 6,
   "metadata": {
    "colab": {
     "base_uri": "https://localhost:8080/",
     "height": 36
    },
    "colab_type": "code",
    "id": "nC8iRXfJ5tf0",
    "outputId": "004e7301-5dc0-49b7-cd4d-c69a265f3fb4"
   },
   "outputs": [
    {
     "data": {
      "text/plain": [
       "10"
      ]
     },
     "execution_count": 6,
     "metadata": {
      "tags": []
     },
     "output_type": "execute_result"
    }
   ],
   "source": [
    "n_labels"
   ]
  },
  {
   "cell_type": "code",
   "execution_count": 0,
   "metadata": {
    "colab": {},
    "colab_type": "code",
    "id": "TWXx0fSO5tf8"
   },
   "outputs": [],
   "source": [
    "# Image size\n",
    "img_size = X_train.shape[1]"
   ]
  },
  {
   "cell_type": "code",
   "execution_count": 0,
   "metadata": {
    "colab": {},
    "colab_type": "code",
    "id": "7rvgKNSn5tgC"
   },
   "outputs": [],
   "source": [
    "# Convert labels to categoroical\n",
    "y_train = to_categorical(y_train)\n",
    "y_test = to_categorical(y_test)"
   ]
  },
  {
   "cell_type": "code",
   "execution_count": 0,
   "metadata": {
    "colab": {},
    "colab_type": "code",
    "id": "UNtJz6j05tgN"
   },
   "outputs": [],
   "source": [
    "# Reshape and noemalize input imgs\n",
    "X_train = X_train.reshape([-1, img_size, img_size, 1])\n",
    "X_test = X_test.reshape([-1, img_size, img_size, 1])"
   ]
  },
  {
   "cell_type": "code",
   "execution_count": 0,
   "metadata": {
    "colab": {},
    "colab_type": "code",
    "id": "HWpHthNm5tgS"
   },
   "outputs": [],
   "source": [
    "# Normalize \n",
    "X_train = X_train.astype('float32') / 255\n",
    "X_test = X_test.astype('float32') / 255"
   ]
  },
  {
   "cell_type": "markdown",
   "metadata": {
    "colab_type": "text",
    "id": "YYVRyjSf5tgW"
   },
   "source": [
    "* ## Define net params"
   ]
  },
  {
   "cell_type": "code",
   "execution_count": 0,
   "metadata": {
    "colab": {},
    "colab_type": "code",
    "id": "avATfC_S5tgX"
   },
   "outputs": [],
   "source": [
    "input_shape = (img_size, img_size, 1)\n",
    "batch_size = 32\n",
    "kernel_size = 3\n",
    "dropout = .4\n",
    "n_filters = 32"
   ]
  },
  {
   "cell_type": "markdown",
   "metadata": {
    "colab_type": "text",
    "id": "EtI1it435tgb"
   },
   "source": [
    "* ## Build the model"
   ]
  },
  {
   "cell_type": "code",
   "execution_count": 12,
   "metadata": {
    "colab": {
     "base_uri": "https://localhost:8080/",
     "height": 149
    },
    "colab_type": "code",
    "id": "_jZ-xXd85tgd",
    "outputId": "df8d6356-4ba5-484e-bf8e-7e2b1e17b7f4"
   },
   "outputs": [
    {
     "name": "stdout",
     "output_type": "stream",
     "text": [
      "WARNING:tensorflow:From /usr/local/lib/python3.6/dist-packages/tensorflow/python/framework/op_def_library.py:263: colocate_with (from tensorflow.python.framework.ops) is deprecated and will be removed in a future version.\n",
      "Instructions for updating:\n",
      "Colocations handled automatically by placer.\n",
      "WARNING:tensorflow:From /usr/local/lib/python3.6/dist-packages/keras/backend/tensorflow_backend.py:3445: calling dropout (from tensorflow.python.ops.nn_ops) with keep_prob is deprecated and will be removed in a future version.\n",
      "Instructions for updating:\n",
      "Please use `rate` instead of `keep_prob`. Rate should be set to `rate = 1 - keep_prob`.\n"
     ]
    }
   ],
   "source": [
    "# Left branch\n",
    "inputs_left = Input(shape = input_shape)\n",
    "x1 = inputs_left\n",
    "filters = n_filters\n",
    "\n",
    "# Build 3 layers of Conv2D-Dropout-Pooling\n",
    "for i in range(3):\n",
    "    x1 = Conv2D(filters = filters, \n",
    "                kernel_size = kernel_size,\n",
    "                padding = 'same', \n",
    "                activation = 'relu')(x1)\n",
    "    x1 = Dropout(dropout)(x1)\n",
    "    x1 = MaxPooling2D()(x1)\n",
    "    filters *= 2"
   ]
  },
  {
   "cell_type": "code",
   "execution_count": 0,
   "metadata": {
    "colab": {},
    "colab_type": "code",
    "id": "zPrUz84A5tgg"
   },
   "outputs": [],
   "source": [
    "# Right branch\n",
    "inputs_right = Input(shape = input_shape)\n",
    "x2 = inputs_right\n",
    "filters = n_filters\n",
    "\n",
    "# Build 3 layers of Conv2D-Dropout-Pooling\n",
    "for i in range(3):\n",
    "    x2 = Conv2D(filters = filters, \n",
    "                kernel_size = kernel_size,\n",
    "                padding = 'same', \n",
    "                activation = 'relu',\n",
    "                dilation_rate = 2)(x2)\n",
    "    x2 = Dropout(dropout)(x2)\n",
    "    x2 = MaxPooling2D()(x2)\n",
    "    filters *= 2"
   ]
  },
  {
   "cell_type": "code",
   "execution_count": 0,
   "metadata": {
    "colab": {},
    "colab_type": "code",
    "id": "Z0YsLjKo5tgk"
   },
   "outputs": [],
   "source": [
    "# Merge inputs\n",
    "y = concatenate([x1, x2])\n",
    "\n",
    "# Flatten & dropout\n",
    "y = Flatten()(y)\n",
    "y = Dropout(dropout)(y)\n",
    "\n",
    "output = Dense(n_labels, activation = 'softmax')(y)"
   ]
  },
  {
   "cell_type": "code",
   "execution_count": 0,
   "metadata": {
    "colab": {},
    "colab_type": "code",
    "id": "KvWnaveu5tgo"
   },
   "outputs": [],
   "source": [
    "# Build the model\n",
    "model = Model([inputs_left, inputs_right], output)"
   ]
  },
  {
   "cell_type": "code",
   "execution_count": 0,
   "metadata": {
    "colab": {},
    "colab_type": "code",
    "id": "7WAh4nwT5tgr"
   },
   "outputs": [],
   "source": [
    "plot_model(model, to_file = 'model_01.png')"
   ]
  },
  {
   "cell_type": "code",
   "execution_count": 17,
   "metadata": {
    "colab": {
     "base_uri": "https://localhost:8080/",
     "height": 949
    },
    "colab_type": "code",
    "id": "AObPifAx5tgy",
    "outputId": "f52862eb-4cab-42ed-d035-23f772442410"
   },
   "outputs": [
    {
     "data": {
      "image/png": "[encoded data removed]",
      "text/plain": [
       "<Figure size 2376x1188 with 1 Axes>"
      ]
     },
     "metadata": {
      "tags": []
     },
     "output_type": "display_data"
    }
   ],
   "source": [
    "png = plt.imread('model_01.png')\n",
    "plt.figure(figsize = (33, 16.5))\n",
    "plt.imshow(png)\n",
    "plt.axis('off')\n",
    "plt.show()"
   ]
  },
  {
   "cell_type": "markdown",
   "metadata": {
    "colab_type": "text",
    "id": "qMuv-VMm5tg8"
   },
   "source": [
    "* ## Compile the model"
   ]
  },
  {
   "cell_type": "code",
   "execution_count": 0,
   "metadata": {
    "colab": {},
    "colab_type": "code",
    "id": "6rjH2qP65tg-"
   },
   "outputs": [],
   "source": [
    "model.compile(loss = 'categorical_crossentropy',\n",
    "              optimizer = 'adam', \n",
    "              metrics = ['accuracy'])"
   ]
  },
  {
   "cell_type": "markdown",
   "metadata": {
    "colab_type": "text",
    "id": "NTrACIiv5thA"
   },
   "source": [
    "* ## Fit the model"
   ]
  },
  {
   "cell_type": "code",
   "execution_count": 20,
   "metadata": {
    "colab": {
     "base_uri": "https://localhost:8080/",
     "height": 802
    },
    "colab_type": "code",
    "id": "79OTlgub5thC",
    "outputId": "b3bb67b6-15bd-44f1-fb9c-fc2a24c92ad9"
   },
   "outputs": [
    {
     "name": "stdout",
     "output_type": "stream",
     "text": [
      "Train on 60000 samples, validate on 10000 samples\n",
      "Epoch 1/20\n",
      "60000/60000 [==============================] - 15s 254us/step - loss: 0.0795 - acc: 0.9756 - val_loss: 0.1287 - val_acc: 0.9889\n",
      "Epoch 2/20\n",
      "60000/60000 [==============================] - 15s 249us/step - loss: 0.0559 - acc: 0.9824 - val_loss: 0.0774 - val_acc: 0.9902\n",
      "Epoch 3/20\n",
      "60000/60000 [==============================] - 15s 254us/step - loss: 0.0502 - acc: 0.9836 - val_loss: 0.0686 - val_acc: 0.9918\n",
      "Epoch 4/20\n",
      "60000/60000 [==============================] - 15s 253us/step - loss: 0.0440 - acc: 0.9860 - val_loss: 0.0746 - val_acc: 0.9919\n",
      "Epoch 5/20\n",
      "60000/60000 [==============================] - 16s 260us/step - loss: 0.0417 - acc: 0.9866 - val_loss: 0.0566 - val_acc: 0.9929\n",
      "Epoch 6/20\n",
      "60000/60000 [==============================] - 15s 253us/step - loss: 0.0375 - acc: 0.9881 - val_loss: 0.0394 - val_acc: 0.9935\n",
      "Epoch 7/20\n",
      "60000/60000 [==============================] - 15s 250us/step - loss: 0.0372 - acc: 0.9887 - val_loss: 0.0513 - val_acc: 0.9934\n",
      "Epoch 8/20\n",
      "60000/60000 [==============================] - 15s 255us/step - loss: 0.0337 - acc: 0.9894 - val_loss: 0.0443 - val_acc: 0.9921\n",
      "Epoch 9/20\n",
      "60000/60000 [==============================] - 15s 255us/step - loss: 0.0344 - acc: 0.9892 - val_loss: 0.0555 - val_acc: 0.9940\n",
      "Epoch 10/20\n",
      "60000/60000 [==============================] - 15s 248us/step - loss: 0.0334 - acc: 0.9895 - val_loss: 0.0328 - val_acc: 0.9933\n",
      "Epoch 11/20\n",
      "60000/60000 [==============================] - 15s 251us/step - loss: 0.0337 - acc: 0.9892 - val_loss: 0.0321 - val_acc: 0.9946\n",
      "Epoch 12/20\n",
      "60000/60000 [==============================] - 15s 248us/step - loss: 0.0308 - acc: 0.9906 - val_loss: 0.0393 - val_acc: 0.9936\n",
      "Epoch 13/20\n",
      "60000/60000 [==============================] - 15s 247us/step - loss: 0.0322 - acc: 0.9903 - val_loss: 0.0356 - val_acc: 0.9941\n",
      "Epoch 14/20\n",
      "60000/60000 [==============================] - 15s 256us/step - loss: 0.0313 - acc: 0.9903 - val_loss: 0.0381 - val_acc: 0.9927\n",
      "Epoch 15/20\n",
      "60000/60000 [==============================] - 15s 246us/step - loss: 0.0301 - acc: 0.9906 - val_loss: 0.0311 - val_acc: 0.9918\n",
      "Epoch 16/20\n",
      "60000/60000 [==============================] - 15s 246us/step - loss: 0.0307 - acc: 0.9905 - val_loss: 0.0365 - val_acc: 0.9936\n",
      "Epoch 17/20\n",
      "60000/60000 [==============================] - 15s 246us/step - loss: 0.0290 - acc: 0.9908 - val_loss: 0.0321 - val_acc: 0.9937\n",
      "Epoch 18/20\n",
      "60000/60000 [==============================] - 15s 248us/step - loss: 0.0300 - acc: 0.9913 - val_loss: 0.0322 - val_acc: 0.9940\n",
      "Epoch 19/20\n",
      "60000/60000 [==============================] - 15s 252us/step - loss: 0.0315 - acc: 0.9904 - val_loss: 0.0316 - val_acc: 0.9929\n",
      "Epoch 20/20\n",
      "60000/60000 [==============================] - 15s 252us/step - loss: 0.0278 - acc: 0.9918 - val_loss: 0.0318 - val_acc: 0.9935\n"
     ]
    },
    {
     "data": {
      "text/plain": [
       "<keras.callbacks.History at 0x7f5e7ed874e0>"
      ]
     },
     "execution_count": 20,
     "metadata": {
      "tags": []
     },
     "output_type": "execute_result"
    }
   ],
   "source": [
    "model.fit([X_train, X_train], y_train,\n",
    "          validation_data = ([X_test, X_test], y_test),\n",
    "          epochs = 20, \n",
    "          batch_size = batch_size)"
   ]
  },
  {
   "cell_type": "markdown",
   "metadata": {
    "colab_type": "text",
    "id": "zBpExkXk8Kfk"
   },
   "source": [
    "* ## Examine and evaluate model"
   ]
  },
  {
   "cell_type": "code",
   "execution_count": 25,
   "metadata": {
    "colab": {
     "base_uri": "https://localhost:8080/",
     "height": 283
    },
    "colab_type": "code",
    "id": "6UoU0KNh5thG",
    "outputId": "5e96bcbb-9114-4b90-fe68-bdaa85313ae7"
   },
   "outputs": [
    {
     "data": {
      "image/png": "[encoded data removed]",
      "text/plain": [
       "<Figure size 432x288 with 1 Axes>"
      ]
     },
     "metadata": {
      "tags": []
     },
     "output_type": "display_data"
    }
   ],
   "source": [
    "plt.plot(model.history.history['loss'])\n",
    "plt.xlabel('Epoch')\n",
    "plt.ylabel('Loss')\n",
    "plt.show()"
   ]
  },
  {
   "cell_type": "code",
   "execution_count": 26,
   "metadata": {
    "colab": {
     "base_uri": "https://localhost:8080/",
     "height": 54
    },
    "colab_type": "code",
    "id": "NARCaDfp7rqA",
    "outputId": "77e198a6-3d99-4466-89c0-64fc009b09c3"
   },
   "outputs": [
    {
     "name": "stdout",
     "output_type": "stream",
     "text": [
      "10000/10000 [==============================] - 1s 81us/step\n"
     ]
    },
    {
     "data": {
      "text/plain": [
       "[0.03178207706678659, 0.9935]"
      ]
     },
     "execution_count": 26,
     "metadata": {
      "tags": []
     },
     "output_type": "execute_result"
    }
   ],
   "source": [
    "model.evaluate([X_test, X_test], y_test, batch_size = batch_size)"
   ]
  },
  {
   "cell_type": "code",
   "execution_count": 0,
   "metadata": {
    "colab": {},
    "colab_type": "code",
    "id": "PLYpaBag8Yey"
   },
   "outputs": [],
   "source": []
  }
 ],
 "metadata": {
  "accelerator": "GPU",
  "colab": {
   "name": "01_CNN-Y-net_(functional_API).ipynb",
   "provenance": [],
   "version": "0.3.2"
  },
  "kernelspec": {
   "display_name": "Python 3",
   "language": "python",
   "name": "python3"
  },
  "language_info": {
   "codemirror_mode": {
    "name": "ipython",
    "version": 3
   },
   "file_extension": ".py",
   "mimetype": "text/x-python",
   "name": "python",
   "nbconvert_exporter": "python",
   "pygments_lexer": "ipython3",
   "version": "3.6.5"
  }
 },
 "nbformat": 4,
 "nbformat_minor": 1
}
