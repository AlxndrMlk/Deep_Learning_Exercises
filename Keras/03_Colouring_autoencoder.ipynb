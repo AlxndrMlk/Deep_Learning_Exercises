{
  "nbformat": 4,
  "nbformat_minor": 0,
  "metadata": {
    "colab": {
      "name": "03_Colouring_autoencoder.ipynb",
      "version": "0.3.2",
      "provenance": []
    },
    "language_info": {
      "codemirror_mode": {
        "name": "ipython",
        "version": 3
      },
      "file_extension": ".py",
      "mimetype": "text/x-python",
      "name": "python",
      "nbconvert_exporter": "python",
      "pygments_lexer": "ipython3",
      "version": "3.6.5"
    },
    "kernelspec": {
      "name": "python3",
      "display_name": "Python 3"
    },
    "accelerator": "GPU"
  },
  "cells": [
    {
      "cell_type": "code",
      "metadata": {
        "id": "Ff8XYcKsTsI4",
        "colab_type": "code",
        "colab": {
          "base_uri": "https://localhost:8080/",
          "height": 36
        },
        "outputId": "0ba2e361-2522-4960-9781-c7451365b397"
      },
      "source": [
        "import os\n",
        "import numpy as np\n",
        "\n",
        "from keras.layers import Dense, Input, Conv2D, Flatten\n",
        "from keras.layers import Reshape, Conv2DTranspose\n",
        "\n",
        "from keras.models import Model\n",
        "from keras import backend as K\n",
        "\n",
        "from keras.callbacks import ReduceLROnPlateau, ModelCheckpoint\n",
        "\n",
        "from keras.datasets import cifar10\n",
        "from keras.utils import plot_model\n",
        "\n",
        "import matplotlib.pyplot as plt\n",
        "plt.style.use('fivethirtyeight')"
      ],
      "execution_count": 1,
      "outputs": [
        {
          "output_type": "stream",
          "text": [
            "Using TensorFlow backend.\n"
          ],
          "name": "stderr"
        }
      ]
    },
    {
      "cell_type": "code",
      "metadata": {
        "id": "BXiQvwXJTsJB",
        "colab_type": "code",
        "colab": {}
      },
      "source": [
        "# Define a func to get a gray-scale image\n",
        "def get_gray(data):\n",
        "    return data[..., :3].dot([.299, .587, .114]) "
      ],
      "execution_count": 0,
      "outputs": []
    },
    {
      "cell_type": "code",
      "metadata": {
        "id": "PHD28vK-TsJH",
        "colab_type": "code",
        "colab": {}
      },
      "source": [
        "def normalize_it(images):\n",
        "    return images.astype('float32') / 255"
      ],
      "execution_count": 0,
      "outputs": []
    },
    {
      "cell_type": "markdown",
      "metadata": {
        "id": "g-wTlyI1TsJO",
        "colab_type": "text"
      },
      "source": [
        "# Colouring autoencoder with Keras"
      ]
    },
    {
      "cell_type": "markdown",
      "metadata": {
        "id": "VR_GCnTATsJR",
        "colab_type": "text"
      },
      "source": [
        "## Load, examine & transform the data"
      ]
    },
    {
      "cell_type": "code",
      "metadata": {
        "id": "NVdB8bP_TsJS",
        "colab_type": "code",
        "colab": {}
      },
      "source": [
        "(X_train, _), (X_test, _) = cifar10.load_data()"
      ],
      "execution_count": 0,
      "outputs": []
    },
    {
      "cell_type": "code",
      "metadata": {
        "id": "R-Y3I0R4TsJX",
        "colab_type": "code",
        "colab": {
          "base_uri": "https://localhost:8080/",
          "height": 36
        },
        "outputId": "0d055170-8beb-480a-fe72-c5a813670b0b"
      },
      "source": [
        "# Check dimensions\n",
        "X_train.shape"
      ],
      "execution_count": 5,
      "outputs": [
        {
          "output_type": "execute_result",
          "data": {
            "text/plain": [
              "(50000, 32, 32, 3)"
            ]
          },
          "metadata": {
            "tags": []
          },
          "execution_count": 5
        }
      ]
    },
    {
      "cell_type": "code",
      "metadata": {
        "id": "17dHATuXTsJj",
        "colab_type": "code",
        "colab": {}
      },
      "source": [
        "# Get dimensions\n",
        "img_rows = X_train.shape[1]\n",
        "img_cols = X_train.shape[2]\n",
        "channels = X_train.shape[3]"
      ],
      "execution_count": 0,
      "outputs": []
    },
    {
      "cell_type": "markdown",
      "metadata": {
        "id": "uU6VFZtfTsJs",
        "colab_type": "text"
      },
      "source": [
        "* ### Convert imgs to grayscale"
      ]
    },
    {
      "cell_type": "code",
      "metadata": {
        "id": "6nTqkZKaTsJv",
        "colab_type": "code",
        "colab": {}
      },
      "source": [
        "X_train_gray = get_gray(X_train)\n",
        "X_test_gray = get_gray(X_test)"
      ],
      "execution_count": 0,
      "outputs": []
    },
    {
      "cell_type": "code",
      "metadata": {
        "id": "k9TkiwalTsJ2",
        "colab_type": "code",
        "colab": {
          "base_uri": "https://localhost:8080/",
          "height": 551
        },
        "outputId": "a3ea5dc1-ad95-41f4-b446-3ba13f52913c"
      },
      "source": [
        "pic_no = np.random.randint(X_test.shape[0])\n",
        "\n",
        "plt.imshow(X_test[pic_no].squeeze())\n",
        "plt.show()\n",
        "\n",
        "plt.imshow(X_test_gray[pic_no].squeeze(), \n",
        "           cmap = 'gray')\n",
        "plt.show()"
      ],
      "execution_count": 8,
      "outputs": [
        {
          "output_type": "display_data",
          "data": {
            "image/png": "[encoded data removed]",
            "text/plain": [
              "<Figure size 432x288 with 1 Axes>"
            ]
          },
          "metadata": {
            "tags": []
          }
        },
        {
          "output_type": "display_data",
          "data": {
            "image/png": "[encoded data removed]",
            "text/plain": [
              "<Figure size 432x288 with 1 Axes>"
            ]
          },
          "metadata": {
            "tags": []
          }
        }
      ]
    },
    {
      "cell_type": "code",
      "metadata": {
        "id": "W1BlM7ncTsJ8",
        "colab_type": "code",
        "colab": {}
      },
      "source": [
        "# Normalize the data\n",
        "X_train = normalize_it(X_train)\n",
        "X_test = normalize_it(X_test)"
      ],
      "execution_count": 0,
      "outputs": []
    },
    {
      "cell_type": "markdown",
      "metadata": {
        "id": "uTjy9YtFTsKG",
        "colab_type": "text"
      },
      "source": [
        "## Define network params"
      ]
    },
    {
      "cell_type": "code",
      "metadata": {
        "id": "hNy1mjvXTsKA",
        "colab_type": "code",
        "colab": {}
      },
      "source": [
        "# Reshape the data\n",
        "X_train = X_train.reshape(X_train.shape[0], \n",
        "                          img_rows, \n",
        "                          img_cols, \n",
        "                          channels)\n",
        "\n",
        "X_test = X_test.reshape(X_test.shape[0], \n",
        "                          img_rows, \n",
        "                          img_cols, \n",
        "                          channels)\n",
        "\n",
        "\n",
        "X_train_gray = X_train_gray.reshape(X_train_gray.shape[0], \n",
        "                                    img_rows, \n",
        "                                    img_cols, \n",
        "                                    1)\n",
        "\n",
        "X_test_gray = X_test_gray.reshape(X_test_gray.shape[0], \n",
        "                                  img_rows, \n",
        "                                  img_cols, \n",
        "                                  1)"
      ],
      "execution_count": 0,
      "outputs": []
    },
    {
      "cell_type": "code",
      "metadata": {
        "id": "jGMYsNfkTsKI",
        "colab_type": "code",
        "colab": {}
      },
      "source": [
        "input_shape = (img_rows, img_cols, 1)\n",
        "batch_size = 32\n",
        "kernel_size = 3\n",
        "latent_dim = 256\n",
        "layer_filters = [64, 128, 256]"
      ],
      "execution_count": 0,
      "outputs": []
    },
    {
      "cell_type": "markdown",
      "metadata": {
        "id": "ATymtOxjTsKL",
        "colab_type": "text"
      },
      "source": [
        "## Build the model"
      ]
    },
    {
      "cell_type": "markdown",
      "metadata": {
        "id": "JuG6OlK_TsKM",
        "colab_type": "text"
      },
      "source": [
        "* ### Encoder"
      ]
    },
    {
      "cell_type": "code",
      "metadata": {
        "id": "pta1xS1ETsKN",
        "colab_type": "code",
        "colab": {
          "base_uri": "https://localhost:8080/",
          "height": 93
        },
        "outputId": "31816155-dd2a-4453-b976-f529288bb1f6"
      },
      "source": [
        "inputs = Input(shape = input_shape, \n",
        "               name  = 'encoder_input')\n",
        "\n",
        "x = inputs"
      ],
      "execution_count": 12,
      "outputs": [
        {
          "output_type": "stream",
          "text": [
            "WARNING: Logging before flag parsing goes to stderr.\n",
            "W0621 14:18:54.843716 140615524804480 deprecation_wrapper.py:119] From /usr/local/lib/python3.6/dist-packages/keras/backend/tensorflow_backend.py:517: The name tf.placeholder is deprecated. Please use tf.compat.v1.placeholder instead.\n",
            "\n"
          ],
          "name": "stderr"
        }
      ]
    },
    {
      "cell_type": "code",
      "metadata": {
        "id": "wsS3nKZ3TsKR",
        "colab_type": "code",
        "colab": {
          "base_uri": "https://localhost:8080/",
          "height": 112
        },
        "outputId": "8910e651-7603-4e4d-8833-bb054d406fe3"
      },
      "source": [
        "# Create a stack of Conv2Ds\n",
        "\n",
        "for filters in layer_filters:\n",
        "    x = Conv2D(filters     = filters,\n",
        "               kernel_size = kernel_size,\n",
        "               strides     = 2, \n",
        "               activation  = 'relu',\n",
        "               padding     = 'same')(x)"
      ],
      "execution_count": 13,
      "outputs": [
        {
          "output_type": "stream",
          "text": [
            "W0621 14:18:54.878050 140615524804480 deprecation_wrapper.py:119] From /usr/local/lib/python3.6/dist-packages/keras/backend/tensorflow_backend.py:74: The name tf.get_default_graph is deprecated. Please use tf.compat.v1.get_default_graph instead.\n",
            "\n",
            "W0621 14:18:54.883251 140615524804480 deprecation_wrapper.py:119] From /usr/local/lib/python3.6/dist-packages/keras/backend/tensorflow_backend.py:4138: The name tf.random_uniform is deprecated. Please use tf.random.uniform instead.\n",
            "\n"
          ],
          "name": "stderr"
        }
      ]
    },
    {
      "cell_type": "code",
      "metadata": {
        "id": "fgcYr09nTsKW",
        "colab_type": "code",
        "colab": {}
      },
      "source": [
        "# Get the last layer's shape\n",
        "enc_out_shape = K.int_shape(x)"
      ],
      "execution_count": 0,
      "outputs": []
    },
    {
      "cell_type": "code",
      "metadata": {
        "id": "cD57_OHlTsKZ",
        "colab_type": "code",
        "colab": {}
      },
      "source": [
        "# Create a latent vector\n",
        "x = Flatten()(x)\n",
        "\n",
        "latent = Dense(latent_dim, \n",
        "               name = 'latent_vector')(x)"
      ],
      "execution_count": 0,
      "outputs": []
    },
    {
      "cell_type": "code",
      "metadata": {
        "id": "CQjFV18JTsKd",
        "colab_type": "code",
        "colab": {}
      },
      "source": [
        "# Instantiate the encoder\n",
        "encoder = Model(inputs, latent,\n",
        "                name = 'encoder')"
      ],
      "execution_count": 0,
      "outputs": []
    },
    {
      "cell_type": "code",
      "metadata": {
        "id": "v5gU_nodTsKg",
        "colab_type": "code",
        "colab": {
          "base_uri": "https://localhost:8080/",
          "height": 372
        },
        "outputId": "cf82dbcc-fe72-4ee6-aed7-665fe79c5676"
      },
      "source": [
        "encoder.summary()"
      ],
      "execution_count": 17,
      "outputs": [
        {
          "output_type": "stream",
          "text": [
            "_________________________________________________________________\n",
            "Layer (type)                 Output Shape              Param #   \n",
            "=================================================================\n",
            "encoder_input (InputLayer)   (None, 32, 32, 1)         0         \n",
            "_________________________________________________________________\n",
            "conv2d_1 (Conv2D)            (None, 16, 16, 64)        640       \n",
            "_________________________________________________________________\n",
            "conv2d_2 (Conv2D)            (None, 8, 8, 128)         73856     \n",
            "_________________________________________________________________\n",
            "conv2d_3 (Conv2D)            (None, 4, 4, 256)         295168    \n",
            "_________________________________________________________________\n",
            "flatten_1 (Flatten)          (None, 4096)              0         \n",
            "_________________________________________________________________\n",
            "latent_vector (Dense)        (None, 256)               1048832   \n",
            "=================================================================\n",
            "Total params: 1,418,496\n",
            "Trainable params: 1,418,496\n",
            "Non-trainable params: 0\n",
            "_________________________________________________________________\n"
          ],
          "name": "stdout"
        }
      ]
    },
    {
      "cell_type": "markdown",
      "metadata": {
        "id": "kVi7Ltm2TsKn",
        "colab_type": "text"
      },
      "source": [
        "* ### Decoder"
      ]
    },
    {
      "cell_type": "code",
      "metadata": {
        "id": "6jvnNjhzTsKq",
        "colab_type": "code",
        "colab": {}
      },
      "source": [
        "latent_inputs = Input(shape = (latent_dim,), \n",
        "                      name  = 'decoder_input')"
      ],
      "execution_count": 0,
      "outputs": []
    },
    {
      "cell_type": "code",
      "metadata": {
        "id": "BVc8BwZ2TsKs",
        "colab_type": "code",
        "colab": {}
      },
      "source": [
        "x = Dense(enc_out_shape[1] * enc_out_shape[2] * enc_out_shape[3])(latent_inputs)\n",
        "\n",
        "x = Reshape((enc_out_shape[1], \n",
        "             enc_out_shape[2], \n",
        "             enc_out_shape[3]))(x)"
      ],
      "execution_count": 0,
      "outputs": []
    },
    {
      "cell_type": "code",
      "metadata": {
        "id": "L7u3UvACTsKv",
        "colab_type": "code",
        "colab": {}
      },
      "source": [
        "# Construct a stack of Conv2DTranspose\n",
        "for filters in layer_filters[::-1]:\n",
        "    x = Conv2DTranspose(filters     = filters, \n",
        "                        kernel_size = kernel_size,\n",
        "                        strides     = 2,\n",
        "                        activation  = 'relu', \n",
        "                        padding     = 'same')(x)"
      ],
      "execution_count": 0,
      "outputs": []
    },
    {
      "cell_type": "code",
      "metadata": {
        "id": "e2wJu2t_TsK2",
        "colab_type": "code",
        "colab": {}
      },
      "source": [
        "outputs = Conv2DTranspose(filters     = channels, \n",
        "                          kernel_size = kernel_size,\n",
        "                          activation  = 'sigmoid', \n",
        "                          padding     = 'same', \n",
        "                          name        = 'decoder_output')(x)"
      ],
      "execution_count": 0,
      "outputs": []
    },
    {
      "cell_type": "code",
      "metadata": {
        "id": "GDb39rUYTsK5",
        "colab_type": "code",
        "colab": {}
      },
      "source": [
        "# Instantiate the decoder\n",
        "decoder = Model(latent_inputs, outputs,\n",
        "                name = 'decoder')"
      ],
      "execution_count": 0,
      "outputs": []
    },
    {
      "cell_type": "code",
      "metadata": {
        "id": "4BFErMDsTsK7",
        "colab_type": "code",
        "colab": {
          "base_uri": "https://localhost:8080/",
          "height": 410
        },
        "outputId": "9fb499ca-6801-47ba-d612-775db881d9b1"
      },
      "source": [
        "decoder.summary()"
      ],
      "execution_count": 23,
      "outputs": [
        {
          "output_type": "stream",
          "text": [
            "_________________________________________________________________\n",
            "Layer (type)                 Output Shape              Param #   \n",
            "=================================================================\n",
            "decoder_input (InputLayer)   (None, 256)               0         \n",
            "_________________________________________________________________\n",
            "dense_1 (Dense)              (None, 4096)              1052672   \n",
            "_________________________________________________________________\n",
            "reshape_1 (Reshape)          (None, 4, 4, 256)         0         \n",
            "_________________________________________________________________\n",
            "conv2d_transpose_1 (Conv2DTr (None, 8, 8, 256)         590080    \n",
            "_________________________________________________________________\n",
            "conv2d_transpose_2 (Conv2DTr (None, 16, 16, 128)       295040    \n",
            "_________________________________________________________________\n",
            "conv2d_transpose_3 (Conv2DTr (None, 32, 32, 64)        73792     \n",
            "_________________________________________________________________\n",
            "decoder_output (Conv2DTransp (None, 32, 32, 3)         1731      \n",
            "=================================================================\n",
            "Total params: 2,013,315\n",
            "Trainable params: 2,013,315\n",
            "Non-trainable params: 0\n",
            "_________________________________________________________________\n"
          ],
          "name": "stdout"
        }
      ]
    },
    {
      "cell_type": "markdown",
      "metadata": {
        "id": "vDia7Zd5TsK_",
        "colab_type": "text"
      },
      "source": [
        "* ### Autoencoder"
      ]
    },
    {
      "cell_type": "code",
      "metadata": {
        "id": "8-SuaV80TsLA",
        "colab_type": "code",
        "colab": {}
      },
      "source": [
        "# Instantiate\n",
        "autoencoder = Model(inputs, decoder(encoder(inputs)),\n",
        "                    name = 'autoencoder')"
      ],
      "execution_count": 0,
      "outputs": []
    },
    {
      "cell_type": "code",
      "metadata": {
        "id": "-y8tzeEwTsLG",
        "colab_type": "code",
        "colab": {
          "base_uri": "https://localhost:8080/",
          "height": 260
        },
        "outputId": "735189e7-04f6-4f31-8372-294de0b68d51"
      },
      "source": [
        "autoencoder.summary()"
      ],
      "execution_count": 25,
      "outputs": [
        {
          "output_type": "stream",
          "text": [
            "_________________________________________________________________\n",
            "Layer (type)                 Output Shape              Param #   \n",
            "=================================================================\n",
            "encoder_input (InputLayer)   (None, 32, 32, 1)         0         \n",
            "_________________________________________________________________\n",
            "encoder (Model)              (None, 256)               1418496   \n",
            "_________________________________________________________________\n",
            "decoder (Model)              (None, 32, 32, 3)         2013315   \n",
            "=================================================================\n",
            "Total params: 3,431,811\n",
            "Trainable params: 3,431,811\n",
            "Non-trainable params: 0\n",
            "_________________________________________________________________\n"
          ],
          "name": "stdout"
        }
      ]
    },
    {
      "cell_type": "markdown",
      "metadata": {
        "id": "OiTuy44oTsLJ",
        "colab_type": "text"
      },
      "source": [
        "* ### Model saving params"
      ]
    },
    {
      "cell_type": "code",
      "metadata": {
        "id": "psSYQQnLTsLK",
        "colab_type": "code",
        "colab": {}
      },
      "source": [
        "# Define file names / dirs\n",
        "save_dir = '03_saved_models'\n",
        "model_name = 'colorizer_ae_{epoch:03d}.h5'"
      ],
      "execution_count": 0,
      "outputs": []
    },
    {
      "cell_type": "code",
      "metadata": {
        "id": "lfINz9tgTsLM",
        "colab_type": "code",
        "colab": {}
      },
      "source": [
        "if not os.path.isdir(save_dir):\n",
        "    os.makedirs(save_dir)\n",
        "filepath = os.path.join(save_dir, model_name)"
      ],
      "execution_count": 0,
      "outputs": []
    },
    {
      "cell_type": "markdown",
      "metadata": {
        "id": "bTMmmF7bTsLO",
        "colab_type": "text"
      },
      "source": [
        "* ### Define callbacks"
      ]
    },
    {
      "cell_type": "code",
      "metadata": {
        "id": "qxsv7abpTsLP",
        "colab_type": "code",
        "colab": {}
      },
      "source": [
        "# Reduce LR by sqrt(.1) if loss does not improve in 5 epochs\n",
        "lr_reducer = ReduceLROnPlateau(factor   = np.sqrt(.1), \n",
        "                               cooldown = 0,\n",
        "                               patience = 5,\n",
        "                               verbose  = 1, \n",
        "                               min_lr   = 0.5e-6)"
      ],
      "execution_count": 0,
      "outputs": []
    },
    {
      "cell_type": "code",
      "metadata": {
        "id": "YGo3KZf_TsLR",
        "colab_type": "code",
        "colab": {}
      },
      "source": [
        "# Save chackpoint\n",
        "checkpoint = ModelCheckpoint(filepath       = filepath, \n",
        "                             monitor        = 'val_loss',\n",
        "                             verbose        = 1,\n",
        "                             save_best_only = True)"
      ],
      "execution_count": 0,
      "outputs": []
    },
    {
      "cell_type": "markdown",
      "metadata": {
        "id": "wahpqgxbTsLT",
        "colab_type": "text"
      },
      "source": [
        "* ### Compile & train the model "
      ]
    },
    {
      "cell_type": "code",
      "metadata": {
        "id": "kPqP6t_kTsLV",
        "colab_type": "code",
        "colab": {
          "base_uri": "https://localhost:8080/",
          "height": 74
        },
        "outputId": "5f5416c7-d269-4e25-d757-1888c110284b"
      },
      "source": [
        "# Compile \n",
        "autoencoder.compile(loss      = 'mse',\n",
        "                    optimizer = 'adam')"
      ],
      "execution_count": 30,
      "outputs": [
        {
          "output_type": "stream",
          "text": [
            "W0621 14:19:11.480945 140615524804480 deprecation_wrapper.py:119] From /usr/local/lib/python3.6/dist-packages/keras/optimizers.py:790: The name tf.train.Optimizer is deprecated. Please use tf.compat.v1.train.Optimizer instead.\n",
            "\n"
          ],
          "name": "stderr"
        }
      ]
    },
    {
      "cell_type": "code",
      "metadata": {
        "id": "bmS0LnR8TsLX",
        "colab_type": "code",
        "colab": {}
      },
      "source": [
        "# Define callbacks\n",
        "callbacks = [lr_reducer, checkpoint]"
      ],
      "execution_count": 0,
      "outputs": []
    },
    {
      "cell_type": "code",
      "metadata": {
        "id": "AKFY-ddhTsLY",
        "colab_type": "code",
        "colab": {
          "base_uri": "https://localhost:8080/",
          "height": 1309
        },
        "outputId": "fd0499f4-3f1b-435a-f15b-2e928bea2f14"
      },
      "source": [
        "# Train\n",
        "autoencoder.fit(X_train_gray, X_train,\n",
        "                validation_data = (X_test_gray, X_test),\n",
        "                epochs          = 15,\n",
        "                batch_size      = batch_size,\n",
        "                callbacks       = callbacks)"
      ],
      "execution_count": 32,
      "outputs": [
        {
          "output_type": "stream",
          "text": [
            "W0621 14:19:15.606833 140615524804480 deprecation_wrapper.py:119] From /usr/local/lib/python3.6/dist-packages/keras/backend/tensorflow_backend.py:986: The name tf.assign_add is deprecated. Please use tf.compat.v1.assign_add instead.\n",
            "\n",
            "W0621 14:19:15.814341 140615524804480 deprecation_wrapper.py:119] From /usr/local/lib/python3.6/dist-packages/keras/backend/tensorflow_backend.py:973: The name tf.assign is deprecated. Please use tf.compat.v1.assign instead.\n",
            "\n"
          ],
          "name": "stderr"
        },
        {
          "output_type": "stream",
          "text": [
            "Train on 50000 samples, validate on 10000 samples\n",
            "Epoch 1/15\n",
            "50000/50000 [==============================] - 23s 459us/step - loss: 0.0155 - val_loss: 0.0115\n",
            "\n",
            "Epoch 00001: val_loss improved from inf to 0.01146, saving model to 03_saved_models/colorizer_ae_001.h5\n",
            "Epoch 2/15\n",
            "50000/50000 [==============================] - 20s 394us/step - loss: 0.0103 - val_loss: 0.0098\n",
            "\n",
            "Epoch 00002: val_loss improved from 0.01146 to 0.00980, saving model to 03_saved_models/colorizer_ae_002.h5\n",
            "Epoch 3/15\n",
            "50000/50000 [==============================] - 20s 392us/step - loss: 0.0094 - val_loss: 0.0092\n",
            "\n",
            "Epoch 00003: val_loss improved from 0.00980 to 0.00918, saving model to 03_saved_models/colorizer_ae_003.h5\n",
            "Epoch 4/15\n",
            "50000/50000 [==============================] - 20s 394us/step - loss: 0.0089 - val_loss: 0.0098\n",
            "\n",
            "Epoch 00004: val_loss did not improve from 0.00918\n",
            "Epoch 5/15\n",
            "50000/50000 [==============================] - 20s 394us/step - loss: 0.0086 - val_loss: 0.0096\n",
            "\n",
            "Epoch 00005: val_loss did not improve from 0.00918\n",
            "Epoch 6/15\n",
            "50000/50000 [==============================] - 20s 395us/step - loss: 0.0084 - val_loss: 0.0086\n",
            "\n",
            "Epoch 00006: val_loss improved from 0.00918 to 0.00856, saving model to 03_saved_models/colorizer_ae_006.h5\n",
            "Epoch 7/15\n",
            "50000/50000 [==============================] - 20s 397us/step - loss: 0.0082 - val_loss: 0.0080\n",
            "\n",
            "Epoch 00007: val_loss improved from 0.00856 to 0.00799, saving model to 03_saved_models/colorizer_ae_007.h5\n",
            "Epoch 8/15\n",
            "50000/50000 [==============================] - 20s 396us/step - loss: 0.0079 - val_loss: 0.0089\n",
            "\n",
            "Epoch 00008: val_loss did not improve from 0.00799\n",
            "Epoch 9/15\n",
            "50000/50000 [==============================] - 20s 396us/step - loss: 0.0078 - val_loss: 0.0080\n",
            "\n",
            "Epoch 00009: val_loss did not improve from 0.00799\n",
            "Epoch 10/15\n",
            "50000/50000 [==============================] - 20s 398us/step - loss: 0.0075 - val_loss: 0.0082\n",
            "\n",
            "Epoch 00010: val_loss did not improve from 0.00799\n",
            "Epoch 11/15\n",
            "50000/50000 [==============================] - 20s 396us/step - loss: 0.0073 - val_loss: 0.0079\n",
            "\n",
            "Epoch 00011: val_loss improved from 0.00799 to 0.00794, saving model to 03_saved_models/colorizer_ae_011.h5\n",
            "Epoch 12/15\n",
            "50000/50000 [==============================] - 20s 397us/step - loss: 0.0071 - val_loss: 0.0080\n",
            "\n",
            "Epoch 00012: ReduceLROnPlateau reducing learning rate to 0.00031622778103685084.\n",
            "\n",
            "Epoch 00012: val_loss did not improve from 0.00794\n",
            "Epoch 13/15\n",
            "50000/50000 [==============================] - 20s 395us/step - loss: 0.0060 - val_loss: 0.0076\n",
            "\n",
            "Epoch 00013: val_loss improved from 0.00794 to 0.00758, saving model to 03_saved_models/colorizer_ae_013.h5\n",
            "Epoch 14/15\n",
            "50000/50000 [==============================] - 20s 398us/step - loss: 0.0058 - val_loss: 0.0076\n",
            "\n",
            "Epoch 00014: val_loss did not improve from 0.00758\n",
            "Epoch 15/15\n",
            "50000/50000 [==============================] - 20s 393us/step - loss: 0.0056 - val_loss: 0.0077\n",
            "\n",
            "Epoch 00015: val_loss did not improve from 0.00758\n"
          ],
          "name": "stdout"
        },
        {
          "output_type": "execute_result",
          "data": {
            "text/plain": [
              "<keras.callbacks.History at 0x7fe34dfb6198>"
            ]
          },
          "metadata": {
            "tags": []
          },
          "execution_count": 32
        }
      ]
    },
    {
      "cell_type": "code",
      "metadata": {
        "id": "hsmdpGzPYqcK",
        "colab_type": "code",
        "colab": {}
      },
      "source": [
        "# Get predictions\n",
        "pred = autoencoder.predict(X_test_gray)"
      ],
      "execution_count": 0,
      "outputs": []
    },
    {
      "cell_type": "code",
      "metadata": {
        "id": "tfhJwv72TsLc",
        "colab_type": "code",
        "colab": {
          "base_uri": "https://localhost:8080/",
          "height": 986
        },
        "outputId": "84105e7a-5740-4c50-8592-a02a0888f766"
      },
      "source": [
        "random_pic = np.random.randint(X_test.shape[0])\n",
        "print(\"Let's see how it works...\\n\")\n",
        "print(\"This is the original image:\")\n",
        "plt.imshow(X_test[random_pic].squeeze())\n",
        "plt.show()\n",
        "print(\"\\n\\nThis is the gray-scale image:\")\n",
        "plt.imshow(X_test_gray[random_pic].squeeze(), cmap='gray')\n",
        "plt.show()\n",
        "print(\"\\n\\nThis is the coloured image:\")\n",
        "plt.imshow(pred[random_pic].squeeze())\n",
        "plt.show()"
      ],
      "execution_count": 36,
      "outputs": [
        {
          "output_type": "stream",
          "text": [
            "Let's see how it works...\n",
            "\n",
            "This is the original image:\n"
          ],
          "name": "stdout"
        },
        {
          "output_type": "display_data",
          "data": {
            "image/png": "[encoded data removed]",
            "text/plain": [
              "<Figure size 432x288 with 1 Axes>"
            ]
          },
          "metadata": {
            "tags": []
          }
        },
        {
          "output_type": "stream",
          "text": [
            "\n",
            "\n",
            "This is the gray-scale image:\n"
          ],
          "name": "stdout"
        },
        {
          "output_type": "display_data",
          "data": {
            "image/png": "[encoded data removed]",
            "text/plain": [
              "<Figure size 432x288 with 1 Axes>"
            ]
          },
          "metadata": {
            "tags": []
          }
        },
        {
          "output_type": "stream",
          "text": [
            "\n",
            "\n",
            "This is the coloured image:\n"
          ],
          "name": "stdout"
        },
        {
          "output_type": "display_data",
          "data": {
            "image/png": "[encoded data removed]",
            "text/plain": [
              "<Figure size 432x288 with 1 Axes>"
            ]
          },
          "metadata": {
            "tags": []
          }
        }
      ]
    },
    {
      "cell_type": "code",
      "metadata": {
        "id": "SGOg4JXRY9si",
        "colab_type": "code",
        "colab": {
          "base_uri": "https://localhost:8080/",
          "height": 986
        },
        "outputId": "29f39cc6-f3a9-43f0-e939-8c2c591e3eae"
      },
      "source": [
        "random_pic = np.random.randint(X_test.shape[0])\n",
        "print(\"Let's see how it works...\\n\")\n",
        "print(\"This is the original image:\")\n",
        "plt.imshow(X_test[random_pic].squeeze())\n",
        "plt.show()\n",
        "print(\"\\n\\nThis is the gray-scale image:\")\n",
        "plt.imshow(X_test_gray[random_pic].squeeze(), cmap='gray')\n",
        "plt.show()\n",
        "print(\"\\n\\nThis is the coloured image:\")\n",
        "plt.imshow(pred[random_pic].squeeze())\n",
        "plt.show()"
      ],
      "execution_count": 37,
      "outputs": [
        {
          "output_type": "stream",
          "text": [
            "Let's see how it works...\n",
            "\n",
            "This is the original image:\n"
          ],
          "name": "stdout"
        },
        {
          "output_type": "display_data",
          "data": {
            "image/png": "[encoded data removed]",
            "text/plain": [
              "<Figure size 432x288 with 1 Axes>"
            ]
          },
          "metadata": {
            "tags": []
          }
        },
        {
          "output_type": "stream",
          "text": [
            "\n",
            "\n",
            "This is the gray-scale image:\n"
          ],
          "name": "stdout"
        },
        {
          "output_type": "display_data",
          "data": {
            "image/png": "[encoded data removed]",
            "text/plain": [
              "<Figure size 432x288 with 1 Axes>"
            ]
          },
          "metadata": {
            "tags": []
          }
        },
        {
          "output_type": "stream",
          "text": [
            "\n",
            "\n",
            "This is the coloured image:\n"
          ],
          "name": "stdout"
        },
        {
          "output_type": "display_data",
          "data": {
            "image/png": "[encoded data removed]",
            "text/plain": [
              "<Figure size 432x288 with 1 Axes>"
            ]
          },
          "metadata": {
            "tags": []
          }
        }
      ]
    },
    {
      "cell_type": "code",
      "metadata": {
        "id": "VKNd1C6KcDMl",
        "colab_type": "code",
        "colab": {}
      },
      "source": [
        ""
      ],
      "execution_count": 0,
      "outputs": []
    }
  ]
}