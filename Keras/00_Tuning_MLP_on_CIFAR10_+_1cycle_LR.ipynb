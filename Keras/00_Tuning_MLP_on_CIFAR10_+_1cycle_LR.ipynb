{
 "cells": [
  {
   "cell_type": "code",
   "execution_count": 1,
   "metadata": {},
   "outputs": [
    {
     "name": "stderr",
     "output_type": "stream",
     "text": [
      "Using TensorFlow backend.\n"
     ]
    }
   ],
   "source": [
    "import tensorflow as tf\n",
    "import numpy as np\n",
    "\n",
    "from sklearn.preprocessing import StandardScaler\n",
    "\n",
    "from keras.datasets import cifar10\n",
    "\n",
    "import matplotlib.pyplot as plt\n",
    "plt.style.use('fivethirtyeight')\n",
    "\n"
   ]
  },
  {
   "cell_type": "code",
   "execution_count": 2,
   "metadata": {},
   "outputs": [
    {
     "data": {
      "text/plain": [
       "'2.0.0'"
      ]
     },
     "execution_count": 2,
     "metadata": {},
     "output_type": "execute_result"
    }
   ],
   "source": [
    "tf.__version__"
   ]
  },
  {
   "cell_type": "markdown",
   "metadata": {},
   "source": [
    "## Get and transform the data"
   ]
  },
  {
   "cell_type": "code",
   "execution_count": 3,
   "metadata": {},
   "outputs": [],
   "source": [
    "(X_train, y_train), (X_test, y_test) = cifar10.load_data()"
   ]
  },
  {
   "cell_type": "code",
   "execution_count": 4,
   "metadata": {},
   "outputs": [
    {
     "data": {
      "text/plain": [
       "((50000, 32, 32, 3), (10000, 32, 32, 3))"
      ]
     },
     "execution_count": 4,
     "metadata": {},
     "output_type": "execute_result"
    }
   ],
   "source": [
    "X_train.shape, X_test.shape"
   ]
  },
  {
   "cell_type": "code",
   "execution_count": 5,
   "metadata": {},
   "outputs": [],
   "source": [
    "X_train = X_train.astype('float32') \n",
    "X_test  = X_test.astype('float32') "
   ]
  },
  {
   "cell_type": "code",
   "execution_count": 6,
   "metadata": {},
   "outputs": [],
   "source": [
    "X_train /= 255\n",
    "X_test  /= 255"
   ]
  },
  {
   "cell_type": "code",
   "execution_count": 7,
   "metadata": {},
   "outputs": [],
   "source": [
    "X_train = X_train[5000:]\n",
    "y_train = y_train[5000:]\n",
    "X_valid = X_train[:5000]\n",
    "y_valid = y_train[:5000]"
   ]
  },
  {
   "cell_type": "markdown",
   "metadata": {},
   "source": [
    "## Build a model"
   ]
  },
  {
   "cell_type": "markdown",
   "metadata": {},
   "source": [
    "### Genral config"
   ]
  },
  {
   "cell_type": "code",
   "execution_count": 11,
   "metadata": {},
   "outputs": [],
   "source": [
    "n_layers  = 20\n",
    "n_neurons = 100"
   ]
  },
  {
   "cell_type": "markdown",
   "metadata": {},
   "source": [
    "### Approach 1 \n",
    "* ELU + He Normal + Nadam 5e-5"
   ]
  },
  {
   "cell_type": "code",
   "execution_count": 9,
   "metadata": {},
   "outputs": [],
   "source": [
    "model = tf.keras.models.Sequential()"
   ]
  },
  {
   "cell_type": "code",
   "execution_count": 10,
   "metadata": {},
   "outputs": [],
   "source": [
    "model.add(tf.keras.layers.Flatten(input_shape = [32, 32, 3]))\n",
    "\n",
    "for i in range(n_layers):\n",
    "    model.add(tf.keras.layers.Dense(100, \n",
    "                                    kernel_initializer = 'he_normal',\n",
    "                                    activation = 'elu'))\n",
    "    \n",
    "model.add(tf.keras.layers.Dense(10, activation = 'softmax'))"
   ]
  },
  {
   "cell_type": "code",
   "execution_count": 13,
   "metadata": {},
   "outputs": [],
   "source": [
    "optimizer = tf.keras.optimizers.Nadam(lr = 5e-5)\n",
    "\n",
    "model.compile(loss      = 'sparse_categorical_crossentropy',\n",
    "              optimizer = optimizer,\n",
    "              metrics   = ['accuracy'])"
   ]
  },
  {
   "cell_type": "code",
   "execution_count": 14,
   "metadata": {},
   "outputs": [],
   "source": [
    "# model.summary()"
   ]
  },
  {
   "cell_type": "code",
   "execution_count": 15,
   "metadata": {},
   "outputs": [],
   "source": [
    "# Define callbacks\n",
    "early_stopping_cb   = tf.keras.callbacks.EarlyStopping(patience = 20)\n",
    "model_checkpoint_cb = tf.keras.callbacks.ModelCheckpoint(\"cifar10_model_1.h5\", save_best_only = True)\n",
    "\n",
    "callbacks = [early_stopping_cb, model_checkpoint_cb]"
   ]
  },
  {
   "cell_type": "code",
   "execution_count": 16,
   "metadata": {},
   "outputs": [
    {
     "name": "stdout",
     "output_type": "stream",
     "text": [
      "Train on 45000 samples, validate on 5000 samples\n",
      "Epoch 1/100\n",
      "45000/45000 [==============================] - 19s 430us/sample - loss: 1.9144 - accuracy: 0.3078 - val_loss: 1.8501 - val_accuracy: 0.3248\n",
      "Epoch 2/100\n",
      "45000/45000 [==============================] - 16s 359us/sample - loss: 1.7078 - accuracy: 0.3818 - val_loss: 1.7399 - val_accuracy: 0.3650\n",
      "Epoch 3/100\n",
      "45000/45000 [==============================] - 16s 362us/sample - loss: 1.6226 - accuracy: 0.4154 - val_loss: 1.7556 - val_accuracy: 0.3664\n",
      "Epoch 4/100\n",
      "45000/45000 [==============================] - 16s 364us/sample - loss: 1.5605 - accuracy: 0.4400 - val_loss: 1.5436 - val_accuracy: 0.4384\n",
      "Epoch 5/100\n",
      "45000/45000 [==============================] - 16s 361us/sample - loss: 1.5167 - accuracy: 0.4534 - val_loss: 1.4669 - val_accuracy: 0.4630\n",
      "Epoch 6/100\n",
      "45000/45000 [==============================] - 16s 365us/sample - loss: 1.4815 - accuracy: 0.4668 - val_loss: 1.4673 - val_accuracy: 0.4670\n",
      "Epoch 7/100\n",
      "45000/45000 [==============================] - 17s 370us/sample - loss: 1.4496 - accuracy: 0.4786 - val_loss: 1.4379 - val_accuracy: 0.4806\n",
      "Epoch 8/100\n",
      "45000/45000 [==============================] - 17s 368us/sample - loss: 1.4263 - accuracy: 0.4891 - val_loss: 1.3997 - val_accuracy: 0.4882\n",
      "Epoch 9/100\n",
      "45000/45000 [==============================] - 17s 381us/sample - loss: 1.4015 - accuracy: 0.4983 - val_loss: 1.3770 - val_accuracy: 0.5106\n",
      "Epoch 10/100\n",
      "45000/45000 [==============================] - 17s 383us/sample - loss: 1.3782 - accuracy: 0.5073 - val_loss: 1.3710 - val_accuracy: 0.5118\n",
      "Epoch 11/100\n",
      "45000/45000 [==============================] - 17s 386us/sample - loss: 1.3577 - accuracy: 0.5148 - val_loss: 1.3505 - val_accuracy: 0.5120\n",
      "Epoch 12/100\n",
      "45000/45000 [==============================] - 17s 381us/sample - loss: 1.3398 - accuracy: 0.5198 - val_loss: 1.3054 - val_accuracy: 0.5266\n",
      "Epoch 13/100\n",
      "45000/45000 [==============================] - 17s 388us/sample - loss: 1.3218 - accuracy: 0.5269 - val_loss: 1.2665 - val_accuracy: 0.5472\n",
      "Epoch 14/100\n",
      "45000/45000 [==============================] - 17s 381us/sample - loss: 1.3042 - accuracy: 0.5340 - val_loss: 1.2580 - val_accuracy: 0.5470\n",
      "Epoch 15/100\n",
      "45000/45000 [==============================] - 17s 373us/sample - loss: 1.2861 - accuracy: 0.5390 - val_loss: 1.2638 - val_accuracy: 0.5418\n",
      "Epoch 16/100\n",
      "45000/45000 [==============================] - 17s 374us/sample - loss: 1.2696 - accuracy: 0.5462 - val_loss: 1.1997 - val_accuracy: 0.5726\n",
      "Epoch 17/100\n",
      "45000/45000 [==============================] - 17s 373us/sample - loss: 1.2533 - accuracy: 0.5513 - val_loss: 1.2591 - val_accuracy: 0.5516\n",
      "Epoch 18/100\n",
      "45000/45000 [==============================] - 17s 385us/sample - loss: 1.2371 - accuracy: 0.5578 - val_loss: 1.1898 - val_accuracy: 0.5726\n",
      "Epoch 19/100\n",
      "45000/45000 [==============================] - 17s 372us/sample - loss: 1.2227 - accuracy: 0.5618 - val_loss: 1.1668 - val_accuracy: 0.5776\n",
      "Epoch 20/100\n",
      "45000/45000 [==============================] - 17s 373us/sample - loss: 1.2093 - accuracy: 0.5682 - val_loss: 1.1510 - val_accuracy: 0.5890\n",
      "Epoch 21/100\n",
      "45000/45000 [==============================] - 17s 377us/sample - loss: 1.1897 - accuracy: 0.5744 - val_loss: 1.1842 - val_accuracy: 0.5632\n",
      "Epoch 22/100\n",
      "45000/45000 [==============================] - 17s 373us/sample - loss: 1.1758 - accuracy: 0.5795 - val_loss: 1.1201 - val_accuracy: 0.6006\n",
      "Epoch 23/100\n",
      "45000/45000 [==============================] - 17s 373us/sample - loss: 1.1632 - accuracy: 0.5830 - val_loss: 1.2397 - val_accuracy: 0.5470\n",
      "Epoch 24/100\n",
      "45000/45000 [==============================] - 17s 376us/sample - loss: 1.1526 - accuracy: 0.5868 - val_loss: 1.1748 - val_accuracy: 0.5788\n",
      "Epoch 25/100\n",
      "45000/45000 [==============================] - 17s 388us/sample - loss: 1.1349 - accuracy: 0.5950 - val_loss: 1.1053 - val_accuracy: 0.6002\n",
      "Epoch 26/100\n",
      "45000/45000 [==============================] - 17s 382us/sample - loss: 1.1230 - accuracy: 0.5997 - val_loss: 1.0993 - val_accuracy: 0.6030\n",
      "Epoch 27/100\n",
      "45000/45000 [==============================] - 17s 380us/sample - loss: 1.1111 - accuracy: 0.6020 - val_loss: 1.0443 - val_accuracy: 0.6282\n",
      "Epoch 28/100\n",
      "45000/45000 [==============================] - 17s 378us/sample - loss: 1.0954 - accuracy: 0.6082 - val_loss: 1.0528 - val_accuracy: 0.6212\n",
      "Epoch 29/100\n",
      "45000/45000 [==============================] - 17s 382us/sample - loss: 1.0801 - accuracy: 0.6130 - val_loss: 1.0411 - val_accuracy: 0.6222\n",
      "Epoch 30/100\n",
      "45000/45000 [==============================] - 17s 381us/sample - loss: 1.0672 - accuracy: 0.6189 - val_loss: 1.0192 - val_accuracy: 0.6308\n",
      "Epoch 31/100\n",
      "45000/45000 [==============================] - 17s 381us/sample - loss: 1.0571 - accuracy: 0.6211 - val_loss: 1.0017 - val_accuracy: 0.6368\n",
      "Epoch 32/100\n",
      "45000/45000 [==============================] - 17s 384us/sample - loss: 1.0483 - accuracy: 0.6245 - val_loss: 0.9807 - val_accuracy: 0.6490\n",
      "Epoch 33/100\n",
      "45000/45000 [==============================] - 19s 423us/sample - loss: 1.0345 - accuracy: 0.6277 - val_loss: 0.9870 - val_accuracy: 0.6496\n",
      "Epoch 34/100\n",
      "45000/45000 [==============================] - 18s 405us/sample - loss: 1.0223 - accuracy: 0.6343 - val_loss: 1.0507 - val_accuracy: 0.6260\n",
      "Epoch 35/100\n",
      "45000/45000 [==============================] - 18s 402us/sample - loss: 1.0075 - accuracy: 0.6381 - val_loss: 0.9654 - val_accuracy: 0.6484\n",
      "Epoch 36/100\n",
      "45000/45000 [==============================] - 17s 375us/sample - loss: 0.9955 - accuracy: 0.6432 - val_loss: 0.9900 - val_accuracy: 0.6406\n",
      "Epoch 37/100\n",
      "45000/45000 [==============================] - 16s 358us/sample - loss: 0.9851 - accuracy: 0.6474 - val_loss: 0.9720 - val_accuracy: 0.6512\n",
      "Epoch 38/100\n",
      "45000/45000 [==============================] - 16s 346us/sample - loss: 0.9738 - accuracy: 0.6521 - val_loss: 0.9224 - val_accuracy: 0.6728\n",
      "Epoch 39/100\n",
      "45000/45000 [==============================] - 16s 348us/sample - loss: 0.9633 - accuracy: 0.6561 - val_loss: 0.9493 - val_accuracy: 0.6572\n",
      "Epoch 40/100\n",
      "45000/45000 [==============================] - 17s 388us/sample - loss: 0.9488 - accuracy: 0.6598 - val_loss: 0.8937 - val_accuracy: 0.6756\n",
      "Epoch 41/100\n",
      "45000/45000 [==============================] - 16s 361us/sample - loss: 0.9407 - accuracy: 0.6612 - val_loss: 0.9139 - val_accuracy: 0.6740\n",
      "Epoch 42/100\n",
      "45000/45000 [==============================] - 16s 351us/sample - loss: 0.9283 - accuracy: 0.6691 - val_loss: 0.8585 - val_accuracy: 0.6976\n",
      "Epoch 43/100\n",
      "45000/45000 [==============================] - 15s 342us/sample - loss: 0.9144 - accuracy: 0.6736 - val_loss: 0.9273 - val_accuracy: 0.6646\n",
      "Epoch 44/100\n",
      "45000/45000 [==============================] - 15s 343us/sample - loss: 0.9075 - accuracy: 0.6756 - val_loss: 0.8694 - val_accuracy: 0.6914\n",
      "Epoch 45/100\n",
      "45000/45000 [==============================] - 16s 347us/sample - loss: 0.8923 - accuracy: 0.6811 - val_loss: 0.8740 - val_accuracy: 0.6864\n",
      "Epoch 46/100\n",
      "45000/45000 [==============================] - 15s 344us/sample - loss: 0.8832 - accuracy: 0.6832 - val_loss: 0.8593 - val_accuracy: 0.6924\n",
      "Epoch 47/100\n",
      "45000/45000 [==============================] - 16s 348us/sample - loss: 0.8721 - accuracy: 0.6895 - val_loss: 0.7916 - val_accuracy: 0.7160\n",
      "Epoch 48/100\n",
      "45000/45000 [==============================] - 16s 350us/sample - loss: 0.8608 - accuracy: 0.6902 - val_loss: 0.7879 - val_accuracy: 0.7216\n",
      "Epoch 49/100\n",
      "45000/45000 [==============================] - 16s 351us/sample - loss: 0.8470 - accuracy: 0.6982 - val_loss: 0.8077 - val_accuracy: 0.7056\n",
      "Epoch 50/100\n",
      "45000/45000 [==============================] - 16s 346us/sample - loss: 0.8392 - accuracy: 0.6994 - val_loss: 0.7963 - val_accuracy: 0.7166\n",
      "Epoch 51/100\n",
      "45000/45000 [==============================] - 16s 346us/sample - loss: 0.8294 - accuracy: 0.7033 - val_loss: 0.7656 - val_accuracy: 0.7234\n",
      "Epoch 52/100\n",
      "45000/45000 [==============================] - 16s 346us/sample - loss: 0.8182 - accuracy: 0.7054 - val_loss: 0.8007 - val_accuracy: 0.7116\n",
      "Epoch 53/100\n",
      "45000/45000 [==============================] - 16s 345us/sample - loss: 0.8090 - accuracy: 0.7104 - val_loss: 0.7776 - val_accuracy: 0.7224\n",
      "Epoch 54/100\n"
     ]
    },
    {
     "name": "stdout",
     "output_type": "stream",
     "text": [
      "45000/45000 [==============================] - 15s 343us/sample - loss: 0.7953 - accuracy: 0.7165 - val_loss: 0.7881 - val_accuracy: 0.7208\n",
      "Epoch 55/100\n",
      "45000/45000 [==============================] - 16s 345us/sample - loss: 0.7831 - accuracy: 0.7203 - val_loss: 0.7732 - val_accuracy: 0.7262\n",
      "Epoch 56/100\n",
      "45000/45000 [==============================] - 18s 391us/sample - loss: 0.7777 - accuracy: 0.7196 - val_loss: 0.7321 - val_accuracy: 0.7370\n",
      "Epoch 57/100\n",
      "45000/45000 [==============================] - 17s 372us/sample - loss: 0.7692 - accuracy: 0.7276 - val_loss: 0.7263 - val_accuracy: 0.7462\n",
      "Epoch 58/100\n",
      "45000/45000 [==============================] - 16s 353us/sample - loss: 0.7550 - accuracy: 0.7292 - val_loss: 0.7154 - val_accuracy: 0.7454\n",
      "Epoch 59/100\n",
      "45000/45000 [==============================] - 18s 406us/sample - loss: 0.7447 - accuracy: 0.7340 - val_loss: 0.7166 - val_accuracy: 0.7422\n",
      "Epoch 60/100\n",
      "45000/45000 [==============================] - 17s 378us/sample - loss: 0.7373 - accuracy: 0.7363 - val_loss: 0.7103 - val_accuracy: 0.7430\n",
      "Epoch 61/100\n",
      "45000/45000 [==============================] - 16s 346us/sample - loss: 0.7298 - accuracy: 0.7395 - val_loss: 0.7295 - val_accuracy: 0.7412\n",
      "Epoch 62/100\n",
      "45000/45000 [==============================] - 16s 345us/sample - loss: 0.7157 - accuracy: 0.7432 - val_loss: 0.7025 - val_accuracy: 0.7486\n",
      "Epoch 63/100\n",
      "45000/45000 [==============================] - 16s 353us/sample - loss: 0.7071 - accuracy: 0.7467 - val_loss: 0.6772 - val_accuracy: 0.7568\n",
      "Epoch 64/100\n",
      "45000/45000 [==============================] - 16s 351us/sample - loss: 0.6956 - accuracy: 0.7498 - val_loss: 0.6322 - val_accuracy: 0.7722\n",
      "Epoch 65/100\n",
      "45000/45000 [==============================] - 16s 346us/sample - loss: 0.6869 - accuracy: 0.7558 - val_loss: 0.6970 - val_accuracy: 0.7506\n",
      "Epoch 66/100\n",
      "45000/45000 [==============================] - 16s 361us/sample - loss: 0.6825 - accuracy: 0.7548 - val_loss: 0.6145 - val_accuracy: 0.7830\n",
      "Epoch 67/100\n",
      "45000/45000 [==============================] - 16s 350us/sample - loss: 0.6743 - accuracy: 0.7595 - val_loss: 0.5879 - val_accuracy: 0.7950\n",
      "Epoch 68/100\n",
      "45000/45000 [==============================] - 16s 348us/sample - loss: 0.6614 - accuracy: 0.7655 - val_loss: 0.6092 - val_accuracy: 0.7914\n",
      "Epoch 69/100\n",
      "45000/45000 [==============================] - 15s 342us/sample - loss: 0.6522 - accuracy: 0.7662 - val_loss: 0.6384 - val_accuracy: 0.7682\n",
      "Epoch 70/100\n",
      "45000/45000 [==============================] - 16s 345us/sample - loss: 0.6431 - accuracy: 0.7689 - val_loss: 0.6823 - val_accuracy: 0.7554\n",
      "Epoch 71/100\n",
      "45000/45000 [==============================] - 16s 349us/sample - loss: 0.6379 - accuracy: 0.7718 - val_loss: 0.5870 - val_accuracy: 0.7880\n",
      "Epoch 72/100\n",
      "45000/45000 [==============================] - 16s 349us/sample - loss: 0.6293 - accuracy: 0.7743 - val_loss: 0.5711 - val_accuracy: 0.7974\n",
      "Epoch 73/100\n",
      "45000/45000 [==============================] - 17s 369us/sample - loss: 0.6168 - accuracy: 0.7780 - val_loss: 0.6303 - val_accuracy: 0.7714\n",
      "Epoch 74/100\n",
      "45000/45000 [==============================] - 18s 398us/sample - loss: 0.6114 - accuracy: 0.7808 - val_loss: 0.5708 - val_accuracy: 0.7970\n",
      "Epoch 75/100\n",
      "45000/45000 [==============================] - 17s 382us/sample - loss: 0.6026 - accuracy: 0.7842 - val_loss: 0.6140 - val_accuracy: 0.7762\n",
      "Epoch 76/100\n",
      "45000/45000 [==============================] - 17s 377us/sample - loss: 0.5950 - accuracy: 0.7854 - val_loss: 0.5427 - val_accuracy: 0.8068\n",
      "Epoch 77/100\n",
      "45000/45000 [==============================] - 17s 371us/sample - loss: 0.5856 - accuracy: 0.7914 - val_loss: 0.6349 - val_accuracy: 0.7752\n",
      "Epoch 78/100\n",
      "45000/45000 [==============================] - 17s 372us/sample - loss: 0.5794 - accuracy: 0.7931 - val_loss: 0.5152 - val_accuracy: 0.8172\n",
      "Epoch 79/100\n",
      "45000/45000 [==============================] - 17s 370us/sample - loss: 0.5692 - accuracy: 0.7959 - val_loss: 0.5454 - val_accuracy: 0.8042\n",
      "Epoch 80/100\n",
      "45000/45000 [==============================] - 17s 370us/sample - loss: 0.5629 - accuracy: 0.7991 - val_loss: 0.5389 - val_accuracy: 0.8134\n",
      "Epoch 81/100\n",
      "45000/45000 [==============================] - 17s 369us/sample - loss: 0.5567 - accuracy: 0.8008 - val_loss: 0.5452 - val_accuracy: 0.8088\n",
      "Epoch 82/100\n",
      "45000/45000 [==============================] - 17s 382us/sample - loss: 0.5503 - accuracy: 0.8028 - val_loss: 0.5119 - val_accuracy: 0.8162\n",
      "Epoch 83/100\n",
      "45000/45000 [==============================] - 21s 465us/sample - loss: 0.5421 - accuracy: 0.8068 - val_loss: 0.5244 - val_accuracy: 0.8114\n",
      "Epoch 84/100\n",
      "45000/45000 [==============================] - 18s 404us/sample - loss: 0.5325 - accuracy: 0.8096 - val_loss: 0.5687 - val_accuracy: 0.7906\n",
      "Epoch 85/100\n",
      "45000/45000 [==============================] - 18s 395us/sample - loss: 0.5262 - accuracy: 0.8120 - val_loss: 0.5537 - val_accuracy: 0.7966\n",
      "Epoch 86/100\n",
      "45000/45000 [==============================] - 16s 362us/sample - loss: 0.5236 - accuracy: 0.8116 - val_loss: 0.5436 - val_accuracy: 0.8054\n",
      "Epoch 87/100\n",
      "45000/45000 [==============================] - 17s 383us/sample - loss: 0.5118 - accuracy: 0.8162 - val_loss: 0.4718 - val_accuracy: 0.8350\n",
      "Epoch 88/100\n",
      "45000/45000 [==============================] - 17s 367us/sample - loss: 0.5098 - accuracy: 0.8179 - val_loss: 0.4581 - val_accuracy: 0.8332\n",
      "Epoch 89/100\n",
      "45000/45000 [==============================] - 17s 383us/sample - loss: 0.5028 - accuracy: 0.8234 - val_loss: 0.4677 - val_accuracy: 0.8342\n",
      "Epoch 90/100\n",
      "45000/45000 [==============================] - 18s 391us/sample - loss: 0.4924 - accuracy: 0.8241 - val_loss: 0.4766 - val_accuracy: 0.8190\n",
      "Epoch 91/100\n",
      "45000/45000 [==============================] - 17s 388us/sample - loss: 0.4865 - accuracy: 0.8282 - val_loss: 0.4450 - val_accuracy: 0.8378\n",
      "Epoch 92/100\n",
      "45000/45000 [==============================] - 20s 439us/sample - loss: 0.4778 - accuracy: 0.8298 - val_loss: 0.4488 - val_accuracy: 0.8376\n",
      "Epoch 93/100\n",
      "45000/45000 [==============================] - 17s 383us/sample - loss: 0.4742 - accuracy: 0.8298 - val_loss: 0.4603 - val_accuracy: 0.8292\n",
      "Epoch 94/100\n",
      "45000/45000 [==============================] - 17s 382us/sample - loss: 0.4688 - accuracy: 0.8322 - val_loss: 0.4708 - val_accuracy: 0.8298\n",
      "Epoch 95/100\n",
      "45000/45000 [==============================] - 18s 392us/sample - loss: 0.4647 - accuracy: 0.8323 - val_loss: 0.4409 - val_accuracy: 0.8364\n",
      "Epoch 96/100\n",
      "45000/45000 [==============================] - 17s 385us/sample - loss: 0.4608 - accuracy: 0.8360 - val_loss: 0.4239 - val_accuracy: 0.8480\n",
      "Epoch 97/100\n",
      "45000/45000 [==============================] - 17s 381us/sample - loss: 0.4515 - accuracy: 0.8398 - val_loss: 0.4224 - val_accuracy: 0.8468\n",
      "Epoch 98/100\n",
      "45000/45000 [==============================] - 16s 357us/sample - loss: 0.4471 - accuracy: 0.8411 - val_loss: 0.4411 - val_accuracy: 0.8402\n",
      "Epoch 99/100\n",
      "45000/45000 [==============================] - 17s 379us/sample - loss: 0.4367 - accuracy: 0.8441 - val_loss: 0.4424 - val_accuracy: 0.8432\n",
      "Epoch 100/100\n",
      "45000/45000 [==============================] - 18s 390us/sample - loss: 0.4370 - accuracy: 0.8427 - val_loss: 0.3725 - val_accuracy: 0.8666\n"
     ]
    },
    {
     "data": {
      "text/plain": [
       "<tensorflow.python.keras.callbacks.History at 0x2158a064e10>"
      ]
     },
     "execution_count": 16,
     "metadata": {},
     "output_type": "execute_result"
    }
   ],
   "source": [
    "# Fit the model\n",
    "model.fit(X_train, y_train,\n",
    "          epochs          = 100,\n",
    "          validation_data = (X_valid, y_valid),\n",
    "          callbacks       = callbacks)"
   ]
  },
  {
   "cell_type": "code",
   "execution_count": 29,
   "metadata": {},
   "outputs": [],
   "source": [
    "loss_1     = model.history.history['loss']\n",
    "val_loss_1 = model.history.history['val_loss']\n",
    "acc_1      = model.history.history['accuracy']\n",
    "val_acc_1  = model.history.history['val_accuracy']"
   ]
  },
  {
   "cell_type": "code",
   "execution_count": 31,
   "metadata": {
    "scrolled": true
   },
   "outputs": [
    {
     "data": {
      "image/png": "[encoded data removed]",
      "text/plain": [
       "<Figure size 432x288 with 1 Axes>"
      ]
     },
     "metadata": {
      "needs_background": "light"
     },
     "output_type": "display_data"
    }
   ],
   "source": [
    "plt.plot(loss_1, label = 'Train Loss', alpha = .8)\n",
    "plt.plot(val_loss_1, label = 'Val Loss', alpha = .8)\n",
    "# plt.plot(acc_1, label = 'Train Acc', alpha = .8)\n",
    "# plt.plot(val_acc_1, label = 'Val Acc', alpha = .8)\n",
    "plt.legend()\n",
    "plt.title('Model 1')\n",
    "plt.show()"
   ]
  },
  {
   "cell_type": "markdown",
   "metadata": {},
   "source": [
    "### Approach 2\n",
    "* ELU + He Normal + Nadam 5e-4 + Batch Norm"
   ]
  },
  {
   "cell_type": "code",
   "execution_count": 58,
   "metadata": {},
   "outputs": [],
   "source": [
    "model_2 = tf.keras.models.Sequential()"
   ]
  },
  {
   "cell_type": "code",
   "execution_count": 59,
   "metadata": {},
   "outputs": [],
   "source": [
    "model_2.add(tf.keras.layers.Flatten(input_shape = [32, 32, 3]))\n",
    "model_2.add(tf.keras.layers.BatchNormalization())\n",
    "\n",
    "for i in range(n_layers):\n",
    "    model_2.add(tf.keras.layers.Dense(100, \n",
    "                                      kernel_initializer = 'he_normal',\n",
    "                                      use_bias   = False))\n",
    "    \n",
    "    model_2.add(tf.keras.layers.BatchNormalization())\n",
    "    model_2.add(tf.keras.layers.Activation('elu'))\n",
    "    \n",
    "model_2.add(tf.keras.layers.Dense(10, activation = 'softmax'))"
   ]
  },
  {
   "cell_type": "code",
   "execution_count": 60,
   "metadata": {},
   "outputs": [],
   "source": [
    "optimizer = tf.keras.optimizers.Nadam(lr = 5e-4)"
   ]
  },
  {
   "cell_type": "code",
   "execution_count": 61,
   "metadata": {},
   "outputs": [],
   "source": [
    "model_2.compile(loss      = 'sparse_categorical_crossentropy',\n",
    "              optimizer = optimizer,\n",
    "              metrics   = ['accuracy'])"
   ]
  },
  {
   "cell_type": "code",
   "execution_count": 62,
   "metadata": {},
   "outputs": [],
   "source": [
    "# model_2.summary()"
   ]
  },
  {
   "cell_type": "code",
   "execution_count": 63,
   "metadata": {},
   "outputs": [],
   "source": [
    "# Define callbacks\n",
    "early_stopping_cb   = tf.keras.callbacks.EarlyStopping(patience = 20)\n",
    "model_checkpoint_cb = tf.keras.callbacks.ModelCheckpoint(\"cifar10_model_2.h5\", save_best_only = True)\n",
    "\n",
    "callbacks = [early_stopping_cb, model_checkpoint_cb]"
   ]
  },
  {
   "cell_type": "code",
   "execution_count": 64,
   "metadata": {},
   "outputs": [
    {
     "name": "stdout",
     "output_type": "stream",
     "text": [
      "Train on 45000 samples, validate on 5000 samples\n",
      "Epoch 1/100\n",
      "45000/45000 [==============================] - 31s 692us/sample - loss: 1.8430 - accuracy: 0.3400 - val_loss: 1.6447 - val_accuracy: 0.4102\n",
      "Epoch 2/100\n",
      "45000/45000 [==============================] - 22s 488us/sample - loss: 1.6726 - accuracy: 0.4040 - val_loss: 1.5380 - val_accuracy: 0.4386\n",
      "Epoch 3/100\n",
      "45000/45000 [==============================] - 22s 478us/sample - loss: 1.6028 - accuracy: 0.4305 - val_loss: 1.4554 - val_accuracy: 0.4724\n",
      "Epoch 4/100\n",
      "45000/45000 [==============================] - 22s 478us/sample - loss: 1.5513 - accuracy: 0.4510 - val_loss: 1.3903 - val_accuracy: 0.5068\n",
      "Epoch 5/100\n",
      "45000/45000 [==============================] - 22s 494us/sample - loss: 1.5052 - accuracy: 0.4648 - val_loss: 1.3572 - val_accuracy: 0.5180\n",
      "Epoch 6/100\n",
      "45000/45000 [==============================] - 23s 515us/sample - loss: 1.4674 - accuracy: 0.4769 - val_loss: 1.3026 - val_accuracy: 0.5398\n",
      "Epoch 7/100\n",
      "45000/45000 [==============================] - 24s 523us/sample - loss: 1.4304 - accuracy: 0.4915 - val_loss: 1.2875 - val_accuracy: 0.5342\n",
      "Epoch 8/100\n",
      "45000/45000 [==============================] - 24s 526us/sample - loss: 1.4065 - accuracy: 0.5013 - val_loss: 1.2599 - val_accuracy: 0.5558\n",
      "Epoch 9/100\n",
      "45000/45000 [==============================] - 22s 494us/sample - loss: 1.3819 - accuracy: 0.5121 - val_loss: 1.2304 - val_accuracy: 0.5572\n",
      "Epoch 10/100\n",
      "45000/45000 [==============================] - 22s 484us/sample - loss: 1.3625 - accuracy: 0.5190 - val_loss: 1.1665 - val_accuracy: 0.5768\n",
      "Epoch 11/100\n",
      "45000/45000 [==============================] - 22s 484us/sample - loss: 1.3374 - accuracy: 0.5250 - val_loss: 1.1590 - val_accuracy: 0.5850\n",
      "Epoch 12/100\n",
      "45000/45000 [==============================] - 23s 500us/sample - loss: 1.3179 - accuracy: 0.5339 - val_loss: 1.1433 - val_accuracy: 0.5910\n",
      "Epoch 13/100\n",
      "45000/45000 [==============================] - 23s 514us/sample - loss: 1.2931 - accuracy: 0.5432 - val_loss: 1.1219 - val_accuracy: 0.6042\n",
      "Epoch 14/100\n",
      "45000/45000 [==============================] - 23s 521us/sample - loss: 1.2765 - accuracy: 0.5483 - val_loss: 1.0989 - val_accuracy: 0.6154\n",
      "Epoch 15/100\n",
      "45000/45000 [==============================] - 23s 510us/sample - loss: 1.2587 - accuracy: 0.5546 - val_loss: 1.0696 - val_accuracy: 0.6220\n",
      "Epoch 16/100\n",
      "45000/45000 [==============================] - 23s 504us/sample - loss: 1.2401 - accuracy: 0.5621 - val_loss: 1.1060 - val_accuracy: 0.5986\n",
      "Epoch 17/100\n",
      "45000/45000 [==============================] - 24s 525us/sample - loss: 1.2252 - accuracy: 0.5665 - val_loss: 1.0417 - val_accuracy: 0.6308\n",
      "Epoch 18/100\n",
      "45000/45000 [==============================] - 26s 573us/sample - loss: 1.2105 - accuracy: 0.5724 - val_loss: 1.0097 - val_accuracy: 0.6374\n",
      "Epoch 19/100\n",
      "45000/45000 [==============================] - 28s 621us/sample - loss: 1.1994 - accuracy: 0.5762 - val_loss: 1.0216 - val_accuracy: 0.6326\n",
      "Epoch 20/100\n",
      "45000/45000 [==============================] - 28s 632us/sample - loss: 1.1861 - accuracy: 0.5829 - val_loss: 0.9849 - val_accuracy: 0.6516\n",
      "Epoch 21/100\n",
      "45000/45000 [==============================] - 22s 498us/sample - loss: 1.1656 - accuracy: 0.5897 - val_loss: 0.9780 - val_accuracy: 0.6526\n",
      "Epoch 22/100\n",
      "45000/45000 [==============================] - 23s 515us/sample - loss: 1.1585 - accuracy: 0.5913 - val_loss: 0.9715 - val_accuracy: 0.6536\n",
      "Epoch 23/100\n",
      "45000/45000 [==============================] - 818s 18ms/sample - loss: 1.1455 - accuracy: 0.5987 - val_loss: 0.9031 - val_accuracy: 0.6802\n",
      "Epoch 24/100\n",
      "45000/45000 [==============================] - 21s 465us/sample - loss: 1.1395 - accuracy: 0.5982 - val_loss: 0.9189 - val_accuracy: 0.6772\n",
      "Epoch 25/100\n",
      "45000/45000 [==============================] - 21s 465us/sample - loss: 1.1207 - accuracy: 0.6065 - val_loss: 0.9217 - val_accuracy: 0.6760\n",
      "Epoch 26/100\n",
      "45000/45000 [==============================] - 21s 475us/sample - loss: 1.1075 - accuracy: 0.6102 - val_loss: 0.9061 - val_accuracy: 0.6824\n",
      "Epoch 27/100\n",
      "45000/45000 [==============================] - 21s 477us/sample - loss: 1.0955 - accuracy: 0.6139 - val_loss: 0.8908 - val_accuracy: 0.6896\n",
      "Epoch 28/100\n",
      "45000/45000 [==============================] - 21s 476us/sample - loss: 1.0832 - accuracy: 0.6172 - val_loss: 0.8907 - val_accuracy: 0.6886\n",
      "Epoch 29/100\n",
      "45000/45000 [==============================] - 21s 476us/sample - loss: 1.0802 - accuracy: 0.6195 - val_loss: 0.8933 - val_accuracy: 0.6870\n",
      "Epoch 30/100\n",
      "45000/45000 [==============================] - 22s 479us/sample - loss: 1.0625 - accuracy: 0.6239 - val_loss: 0.8690 - val_accuracy: 0.6916\n",
      "Epoch 31/100\n",
      "45000/45000 [==============================] - 22s 480us/sample - loss: 1.0540 - accuracy: 0.6270 - val_loss: 0.8495 - val_accuracy: 0.7020\n",
      "Epoch 32/100\n",
      "45000/45000 [==============================] - 22s 479us/sample - loss: 1.0484 - accuracy: 0.6310 - val_loss: 0.8559 - val_accuracy: 0.6942\n",
      "Epoch 33/100\n",
      "45000/45000 [==============================] - 22s 484us/sample - loss: 1.0411 - accuracy: 0.6338 - val_loss: 0.8175 - val_accuracy: 0.7168\n",
      "Epoch 34/100\n",
      "45000/45000 [==============================] - 22s 486us/sample - loss: 1.0225 - accuracy: 0.6389 - val_loss: 0.8016 - val_accuracy: 0.7210\n",
      "Epoch 35/100\n",
      "45000/45000 [==============================] - 22s 482us/sample - loss: 1.0164 - accuracy: 0.6420 - val_loss: 0.7771 - val_accuracy: 0.7302\n",
      "Epoch 36/100\n",
      "45000/45000 [==============================] - 22s 482us/sample - loss: 1.0062 - accuracy: 0.6452 - val_loss: 0.7688 - val_accuracy: 0.7284\n",
      "Epoch 37/100\n",
      "45000/45000 [==============================] - 23s 517us/sample - loss: 0.9968 - accuracy: 0.6497 - val_loss: 0.7759 - val_accuracy: 0.7292\n",
      "Epoch 38/100\n",
      "45000/45000 [==============================] - 22s 479us/sample - loss: 0.9877 - accuracy: 0.6532 - val_loss: 0.7774 - val_accuracy: 0.7276\n",
      "Epoch 39/100\n",
      "45000/45000 [==============================] - 22s 484us/sample - loss: 0.9786 - accuracy: 0.6559 - val_loss: 0.7682 - val_accuracy: 0.7360\n",
      "Epoch 40/100\n",
      "45000/45000 [==============================] - 22s 483us/sample - loss: 0.9752 - accuracy: 0.6548 - val_loss: 0.7599 - val_accuracy: 0.7294\n",
      "Epoch 41/100\n",
      "45000/45000 [==============================] - 22s 483us/sample - loss: 0.9602 - accuracy: 0.6618 - val_loss: 0.7505 - val_accuracy: 0.7306\n",
      "Epoch 42/100\n",
      "45000/45000 [==============================] - 22s 482us/sample - loss: 0.9524 - accuracy: 0.6666 - val_loss: 0.7423 - val_accuracy: 0.7482\n",
      "Epoch 43/100\n",
      "45000/45000 [==============================] - 22s 485us/sample - loss: 0.9537 - accuracy: 0.6668 - val_loss: 0.7123 - val_accuracy: 0.7474\n",
      "Epoch 44/100\n",
      "45000/45000 [==============================] - 22s 481us/sample - loss: 0.9408 - accuracy: 0.6711 - val_loss: 0.7298 - val_accuracy: 0.7516\n",
      "Epoch 45/100\n",
      "45000/45000 [==============================] - 22s 487us/sample - loss: 0.9294 - accuracy: 0.6716 - val_loss: 0.7027 - val_accuracy: 0.7600\n",
      "Epoch 46/100\n",
      "45000/45000 [==============================] - 22s 484us/sample - loss: 0.9220 - accuracy: 0.6746 - val_loss: 0.6981 - val_accuracy: 0.7642\n",
      "Epoch 47/100\n",
      "45000/45000 [==============================] - 22s 484us/sample - loss: 0.9197 - accuracy: 0.6760 - val_loss: 0.6915 - val_accuracy: 0.7586\n",
      "Epoch 48/100\n",
      "45000/45000 [==============================] - 22s 483us/sample - loss: 0.9044 - accuracy: 0.6825 - val_loss: 0.7311 - val_accuracy: 0.7458\n",
      "Epoch 49/100\n",
      "45000/45000 [==============================] - 22s 485us/sample - loss: 0.9046 - accuracy: 0.6812 - val_loss: 0.6451 - val_accuracy: 0.7778\n",
      "Epoch 50/100\n",
      "45000/45000 [==============================] - 22s 485us/sample - loss: 0.8907 - accuracy: 0.6868 - val_loss: 0.6734 - val_accuracy: 0.7686\n",
      "Epoch 51/100\n",
      "45000/45000 [==============================] - 22s 489us/sample - loss: 0.8918 - accuracy: 0.6870 - val_loss: 0.6667 - val_accuracy: 0.7718\n",
      "Epoch 52/100\n",
      "45000/45000 [==============================] - 22s 485us/sample - loss: 0.8800 - accuracy: 0.6908 - val_loss: 0.6385 - val_accuracy: 0.7804\n",
      "Epoch 53/100\n",
      "45000/45000 [==============================] - 22s 482us/sample - loss: 0.8694 - accuracy: 0.6922 - val_loss: 0.6566 - val_accuracy: 0.7720\n",
      "Epoch 54/100\n"
     ]
    },
    {
     "name": "stdout",
     "output_type": "stream",
     "text": [
      "45000/45000 [==============================] - 22s 481us/sample - loss: 0.8758 - accuracy: 0.6938 - val_loss: 0.6517 - val_accuracy: 0.7694\n",
      "Epoch 55/100\n",
      "45000/45000 [==============================] - 22s 484us/sample - loss: 0.8588 - accuracy: 0.6966 - val_loss: 0.6320 - val_accuracy: 0.7836\n",
      "Epoch 56/100\n",
      "45000/45000 [==============================] - 22s 488us/sample - loss: 0.8513 - accuracy: 0.6993 - val_loss: 0.6213 - val_accuracy: 0.7922\n",
      "Epoch 57/100\n",
      "45000/45000 [==============================] - 22s 485us/sample - loss: 0.8439 - accuracy: 0.7030 - val_loss: 0.6064 - val_accuracy: 0.7926\n",
      "Epoch 58/100\n",
      "45000/45000 [==============================] - 22s 484us/sample - loss: 0.8408 - accuracy: 0.7036 - val_loss: 0.5987 - val_accuracy: 0.7988\n",
      "Epoch 59/100\n",
      "45000/45000 [==============================] - 22s 485us/sample - loss: 0.8339 - accuracy: 0.7072 - val_loss: 0.5962 - val_accuracy: 0.7992\n",
      "Epoch 60/100\n",
      "45000/45000 [==============================] - 22s 481us/sample - loss: 0.8295 - accuracy: 0.7056 - val_loss: 0.6039 - val_accuracy: 0.7930\n",
      "Epoch 61/100\n",
      "45000/45000 [==============================] - 22s 485us/sample - loss: 0.8188 - accuracy: 0.7124 - val_loss: 0.5657 - val_accuracy: 0.8068\n",
      "Epoch 62/100\n",
      "45000/45000 [==============================] - 22s 482us/sample - loss: 0.8179 - accuracy: 0.7093 - val_loss: 0.5724 - val_accuracy: 0.8052\n",
      "Epoch 63/100\n",
      "45000/45000 [==============================] - 22s 481us/sample - loss: 0.8115 - accuracy: 0.7153 - val_loss: 0.5874 - val_accuracy: 0.7950\n",
      "Epoch 64/100\n",
      "45000/45000 [==============================] - 22s 494us/sample - loss: 0.8061 - accuracy: 0.7155 - val_loss: 0.5557 - val_accuracy: 0.8070\n",
      "Epoch 65/100\n",
      "45000/45000 [==============================] - 22s 484us/sample - loss: 0.8043 - accuracy: 0.7157 - val_loss: 0.5656 - val_accuracy: 0.8054\n",
      "Epoch 66/100\n",
      "45000/45000 [==============================] - 22s 486us/sample - loss: 0.7936 - accuracy: 0.7203 - val_loss: 0.5430 - val_accuracy: 0.8206\n",
      "Epoch 67/100\n",
      "45000/45000 [==============================] - 22s 487us/sample - loss: 0.7849 - accuracy: 0.7240 - val_loss: 0.5373 - val_accuracy: 0.8218\n",
      "Epoch 68/100\n",
      "45000/45000 [==============================] - 22s 485us/sample - loss: 0.7823 - accuracy: 0.7229 - val_loss: 0.5333 - val_accuracy: 0.8170\n",
      "Epoch 69/100\n",
      "45000/45000 [==============================] - 22s 482us/sample - loss: 0.7820 - accuracy: 0.7259 - val_loss: 0.5450 - val_accuracy: 0.8146\n",
      "Epoch 70/100\n",
      "45000/45000 [==============================] - 22s 482us/sample - loss: 0.7655 - accuracy: 0.7295 - val_loss: 0.5568 - val_accuracy: 0.8056\n",
      "Epoch 71/100\n",
      "45000/45000 [==============================] - 22s 484us/sample - loss: 0.7690 - accuracy: 0.7284 - val_loss: 0.5114 - val_accuracy: 0.8308\n",
      "Epoch 72/100\n",
      "45000/45000 [==============================] - 22s 481us/sample - loss: 0.7608 - accuracy: 0.7324 - val_loss: 0.5115 - val_accuracy: 0.8296\n",
      "Epoch 73/100\n",
      "45000/45000 [==============================] - 22s 482us/sample - loss: 0.7616 - accuracy: 0.7327 - val_loss: 0.5150 - val_accuracy: 0.8258\n",
      "Epoch 74/100\n",
      "45000/45000 [==============================] - 22s 483us/sample - loss: 0.7590 - accuracy: 0.7330 - val_loss: 0.5300 - val_accuracy: 0.8196\n",
      "Epoch 75/100\n",
      "45000/45000 [==============================] - 22s 486us/sample - loss: 0.7469 - accuracy: 0.7378 - val_loss: 0.4932 - val_accuracy: 0.8398\n",
      "Epoch 76/100\n",
      "45000/45000 [==============================] - 22s 485us/sample - loss: 0.7451 - accuracy: 0.7372 - val_loss: 0.4901 - val_accuracy: 0.8366\n",
      "Epoch 77/100\n",
      "45000/45000 [==============================] - 22s 485us/sample - loss: 0.7391 - accuracy: 0.7373 - val_loss: 0.4778 - val_accuracy: 0.8398\n",
      "Epoch 78/100\n",
      "45000/45000 [==============================] - 22s 485us/sample - loss: 0.7409 - accuracy: 0.7369 - val_loss: 0.4989 - val_accuracy: 0.8422\n",
      "Epoch 79/100\n",
      "45000/45000 [==============================] - 22s 497us/sample - loss: 0.7308 - accuracy: 0.7400 - val_loss: 0.4699 - val_accuracy: 0.8500\n",
      "Epoch 80/100\n",
      "45000/45000 [==============================] - 22s 483us/sample - loss: 0.7237 - accuracy: 0.7443 - val_loss: 0.4707 - val_accuracy: 0.8388\n",
      "Epoch 81/100\n",
      "45000/45000 [==============================] - 22s 482us/sample - loss: 0.7260 - accuracy: 0.7448 - val_loss: 0.4728 - val_accuracy: 0.8418\n",
      "Epoch 82/100\n",
      "45000/45000 [==============================] - 22s 486us/sample - loss: 0.7132 - accuracy: 0.7480 - val_loss: 0.4686 - val_accuracy: 0.8410\n",
      "Epoch 83/100\n",
      "45000/45000 [==============================] - 22s 485us/sample - loss: 0.7225 - accuracy: 0.7459 - val_loss: 0.4571 - val_accuracy: 0.8510\n",
      "Epoch 84/100\n",
      "45000/45000 [==============================] - 22s 489us/sample - loss: 0.7103 - accuracy: 0.7495 - val_loss: 0.4537 - val_accuracy: 0.8480\n",
      "Epoch 85/100\n",
      "45000/45000 [==============================] - 22s 486us/sample - loss: 0.7023 - accuracy: 0.7530 - val_loss: 0.4423 - val_accuracy: 0.8542\n",
      "Epoch 86/100\n",
      "45000/45000 [==============================] - 22s 486us/sample - loss: 0.6996 - accuracy: 0.7540 - val_loss: 0.4308 - val_accuracy: 0.8604\n",
      "Epoch 87/100\n",
      "45000/45000 [==============================] - 22s 482us/sample - loss: 0.6946 - accuracy: 0.7568 - val_loss: 0.4524 - val_accuracy: 0.8524\n",
      "Epoch 88/100\n",
      "45000/45000 [==============================] - 22s 483us/sample - loss: 0.6913 - accuracy: 0.7563 - val_loss: 0.4337 - val_accuracy: 0.8608\n",
      "Epoch 89/100\n",
      "45000/45000 [==============================] - 22s 488us/sample - loss: 0.6786 - accuracy: 0.7605 - val_loss: 0.4154 - val_accuracy: 0.8632\n",
      "Epoch 90/100\n",
      "45000/45000 [==============================] - 22s 487us/sample - loss: 0.6803 - accuracy: 0.7599 - val_loss: 0.4103 - val_accuracy: 0.8670\n",
      "Epoch 91/100\n",
      "45000/45000 [==============================] - 22s 481us/sample - loss: 0.6811 - accuracy: 0.7612 - val_loss: 0.4160 - val_accuracy: 0.8642\n",
      "Epoch 92/100\n",
      "45000/45000 [==============================] - 22s 486us/sample - loss: 0.6778 - accuracy: 0.7603 - val_loss: 0.4302 - val_accuracy: 0.8606\n",
      "Epoch 93/100\n",
      "45000/45000 [==============================] - 22s 482us/sample - loss: 0.6618 - accuracy: 0.7649 - val_loss: 0.4305 - val_accuracy: 0.8556\n",
      "Epoch 94/100\n",
      "45000/45000 [==============================] - 22s 482us/sample - loss: 0.6662 - accuracy: 0.7640 - val_loss: 0.4210 - val_accuracy: 0.8662\n",
      "Epoch 95/100\n",
      "45000/45000 [==============================] - 22s 482us/sample - loss: 0.6628 - accuracy: 0.7676 - val_loss: 0.4122 - val_accuracy: 0.8696\n",
      "Epoch 96/100\n",
      "45000/45000 [==============================] - 22s 485us/sample - loss: 0.6603 - accuracy: 0.7677 - val_loss: 0.3921 - val_accuracy: 0.8752\n",
      "Epoch 97/100\n",
      "45000/45000 [==============================] - 22s 481us/sample - loss: 0.6580 - accuracy: 0.7682 - val_loss: 0.4144 - val_accuracy: 0.8638\n",
      "Epoch 98/100\n",
      "45000/45000 [==============================] - 22s 483us/sample - loss: 0.6526 - accuracy: 0.7690 - val_loss: 0.3937 - val_accuracy: 0.8792\n",
      "Epoch 99/100\n",
      "45000/45000 [==============================] - 22s 481us/sample - loss: 0.6511 - accuracy: 0.7704 - val_loss: 0.3951 - val_accuracy: 0.8764\n",
      "Epoch 100/100\n",
      "45000/45000 [==============================] - 22s 487us/sample - loss: 0.6474 - accuracy: 0.7724 - val_loss: 0.3761 - val_accuracy: 0.8808\n"
     ]
    },
    {
     "data": {
      "text/plain": [
       "<tensorflow.python.keras.callbacks.History at 0x215e2627f60>"
      ]
     },
     "execution_count": 64,
     "metadata": {},
     "output_type": "execute_result"
    }
   ],
   "source": [
    "# Fit the model\n",
    "model_2.fit(X_train, y_train,\n",
    "          epochs          = 100,\n",
    "          validation_data = (X_valid, y_valid),\n",
    "          callbacks       = callbacks)"
   ]
  },
  {
   "cell_type": "code",
   "execution_count": 65,
   "metadata": {},
   "outputs": [],
   "source": [
    "loss_2     = model_2.history.history['loss']\n",
    "val_loss_2 = model_2.history.history['val_loss']\n",
    "acc_2      = model_2.history.history['accuracy']\n",
    "val_acc_2  = model_2.history.history['val_accuracy']"
   ]
  },
  {
   "cell_type": "code",
   "execution_count": 66,
   "metadata": {
    "scrolled": false
   },
   "outputs": [
    {
     "data": {
      "image/png": "[encoded data removed]",
      "text/plain": [
       "<Figure size 432x288 with 1 Axes>"
      ]
     },
     "metadata": {},
     "output_type": "display_data"
    }
   ],
   "source": [
    "plt.plot(loss_1, label = 'Train Loss 1', alpha = .7)\n",
    "plt.plot(val_loss_1, label = 'Val Loss 1', alpha = .7)\n",
    "plt.plot(loss_2, label = 'Train Loss 2', alpha = .7)\n",
    "plt.plot(val_loss_2, label = 'Val Loss 2', alpha = .7)\n",
    "# plt.plot(acc_2, label = 'Train Acc', alpha = .8)\n",
    "# plt.plot(val_acc_2, label = 'Val Acc', alpha = .8)\n",
    "plt.legend()\n",
    "plt.title('Model 1 vs 2')\n",
    "plt.show()"
   ]
  },
  {
   "cell_type": "markdown",
   "metadata": {},
   "source": [
    "### Approach 3\n",
    "* SELU + LeCun Normal + Nadam 5e-4 "
   ]
  },
  {
   "cell_type": "code",
   "execution_count": 125,
   "metadata": {},
   "outputs": [],
   "source": [
    "model_3 = tf.keras.models.Sequential()"
   ]
  },
  {
   "cell_type": "code",
   "execution_count": 126,
   "metadata": {},
   "outputs": [],
   "source": [
    "model_3.add(tf.keras.layers.Flatten(input_shape = [32, 32, 3]))\n",
    "\n",
    "for i in range(n_layers):\n",
    "    model_3.add(tf.keras.layers.Dense(100, \n",
    "                                      kernel_initializer = 'lecun_normal',\n",
    "                                      activation         = 'selu'))\n",
    "    \n",
    "model_3.add(tf.keras.layers.Dense(10, activation = 'softmax'))"
   ]
  },
  {
   "cell_type": "code",
   "execution_count": 127,
   "metadata": {},
   "outputs": [],
   "source": [
    "optimizer = tf.keras.optimizers.Nadam(lr = 5e-4)"
   ]
  },
  {
   "cell_type": "code",
   "execution_count": 128,
   "metadata": {},
   "outputs": [],
   "source": [
    "model_3.compile(loss      = 'sparse_categorical_crossentropy',\n",
    "                optimizer = optimizer,\n",
    "                metrics   = ['accuracy'])"
   ]
  },
  {
   "cell_type": "code",
   "execution_count": 129,
   "metadata": {},
   "outputs": [],
   "source": [
    "# model_3.summary()"
   ]
  },
  {
   "cell_type": "code",
   "execution_count": 130,
   "metadata": {},
   "outputs": [],
   "source": [
    "# Define callbacks\n",
    "early_stopping_cb   = tf.keras.callbacks.EarlyStopping(patience = 20)\n",
    "model_checkpoint_cb = tf.keras.callbacks.ModelCheckpoint(\"cifar10_model_3.h5\", save_best_only = True)\n",
    "\n",
    "callbacks = [early_stopping_cb, model_checkpoint_cb]"
   ]
  },
  {
   "cell_type": "code",
   "execution_count": 8,
   "metadata": {},
   "outputs": [],
   "source": [
    "# SELU requires standardization\n",
    "X_means = X_train.mean(axis=0)\n",
    "X_stds = X_train.std(axis=0)\n",
    "\n",
    "X_train_scaled = (X_train - X_means) / X_stds\n",
    "X_valid_scaled = (X_valid - X_means) / X_stds\n",
    "X_test_scaled  = (X_test - X_means) / X_stds"
   ]
  },
  {
   "cell_type": "code",
   "execution_count": 132,
   "metadata": {},
   "outputs": [
    {
     "name": "stdout",
     "output_type": "stream",
     "text": [
      "Train on 45000 samples, validate on 5000 samples\n",
      "Epoch 1/100\n",
      "45000/45000 [==============================] - 20s 440us/sample - loss: 1.8856 - accuracy: 0.3249 - val_loss: 1.7302 - val_accuracy: 0.3838\n",
      "Epoch 2/100\n",
      "45000/45000 [==============================] - 15s 339us/sample - loss: 1.6682 - accuracy: 0.4061 - val_loss: 1.5891 - val_accuracy: 0.4384\n",
      "Epoch 3/100\n",
      "45000/45000 [==============================] - 16s 359us/sample - loss: 1.5683 - accuracy: 0.4442 - val_loss: 1.4805 - val_accuracy: 0.4636\n",
      "Epoch 4/100\n",
      "45000/45000 [==============================] - 15s 336us/sample - loss: 1.4981 - accuracy: 0.4710 - val_loss: 1.4278 - val_accuracy: 0.4888\n",
      "Epoch 5/100\n",
      "45000/45000 [==============================] - 15s 337us/sample - loss: 1.4392 - accuracy: 0.4920 - val_loss: 1.3510 - val_accuracy: 0.5156\n",
      "Epoch 6/100\n",
      "45000/45000 [==============================] - 15s 338us/sample - loss: 1.3861 - accuracy: 0.5120 - val_loss: 1.2927 - val_accuracy: 0.5540\n",
      "Epoch 7/100\n",
      "45000/45000 [==============================] - 18s 390us/sample - loss: 1.3420 - accuracy: 0.5290 - val_loss: 1.2871 - val_accuracy: 0.5454\n",
      "Epoch 8/100\n",
      "45000/45000 [==============================] - 17s 369us/sample - loss: 1.2991 - accuracy: 0.5466 - val_loss: 1.2251 - val_accuracy: 0.5754\n",
      "Epoch 9/100\n",
      "45000/45000 [==============================] - 17s 377us/sample - loss: 1.2560 - accuracy: 0.5623 - val_loss: 1.1988 - val_accuracy: 0.5836\n",
      "Epoch 10/100\n",
      "45000/45000 [==============================] - 17s 378us/sample - loss: 1.2293 - accuracy: 0.5734 - val_loss: 1.1506 - val_accuracy: 0.6112\n",
      "Epoch 11/100\n",
      "45000/45000 [==============================] - 18s 393us/sample - loss: 1.1940 - accuracy: 0.5851 - val_loss: 1.1419 - val_accuracy: 0.6138\n",
      "Epoch 12/100\n",
      "45000/45000 [==============================] - 17s 370us/sample - loss: 1.1699 - accuracy: 0.5961 - val_loss: 1.1064 - val_accuracy: 0.6016\n",
      "Epoch 13/100\n",
      "45000/45000 [==============================] - 18s 407us/sample - loss: 1.1311 - accuracy: 0.6089 - val_loss: 1.0947 - val_accuracy: 0.6274\n",
      "Epoch 14/100\n",
      "45000/45000 [==============================] - 17s 385us/sample - loss: 1.1092 - accuracy: 0.6190 - val_loss: 1.0293 - val_accuracy: 0.6564\n",
      "Epoch 15/100\n",
      "45000/45000 [==============================] - 16s 365us/sample - loss: 1.0842 - accuracy: 0.6267 - val_loss: 1.0085 - val_accuracy: 0.6612\n",
      "Epoch 16/100\n",
      "45000/45000 [==============================] - 17s 369us/sample - loss: 1.0487 - accuracy: 0.6393 - val_loss: 0.9573 - val_accuracy: 0.6712\n",
      "Epoch 17/100\n",
      "45000/45000 [==============================] - 16s 364us/sample - loss: 1.0331 - accuracy: 0.6464 - val_loss: 0.9646 - val_accuracy: 0.6706\n",
      "Epoch 18/100\n",
      "45000/45000 [==============================] - 16s 363us/sample - loss: 1.0134 - accuracy: 0.6534 - val_loss: 0.9350 - val_accuracy: 0.6854\n",
      "Epoch 19/100\n",
      "45000/45000 [==============================] - 17s 367us/sample - loss: 0.9876 - accuracy: 0.6641 - val_loss: 0.9035 - val_accuracy: 0.6886\n",
      "Epoch 20/100\n",
      "45000/45000 [==============================] - 17s 370us/sample - loss: 0.9669 - accuracy: 0.6721 - val_loss: 0.9018 - val_accuracy: 0.7036\n",
      "Epoch 21/100\n",
      "45000/45000 [==============================] - 16s 363us/sample - loss: 0.9526 - accuracy: 0.6775 - val_loss: 0.9130 - val_accuracy: 0.6940\n",
      "Epoch 22/100\n",
      "45000/45000 [==============================] - 16s 361us/sample - loss: 0.9312 - accuracy: 0.6844 - val_loss: 0.9164 - val_accuracy: 0.6872\n",
      "Epoch 23/100\n",
      "45000/45000 [==============================] - 16s 364us/sample - loss: 0.9133 - accuracy: 0.6915 - val_loss: 0.8656 - val_accuracy: 0.7180\n",
      "Epoch 24/100\n",
      "45000/45000 [==============================] - 16s 364us/sample - loss: 0.8949 - accuracy: 0.6991 - val_loss: 0.8227 - val_accuracy: 0.7208\n",
      "Epoch 25/100\n",
      "45000/45000 [==============================] - 16s 361us/sample - loss: 0.8811 - accuracy: 0.7044 - val_loss: 0.8503 - val_accuracy: 0.7160\n",
      "Epoch 26/100\n",
      "45000/45000 [==============================] - 16s 366us/sample - loss: 0.8623 - accuracy: 0.7104 - val_loss: 0.8105 - val_accuracy: 0.7346\n",
      "Epoch 27/100\n",
      "45000/45000 [==============================] - 18s 399us/sample - loss: 0.8556 - accuracy: 0.7166 - val_loss: 0.7714 - val_accuracy: 0.7498\n",
      "Epoch 28/100\n",
      "45000/45000 [==============================] - 17s 379us/sample - loss: 0.8271 - accuracy: 0.7228 - val_loss: 0.8048 - val_accuracy: 0.7400\n",
      "Epoch 29/100\n",
      "45000/45000 [==============================] - 18s 401us/sample - loss: 0.8161 - accuracy: 0.7275 - val_loss: 0.7473 - val_accuracy: 0.7582\n",
      "Epoch 30/100\n",
      "45000/45000 [==============================] - 17s 386us/sample - loss: 0.8088 - accuracy: 0.7299 - val_loss: 0.7231 - val_accuracy: 0.7490\n",
      "Epoch 31/100\n",
      "45000/45000 [==============================] - 17s 388us/sample - loss: 0.7841 - accuracy: 0.7393 - val_loss: 0.7630 - val_accuracy: 0.7488\n",
      "Epoch 32/100\n",
      "45000/45000 [==============================] - 17s 383us/sample - loss: 0.7790 - accuracy: 0.7417 - val_loss: 0.6932 - val_accuracy: 0.7700\n",
      "Epoch 33/100\n",
      "45000/45000 [==============================] - 17s 375us/sample - loss: 0.7693 - accuracy: 0.7443 - val_loss: 0.7279 - val_accuracy: 0.7642\n",
      "Epoch 34/100\n",
      "45000/45000 [==============================] - 17s 373us/sample - loss: 0.7507 - accuracy: 0.7511 - val_loss: 0.7325 - val_accuracy: 0.7590\n",
      "Epoch 35/100\n",
      "45000/45000 [==============================] - 17s 372us/sample - loss: 0.7377 - accuracy: 0.7558 - val_loss: 0.6570 - val_accuracy: 0.7864\n",
      "Epoch 36/100\n",
      "45000/45000 [==============================] - 19s 429us/sample - loss: 0.7369 - accuracy: 0.7553 - val_loss: 0.6967 - val_accuracy: 0.7732\n",
      "Epoch 37/100\n",
      "45000/45000 [==============================] - 16s 360us/sample - loss: 0.7210 - accuracy: 0.7624 - val_loss: 0.6882 - val_accuracy: 0.7710\n",
      "Epoch 38/100\n",
      "45000/45000 [==============================] - 16s 354us/sample - loss: 0.7457 - accuracy: 0.7505 - val_loss: 0.6397 - val_accuracy: 0.7914\n",
      "Epoch 39/100\n",
      "45000/45000 [==============================] - 17s 377us/sample - loss: 0.6866 - accuracy: 0.7728 - val_loss: 0.6370 - val_accuracy: 0.7952\n",
      "Epoch 40/100\n",
      "45000/45000 [==============================] - 18s 401us/sample - loss: 0.6824 - accuracy: 0.7741 - val_loss: 0.6829 - val_accuracy: 0.7726\n",
      "Epoch 41/100\n",
      "45000/45000 [==============================] - 18s 402us/sample - loss: 0.6799 - accuracy: 0.7764 - val_loss: 0.5955 - val_accuracy: 0.8122\n",
      "Epoch 42/100\n",
      "45000/45000 [==============================] - 18s 392us/sample - loss: 0.6664 - accuracy: 0.7808 - val_loss: 0.6048 - val_accuracy: 0.8034\n",
      "Epoch 43/100\n",
      "45000/45000 [==============================] - 17s 369us/sample - loss: 0.6702 - accuracy: 0.7804 - val_loss: 0.6268 - val_accuracy: 0.8012\n",
      "Epoch 44/100\n",
      "45000/45000 [==============================] - 19s 416us/sample - loss: 2.3712 - accuracy: 0.6742 - val_loss: 0.9161 - val_accuracy: 0.6868\n",
      "Epoch 45/100\n",
      "45000/45000 [==============================] - 17s 385us/sample - loss: 0.9006 - accuracy: 0.6986 - val_loss: 0.7745 - val_accuracy: 0.7398\n",
      "Epoch 46/100\n",
      "45000/45000 [==============================] - 18s 403us/sample - loss: 0.7903 - accuracy: 0.7358 - val_loss: 0.6843 - val_accuracy: 0.7764\n",
      "Epoch 47/100\n",
      "45000/45000 [==============================] - 17s 377us/sample - loss: 0.7156 - accuracy: 0.7626 - val_loss: 0.6402 - val_accuracy: 0.7918\n",
      "Epoch 48/100\n",
      "45000/45000 [==============================] - 19s 422us/sample - loss: 13.8038 - accuracy: 0.7689 - val_loss: 1.2079 - val_accuracy: 0.6032\n",
      "Epoch 49/100\n",
      "45000/45000 [==============================] - 18s 395us/sample - loss: 0.9506 - accuracy: 0.6833 - val_loss: 0.7961 - val_accuracy: 0.7352\n",
      "Epoch 50/100\n",
      "45000/45000 [==============================] - 19s 424us/sample - loss: 0.7713 - accuracy: 0.7405 - val_loss: 0.6917 - val_accuracy: 0.7712\n",
      "Epoch 51/100\n",
      "45000/45000 [==============================] - 18s 407us/sample - loss: 0.6958 - accuracy: 0.7666 - val_loss: 0.6273 - val_accuracy: 0.7914\n",
      "Epoch 52/100\n",
      "45000/45000 [==============================] - 17s 373us/sample - loss: 0.6465 - accuracy: 0.7828 - val_loss: 0.6006 - val_accuracy: 0.8084\n",
      "Epoch 53/100\n",
      "45000/45000 [==============================] - 18s 397us/sample - loss: 0.6258 - accuracy: 0.7921 - val_loss: 0.5772 - val_accuracy: 0.8074\n",
      "Epoch 54/100\n"
     ]
    },
    {
     "name": "stdout",
     "output_type": "stream",
     "text": [
      "45000/45000 [==============================] - 18s 396us/sample - loss: 0.5994 - accuracy: 0.8008 - val_loss: 0.5504 - val_accuracy: 0.8216\n",
      "Epoch 55/100\n",
      "45000/45000 [==============================] - 19s 419us/sample - loss: 0.7403 - accuracy: 0.7550 - val_loss: 0.6515 - val_accuracy: 0.7918\n",
      "Epoch 56/100\n",
      "45000/45000 [==============================] - 20s 435us/sample - loss: 0.6469 - accuracy: 0.7858 - val_loss: 0.5426 - val_accuracy: 0.8272\n",
      "Epoch 57/100\n",
      "45000/45000 [==============================] - 20s 438us/sample - loss: 0.5923 - accuracy: 0.8052 - val_loss: 0.5214 - val_accuracy: 0.8250\n",
      "Epoch 58/100\n",
      "45000/45000 [==============================] - 20s 441us/sample - loss: 0.5827 - accuracy: 0.8066 - val_loss: 0.5361 - val_accuracy: 0.8260\n",
      "Epoch 59/100\n",
      "45000/45000 [==============================] - 19s 430us/sample - loss: 0.5887 - accuracy: 0.8075 - val_loss: 0.5240 - val_accuracy: 0.8300\n",
      "Epoch 60/100\n",
      "45000/45000 [==============================] - 19s 430us/sample - loss: 0.5986 - accuracy: 0.8044 - val_loss: 0.5623 - val_accuracy: 0.8240\n",
      "Epoch 61/100\n",
      "45000/45000 [==============================] - 19s 412us/sample - loss: 0.6021 - accuracy: 0.8033 - val_loss: 0.5642 - val_accuracy: 0.8178\n",
      "Epoch 62/100\n",
      "45000/45000 [==============================] - 18s 403us/sample - loss: 0.8779 - accuracy: 0.7543 - val_loss: 1.2143 - val_accuracy: 0.5794\n",
      "Epoch 63/100\n",
      "45000/45000 [==============================] - 19s 415us/sample - loss: 1.0064 - accuracy: 0.6643 - val_loss: 0.7992 - val_accuracy: 0.7396\n",
      "Epoch 64/100\n",
      "45000/45000 [==============================] - 19s 413us/sample - loss: 0.7646 - accuracy: 0.7469 - val_loss: 0.6586 - val_accuracy: 0.7896\n",
      "Epoch 65/100\n",
      "45000/45000 [==============================] - 19s 421us/sample - loss: 0.6637 - accuracy: 0.7804 - val_loss: 0.6196 - val_accuracy: 0.8024\n",
      "Epoch 66/100\n",
      "45000/45000 [==============================] - 20s 440us/sample - loss: 0.6135 - accuracy: 0.7976 - val_loss: 0.5529 - val_accuracy: 0.8258\n",
      "Epoch 67/100\n",
      "45000/45000 [==============================] - 19s 413us/sample - loss: 0.5852 - accuracy: 0.8066 - val_loss: 0.4983 - val_accuracy: 0.8424\n",
      "Epoch 68/100\n",
      "45000/45000 [==============================] - 19s 424us/sample - loss: 0.5734 - accuracy: 0.8112 - val_loss: 0.5186 - val_accuracy: 0.8302\n",
      "Epoch 69/100\n",
      "45000/45000 [==============================] - 19s 418us/sample - loss: 0.5680 - accuracy: 0.8127 - val_loss: 0.5274 - val_accuracy: 0.8276\n",
      "Epoch 70/100\n",
      "45000/45000 [==============================] - 19s 418us/sample - loss: 0.5620 - accuracy: 0.8157 - val_loss: 0.5152 - val_accuracy: 0.8276\n",
      "Epoch 71/100\n",
      "45000/45000 [==============================] - 19s 417us/sample - loss: 0.5782 - accuracy: 0.8133 - val_loss: 0.6274 - val_accuracy: 0.7960\n",
      "Epoch 72/100\n",
      "45000/45000 [==============================] - 19s 412us/sample - loss: 0.5826 - accuracy: 0.8104 - val_loss: 0.4992 - val_accuracy: 0.8412\n",
      "Epoch 73/100\n",
      "45000/45000 [==============================] - 19s 420us/sample - loss: 0.5589 - accuracy: 0.8170 - val_loss: 0.4998 - val_accuracy: 0.8388\n",
      "Epoch 74/100\n",
      "45000/45000 [==============================] - 17s 379us/sample - loss: 0.5599 - accuracy: 0.8171 - val_loss: 0.5093 - val_accuracy: 0.8338\n",
      "Epoch 75/100\n",
      "45000/45000 [==============================] - 16s 365us/sample - loss: 0.5470 - accuracy: 0.8223 - val_loss: 0.4698 - val_accuracy: 0.8514\n",
      "Epoch 76/100\n",
      "45000/45000 [==============================] - 18s 403us/sample - loss: 0.5364 - accuracy: 0.8250 - val_loss: 0.4702 - val_accuracy: 0.8456\n",
      "Epoch 77/100\n",
      "45000/45000 [==============================] - 19s 421us/sample - loss: 0.5296 - accuracy: 0.8285 - val_loss: 0.4590 - val_accuracy: 0.8546\n",
      "Epoch 78/100\n",
      "45000/45000 [==============================] - 20s 436us/sample - loss: 0.5275 - accuracy: 0.8322 - val_loss: 0.5311 - val_accuracy: 0.8266\n",
      "Epoch 79/100\n",
      "45000/45000 [==============================] - 19s 425us/sample - loss: 0.5226 - accuracy: 0.8300 - val_loss: 0.4934 - val_accuracy: 0.8472\n",
      "Epoch 80/100\n",
      "45000/45000 [==============================] - 18s 409us/sample - loss: 0.5133 - accuracy: 0.8351 - val_loss: 0.4962 - val_accuracy: 0.8392\n",
      "Epoch 81/100\n",
      "45000/45000 [==============================] - 18s 411us/sample - loss: 0.5110 - accuracy: 0.8338 - val_loss: 0.4930 - val_accuracy: 0.8410\n",
      "Epoch 82/100\n",
      "45000/45000 [==============================] - 18s 408us/sample - loss: 0.5118 - accuracy: 0.8354 - val_loss: 0.5160 - val_accuracy: 0.8338\n",
      "Epoch 83/100\n",
      "45000/45000 [==============================] - 20s 445us/sample - loss: 0.4920 - accuracy: 0.8422 - val_loss: 0.4536 - val_accuracy: 0.8556\n",
      "Epoch 84/100\n",
      "45000/45000 [==============================] - 21s 466us/sample - loss: 0.5007 - accuracy: 0.8402 - val_loss: 0.5030 - val_accuracy: 0.8360\n",
      "Epoch 85/100\n",
      "45000/45000 [==============================] - 20s 451us/sample - loss: 0.4857 - accuracy: 0.8452 - val_loss: 0.5237 - val_accuracy: 0.8330\n",
      "Epoch 86/100\n",
      "45000/45000 [==============================] - 21s 458us/sample - loss: 0.4954 - accuracy: 0.8396 - val_loss: 0.4165 - val_accuracy: 0.8638\n",
      "Epoch 87/100\n",
      "45000/45000 [==============================] - 21s 469us/sample - loss: 0.4697 - accuracy: 0.8501 - val_loss: 0.4617 - val_accuracy: 0.8464\n",
      "Epoch 88/100\n",
      "45000/45000 [==============================] - 21s 467us/sample - loss: 0.4722 - accuracy: 0.8493 - val_loss: 0.4555 - val_accuracy: 0.8576\n",
      "Epoch 89/100\n",
      "45000/45000 [==============================] - 21s 456us/sample - loss: 0.4755 - accuracy: 0.8475 - val_loss: 0.4258 - val_accuracy: 0.8646\n",
      "Epoch 90/100\n",
      "45000/45000 [==============================] - 18s 402us/sample - loss: 0.4680 - accuracy: 0.8498 - val_loss: 0.4069 - val_accuracy: 0.8766\n",
      "Epoch 91/100\n",
      "45000/45000 [==============================] - 18s 408us/sample - loss: 840.6264 - accuracy: 0.7385 - val_loss: 0.7406 - val_accuracy: 0.7626\n",
      "Epoch 92/100\n",
      "45000/45000 [==============================] - 18s 410us/sample - loss: 0.7323 - accuracy: 0.7623 - val_loss: 0.6518 - val_accuracy: 0.7924\n",
      "Epoch 93/100\n",
      "45000/45000 [==============================] - 20s 451us/sample - loss: 0.6661 - accuracy: 0.7823 - val_loss: 0.5937 - val_accuracy: 0.8128\n",
      "Epoch 94/100\n",
      "45000/45000 [==============================] - 18s 395us/sample - loss: 0.6225 - accuracy: 0.7990 - val_loss: 0.5611 - val_accuracy: 0.8226\n",
      "Epoch 95/100\n",
      "45000/45000 [==============================] - 15s 340us/sample - loss: 0.6188 - accuracy: 0.7976 - val_loss: 0.5370 - val_accuracy: 0.8302\n",
      "Epoch 96/100\n",
      "45000/45000 [==============================] - 15s 339us/sample - loss: 0.5631 - accuracy: 0.8158 - val_loss: 0.4883 - val_accuracy: 0.8426\n",
      "Epoch 97/100\n",
      "45000/45000 [==============================] - 15s 338us/sample - loss: 0.5335 - accuracy: 0.8268 - val_loss: 0.5075 - val_accuracy: 0.8344\n",
      "Epoch 98/100\n",
      "45000/45000 [==============================] - 15s 338us/sample - loss: 0.5127 - accuracy: 0.8318 - val_loss: 0.5182 - val_accuracy: 0.8322\n",
      "Epoch 99/100\n",
      "45000/45000 [==============================] - 15s 336us/sample - loss: 0.5002 - accuracy: 0.8374 - val_loss: 0.4574 - val_accuracy: 0.8546\n",
      "Epoch 100/100\n",
      "45000/45000 [==============================] - 15s 335us/sample - loss: 0.4721 - accuracy: 0.8464 - val_loss: 0.4159 - val_accuracy: 0.8668\n"
     ]
    },
    {
     "data": {
      "text/plain": [
       "<tensorflow.python.keras.callbacks.History at 0x215cd2d1518>"
      ]
     },
     "execution_count": 132,
     "metadata": {},
     "output_type": "execute_result"
    }
   ],
   "source": [
    "# Fit the model\n",
    "model_3.fit(X_train_scaled, y_train,\n",
    "          epochs          = 100,\n",
    "          validation_data = (X_valid_scaled, y_valid),\n",
    "          callbacks       = callbacks)"
   ]
  },
  {
   "cell_type": "code",
   "execution_count": 133,
   "metadata": {},
   "outputs": [],
   "source": [
    "loss_3     = model_3.history.history['loss']\n",
    "val_loss_3 = model_3.history.history['val_loss']\n",
    "acc_3      = model_3.history.history['accuracy']\n",
    "val_acc_3  = model_3.history.history['val_accuracy']"
   ]
  },
  {
   "cell_type": "code",
   "execution_count": 134,
   "metadata": {
    "scrolled": false
   },
   "outputs": [
    {
     "data": {
      "image/png": "[encoded data removed]",
      "text/plain": [
       "<Figure size 432x288 with 1 Axes>"
      ]
     },
     "metadata": {},
     "output_type": "display_data"
    }
   ],
   "source": [
    "plt.plot(loss_1, label = 'Train Loss 1', alpha = .7)\n",
    "plt.plot(val_loss_1, label = 'Val Loss 1', alpha = .7)\n",
    "plt.plot(loss_2, label = 'Train Loss 2', alpha = .7)\n",
    "plt.plot(val_loss_2, label = 'Val Loss 2', alpha = .7)\n",
    "plt.plot(np.clip(loss_3, 0, 2), label = 'Train Loss 3', alpha = .7)\n",
    "plt.plot(val_loss_3, label = 'Val Loss 3', alpha = .7)\n",
    "# plt.plot(acc_2, label = 'Train Acc', alpha = .8)\n",
    "# plt.plot(val_acc_2, label = 'Val Acc', alpha = .8)\n",
    "plt.legend()\n",
    "plt.title('Model 1 vs 2 vs 3')\n",
    "plt.show()"
   ]
  },
  {
   "cell_type": "markdown",
   "metadata": {},
   "source": [
    "### Approach 4\n",
    "* SELU + LeCun Normal + Nadam 5e-4 + AlphaDropout"
   ]
  },
  {
   "cell_type": "code",
   "execution_count": 9,
   "metadata": {},
   "outputs": [],
   "source": [
    "model_4 = tf.keras.models.Sequential()"
   ]
  },
  {
   "cell_type": "code",
   "execution_count": 12,
   "metadata": {},
   "outputs": [],
   "source": [
    "model_4.add(tf.keras.layers.Flatten(input_shape = [32, 32, 3]))\n",
    "\n",
    "for i in range(n_layers):\n",
    "    model_4.add(tf.keras.layers.Dense(100, \n",
    "                                      kernel_initializer = 'lecun_normal',\n",
    "                                      activation         = 'selu'))\n",
    "\n",
    "model_4.add(tf.keras.layers.AlphaDropout(rate = .1))\n",
    "model_4.add(tf.keras.layers.Dense(10, activation = 'softmax'))"
   ]
  },
  {
   "cell_type": "code",
   "execution_count": 13,
   "metadata": {},
   "outputs": [],
   "source": [
    "optimizer = tf.keras.optimizers.Nadam(lr = 5e-4)"
   ]
  },
  {
   "cell_type": "code",
   "execution_count": 14,
   "metadata": {},
   "outputs": [],
   "source": [
    "model_4.compile(loss      = 'sparse_categorical_crossentropy',\n",
    "                optimizer = optimizer,\n",
    "                metrics   = ['accuracy'])"
   ]
  },
  {
   "cell_type": "code",
   "execution_count": 15,
   "metadata": {},
   "outputs": [],
   "source": [
    "# model_4.summary()"
   ]
  },
  {
   "cell_type": "code",
   "execution_count": 16,
   "metadata": {},
   "outputs": [],
   "source": [
    "# Define callbacks\n",
    "early_stopping_cb   = tf.keras.callbacks.EarlyStopping(patience = 20)\n",
    "model_checkpoint_cb = tf.keras.callbacks.ModelCheckpoint(\"cifar10_model_4.h5\", save_best_only = True)\n",
    "\n",
    "callbacks = [early_stopping_cb, model_checkpoint_cb]"
   ]
  },
  {
   "cell_type": "code",
   "execution_count": 17,
   "metadata": {},
   "outputs": [
    {
     "name": "stdout",
     "output_type": "stream",
     "text": [
      "Train on 45000 samples, validate on 5000 samples\n",
      "Epoch 1/100\n",
      "45000/45000 [==============================] - 20s 437us/sample - loss: 1.8787 - accuracy: 0.3297 - val_loss: 1.7264 - val_accuracy: 0.3956\n",
      "Epoch 2/100\n",
      "45000/45000 [==============================] - 16s 346us/sample - loss: 1.6615 - accuracy: 0.4109 - val_loss: 1.5428 - val_accuracy: 0.4600\n",
      "Epoch 3/100\n",
      "45000/45000 [==============================] - 16s 364us/sample - loss: 1.5708 - accuracy: 0.4408 - val_loss: 1.5039 - val_accuracy: 0.4500\n",
      "Epoch 4/100\n",
      "45000/45000 [==============================] - 16s 357us/sample - loss: 1.5005 - accuracy: 0.4733 - val_loss: 1.4459 - val_accuracy: 0.4884\n",
      "Epoch 5/100\n",
      "45000/45000 [==============================] - 16s 358us/sample - loss: 1.4483 - accuracy: 0.4893 - val_loss: 1.3814 - val_accuracy: 0.5212\n",
      "Epoch 6/100\n",
      "45000/45000 [==============================] - 16s 359us/sample - loss: 1.4004 - accuracy: 0.5055 - val_loss: 1.3387 - val_accuracy: 0.5356\n",
      "Epoch 7/100\n",
      "45000/45000 [==============================] - 16s 356us/sample - loss: 1.3541 - accuracy: 0.5249 - val_loss: 1.3148 - val_accuracy: 0.5442\n",
      "Epoch 8/100\n",
      "45000/45000 [==============================] - 16s 366us/sample - loss: 1.3211 - accuracy: 0.5361 - val_loss: 1.2597 - val_accuracy: 0.5490\n",
      "Epoch 9/100\n",
      "45000/45000 [==============================] - 16s 366us/sample - loss: 1.2824 - accuracy: 0.5498 - val_loss: 1.2464 - val_accuracy: 0.5666\n",
      "Epoch 10/100\n",
      "45000/45000 [==============================] - 16s 362us/sample - loss: 1.2496 - accuracy: 0.5620 - val_loss: 1.1518 - val_accuracy: 0.5906\n",
      "Epoch 11/100\n",
      "45000/45000 [==============================] - 16s 360us/sample - loss: 1.2228 - accuracy: 0.5758 - val_loss: 1.1249 - val_accuracy: 0.5998\n",
      "Epoch 12/100\n",
      "45000/45000 [==============================] - 17s 367us/sample - loss: 1.1864 - accuracy: 0.5882 - val_loss: 1.0998 - val_accuracy: 0.6062\n",
      "Epoch 13/100\n",
      "45000/45000 [==============================] - 16s 366us/sample - loss: 1.1640 - accuracy: 0.5946 - val_loss: 1.0716 - val_accuracy: 0.6274\n",
      "Epoch 14/100\n",
      "45000/45000 [==============================] - 16s 360us/sample - loss: 1.1276 - accuracy: 0.6062 - val_loss: 1.0615 - val_accuracy: 0.6340\n",
      "Epoch 15/100\n",
      "45000/45000 [==============================] - 16s 364us/sample - loss: 1.1104 - accuracy: 0.6119 - val_loss: 1.0148 - val_accuracy: 0.6516\n",
      "Epoch 16/100\n",
      "45000/45000 [==============================] - 17s 368us/sample - loss: 1.0834 - accuracy: 0.6249 - val_loss: 1.0325 - val_accuracy: 0.6376\n",
      "Epoch 17/100\n",
      "45000/45000 [==============================] - 17s 368us/sample - loss: 1.0665 - accuracy: 0.6307 - val_loss: 0.9698 - val_accuracy: 0.6634\n",
      "Epoch 18/100\n",
      "45000/45000 [==============================] - 16s 363us/sample - loss: 1.0454 - accuracy: 0.6403 - val_loss: 0.9521 - val_accuracy: 0.6632\n",
      "Epoch 19/100\n",
      "45000/45000 [==============================] - 18s 398us/sample - loss: 1.0203 - accuracy: 0.6482 - val_loss: 0.9418 - val_accuracy: 0.6756\n",
      "Epoch 20/100\n",
      "45000/45000 [==============================] - 17s 381us/sample - loss: 1.0005 - accuracy: 0.6570 - val_loss: 0.9114 - val_accuracy: 0.6830\n",
      "Epoch 21/100\n",
      "45000/45000 [==============================] - 17s 373us/sample - loss: 1.0288 - accuracy: 0.6510 - val_loss: 0.9144 - val_accuracy: 0.6814\n",
      "Epoch 22/100\n",
      "45000/45000 [==============================] - 16s 366us/sample - loss: 0.9524 - accuracy: 0.6732 - val_loss: 0.9270 - val_accuracy: 0.6718\n",
      "Epoch 23/100\n",
      "45000/45000 [==============================] - 17s 371us/sample - loss: 0.9382 - accuracy: 0.6774 - val_loss: 0.8934 - val_accuracy: 0.6978\n",
      "Epoch 24/100\n",
      "45000/45000 [==============================] - 16s 358us/sample - loss: 0.9239 - accuracy: 0.6850 - val_loss: 0.8727 - val_accuracy: 0.6964\n",
      "Epoch 25/100\n",
      "45000/45000 [==============================] - 16s 356us/sample - loss: 0.9148 - accuracy: 0.6867 - val_loss: 0.8528 - val_accuracy: 0.7158\n",
      "Epoch 26/100\n",
      "45000/45000 [==============================] - 16s 355us/sample - loss: 0.9022 - accuracy: 0.6911 - val_loss: 0.8400 - val_accuracy: 0.7072\n",
      "Epoch 27/100\n",
      "45000/45000 [==============================] - 16s 355us/sample - loss: 0.8812 - accuracy: 0.6997 - val_loss: 0.8756 - val_accuracy: 0.7006\n",
      "Epoch 28/100\n",
      "45000/45000 [==============================] - 16s 354us/sample - loss: 0.8758 - accuracy: 0.6985 - val_loss: 0.7977 - val_accuracy: 0.7204\n",
      "Epoch 29/100\n",
      "45000/45000 [==============================] - 16s 354us/sample - loss: 0.8528 - accuracy: 0.7120 - val_loss: 0.8279 - val_accuracy: 0.7276\n",
      "Epoch 30/100\n",
      "45000/45000 [==============================] - 16s 355us/sample - loss: 0.8402 - accuracy: 0.7141 - val_loss: 0.7609 - val_accuracy: 0.7452\n",
      "Epoch 31/100\n",
      "45000/45000 [==============================] - 16s 361us/sample - loss: 0.8211 - accuracy: 0.7220 - val_loss: 0.7583 - val_accuracy: 0.7480\n",
      "Epoch 32/100\n",
      "45000/45000 [==============================] - 16s 354us/sample - loss: 0.8140 - accuracy: 0.7257 - val_loss: 0.7399 - val_accuracy: 0.7574\n",
      "Epoch 33/100\n",
      "45000/45000 [==============================] - 16s 354us/sample - loss: 0.8011 - accuracy: 0.7293 - val_loss: 0.7217 - val_accuracy: 0.7520\n",
      "Epoch 34/100\n",
      "45000/45000 [==============================] - 16s 353us/sample - loss: 0.7818 - accuracy: 0.7386 - val_loss: 0.7002 - val_accuracy: 0.7552\n",
      "Epoch 35/100\n",
      "45000/45000 [==============================] - 16s 357us/sample - loss: 0.7788 - accuracy: 0.7357 - val_loss: 0.7209 - val_accuracy: 0.7458\n",
      "Epoch 36/100\n",
      "45000/45000 [==============================] - 16s 350us/sample - loss: 0.7684 - accuracy: 0.7415 - val_loss: 0.7057 - val_accuracy: 0.7632\n",
      "Epoch 37/100\n",
      "45000/45000 [==============================] - 16s 357us/sample - loss: 0.7513 - accuracy: 0.7493 - val_loss: 0.6630 - val_accuracy: 0.7766\n",
      "Epoch 38/100\n",
      "45000/45000 [==============================] - 16s 350us/sample - loss: 0.7489 - accuracy: 0.7482 - val_loss: 0.6827 - val_accuracy: 0.7712\n",
      "Epoch 39/100\n",
      "45000/45000 [==============================] - 16s 356us/sample - loss: 0.7290 - accuracy: 0.7559 - val_loss: 0.6665 - val_accuracy: 0.7720\n",
      "Epoch 40/100\n",
      "45000/45000 [==============================] - 16s 355us/sample - loss: 0.7275 - accuracy: 0.7561 - val_loss: 0.6907 - val_accuracy: 0.7676\n",
      "Epoch 41/100\n",
      "45000/45000 [==============================] - 16s 355us/sample - loss: 0.7070 - accuracy: 0.7645 - val_loss: 0.6536 - val_accuracy: 0.7894\n",
      "Epoch 42/100\n",
      "45000/45000 [==============================] - 16s 354us/sample - loss: 0.7067 - accuracy: 0.7635 - val_loss: 0.6363 - val_accuracy: 0.7888\n",
      "Epoch 43/100\n",
      "45000/45000 [==============================] - 16s 354us/sample - loss: 0.6886 - accuracy: 0.7699 - val_loss: 0.6402 - val_accuracy: 0.7886\n",
      "Epoch 44/100\n",
      "45000/45000 [==============================] - 16s 354us/sample - loss: 0.6852 - accuracy: 0.7714 - val_loss: 0.6229 - val_accuracy: 0.7918\n",
      "Epoch 45/100\n",
      "45000/45000 [==============================] - 16s 349us/sample - loss: 0.6688 - accuracy: 0.7760 - val_loss: 0.6260 - val_accuracy: 0.7928\n",
      "Epoch 46/100\n",
      "45000/45000 [==============================] - 16s 355us/sample - loss: 0.7079 - accuracy: 0.7656 - val_loss: 0.5954 - val_accuracy: 0.7994\n",
      "Epoch 47/100\n",
      "45000/45000 [==============================] - 16s 353us/sample - loss: 0.6485 - accuracy: 0.7840 - val_loss: 0.5597 - val_accuracy: 0.8148\n",
      "Epoch 48/100\n",
      "45000/45000 [==============================] - 16s 350us/sample - loss: 0.6419 - accuracy: 0.7863 - val_loss: 0.5747 - val_accuracy: 0.8080\n",
      "Epoch 49/100\n",
      "45000/45000 [==============================] - 16s 352us/sample - loss: 0.6302 - accuracy: 0.7903 - val_loss: 0.6157 - val_accuracy: 0.7918\n",
      "Epoch 50/100\n",
      "45000/45000 [==============================] - 16s 353us/sample - loss: 0.6313 - accuracy: 0.7875 - val_loss: 0.5805 - val_accuracy: 0.8120\n",
      "Epoch 51/100\n",
      "45000/45000 [==============================] - 16s 350us/sample - loss: 0.6234 - accuracy: 0.7930 - val_loss: 0.5852 - val_accuracy: 0.8018\n",
      "Epoch 52/100\n",
      "45000/45000 [==============================] - 16s 352us/sample - loss: 0.6214 - accuracy: 0.7953 - val_loss: 0.5751 - val_accuracy: 0.8114\n",
      "Epoch 53/100\n",
      "45000/45000 [==============================] - 16s 350us/sample - loss: 0.6016 - accuracy: 0.8025 - val_loss: 0.5777 - val_accuracy: 0.8058\n",
      "Epoch 54/100\n"
     ]
    },
    {
     "name": "stdout",
     "output_type": "stream",
     "text": [
      "45000/45000 [==============================] - 16s 349us/sample - loss: 31.2482 - accuracy: 0.7438 - val_loss: 1.5356 - val_accuracy: 0.4978\n",
      "Epoch 55/100\n",
      "45000/45000 [==============================] - 16s 346us/sample - loss: 1.4099 - accuracy: 0.5253 - val_loss: 1.3150 - val_accuracy: 0.5532\n",
      "Epoch 56/100\n",
      "45000/45000 [==============================] - 16s 346us/sample - loss: 1.2642 - accuracy: 0.5736 - val_loss: 1.1899 - val_accuracy: 0.6010\n",
      "Epoch 57/100\n",
      "45000/45000 [==============================] - 16s 346us/sample - loss: 1.1604 - accuracy: 0.6098 - val_loss: 1.0944 - val_accuracy: 0.6324\n",
      "Epoch 58/100\n",
      "45000/45000 [==============================] - 16s 347us/sample - loss: 1.0740 - accuracy: 0.6375 - val_loss: 1.0108 - val_accuracy: 0.6596\n",
      "Epoch 59/100\n",
      "45000/45000 [==============================] - 16s 350us/sample - loss: 1.0033 - accuracy: 0.6641 - val_loss: 0.9213 - val_accuracy: 0.6884\n",
      "Epoch 60/100\n",
      "45000/45000 [==============================] - 16s 346us/sample - loss: 0.9205 - accuracy: 0.6885 - val_loss: 0.8321 - val_accuracy: 0.7206\n",
      "Epoch 61/100\n",
      "45000/45000 [==============================] - 16s 347us/sample - loss: 0.8392 - accuracy: 0.7176 - val_loss: 0.7474 - val_accuracy: 0.7514\n",
      "Epoch 62/100\n",
      "45000/45000 [==============================] - 16s 349us/sample - loss: 0.7572 - accuracy: 0.7471 - val_loss: 0.6849 - val_accuracy: 0.7738\n",
      "Epoch 63/100\n",
      "45000/45000 [==============================] - 15s 344us/sample - loss: 0.6801 - accuracy: 0.7725 - val_loss: 0.5798 - val_accuracy: 0.8064\n",
      "Epoch 64/100\n",
      "45000/45000 [==============================] - 16s 346us/sample - loss: 0.6162 - accuracy: 0.7959 - val_loss: 0.5214 - val_accuracy: 0.8270\n",
      "Epoch 65/100\n",
      "45000/45000 [==============================] - 16s 349us/sample - loss: 0.5811 - accuracy: 0.8058 - val_loss: 0.5054 - val_accuracy: 0.8354\n",
      "Epoch 66/100\n",
      "45000/45000 [==============================] - 16s 345us/sample - loss: 0.5756 - accuracy: 0.8097 - val_loss: 0.5394 - val_accuracy: 0.8224\n",
      "Epoch 67/100\n",
      "45000/45000 [==============================] - 16s 347us/sample - loss: 0.5742 - accuracy: 0.8090 - val_loss: 0.5018 - val_accuracy: 0.8346\n",
      "Epoch 68/100\n",
      "45000/45000 [==============================] - 16s 346us/sample - loss: 0.5788 - accuracy: 0.8112 - val_loss: 0.5264 - val_accuracy: 0.8216\n",
      "Epoch 69/100\n",
      "45000/45000 [==============================] - 16s 347us/sample - loss: 0.5744 - accuracy: 0.8140 - val_loss: 0.5391 - val_accuracy: 0.8204\n",
      "Epoch 70/100\n",
      "45000/45000 [==============================] - 16s 347us/sample - loss: 0.5991 - accuracy: 0.8027 - val_loss: 0.5687 - val_accuracy: 0.8128\n",
      "Epoch 71/100\n",
      "45000/45000 [==============================] - 16s 348us/sample - loss: 0.5923 - accuracy: 0.8045 - val_loss: 0.4742 - val_accuracy: 0.8402\n",
      "Epoch 72/100\n",
      "45000/45000 [==============================] - 16s 346us/sample - loss: 0.5588 - accuracy: 0.8180 - val_loss: 0.4845 - val_accuracy: 0.8388\n",
      "Epoch 73/100\n",
      "45000/45000 [==============================] - 16s 348us/sample - loss: 0.5609 - accuracy: 0.8170 - val_loss: 0.5446 - val_accuracy: 0.8296\n",
      "Epoch 74/100\n",
      "45000/45000 [==============================] - 15s 343us/sample - loss: 0.5529 - accuracy: 0.8190 - val_loss: 0.5766 - val_accuracy: 0.8158\n",
      "Epoch 75/100\n",
      "45000/45000 [==============================] - 16s 347us/sample - loss: 0.5869 - accuracy: 0.8095 - val_loss: 0.4818 - val_accuracy: 0.8458\n",
      "Epoch 76/100\n",
      "45000/45000 [==============================] - 16s 347us/sample - loss: 0.5453 - accuracy: 0.8229 - val_loss: 0.5133 - val_accuracy: 0.8336\n",
      "Epoch 77/100\n",
      "45000/45000 [==============================] - 16s 359us/sample - loss: 0.5351 - accuracy: 0.8262 - val_loss: 0.4972 - val_accuracy: 0.8346\n",
      "Epoch 78/100\n",
      "45000/45000 [==============================] - 16s 346us/sample - loss: 0.5327 - accuracy: 0.8280 - val_loss: 0.5027 - val_accuracy: 0.8366\n",
      "Epoch 79/100\n",
      "45000/45000 [==============================] - 16s 348us/sample - loss: 0.5295 - accuracy: 0.8279 - val_loss: 0.5232 - val_accuracy: 0.8424\n",
      "Epoch 80/100\n",
      "45000/45000 [==============================] - 16s 348us/sample - loss: 0.5306 - accuracy: 0.8284 - val_loss: 0.4558 - val_accuracy: 0.8542\n",
      "Epoch 81/100\n",
      "45000/45000 [==============================] - 16s 352us/sample - loss: 0.5189 - accuracy: 0.8337 - val_loss: 0.4870 - val_accuracy: 0.8466\n",
      "Epoch 82/100\n",
      "45000/45000 [==============================] - 16s 348us/sample - loss: 0.5120 - accuracy: 0.8356 - val_loss: 0.4376 - val_accuracy: 0.8590\n",
      "Epoch 83/100\n",
      "45000/45000 [==============================] - 15s 344us/sample - loss: 0.9277 - accuracy: 0.7286 - val_loss: 0.7055 - val_accuracy: 0.7670\n",
      "Epoch 84/100\n",
      "45000/45000 [==============================] - 15s 344us/sample - loss: 0.7069 - accuracy: 0.7717 - val_loss: 0.5920 - val_accuracy: 0.8030\n",
      "Epoch 85/100\n",
      "45000/45000 [==============================] - 16s 353us/sample - loss: 0.5935 - accuracy: 0.8072 - val_loss: 0.5076 - val_accuracy: 0.8404\n",
      "Epoch 86/100\n",
      "45000/45000 [==============================] - 16s 355us/sample - loss: 0.5282 - accuracy: 0.8292 - val_loss: 33.0773 - val_accuracy: 0.8496\n",
      "Epoch 87/100\n",
      "45000/45000 [==============================] - 15s 344us/sample - loss: 1.2053 - accuracy: 0.7660 - val_loss: 0.8352 - val_accuracy: 0.7304\n",
      "Epoch 88/100\n",
      "45000/45000 [==============================] - 16s 349us/sample - loss: 0.7991 - accuracy: 0.7419 - val_loss: 0.6823 - val_accuracy: 0.7766\n",
      "Epoch 89/100\n",
      "45000/45000 [==============================] - 16s 358us/sample - loss: 4.9377 - accuracy: 0.6594 - val_loss: 1.0948 - val_accuracy: 0.6370\n",
      "Epoch 90/100\n",
      "45000/45000 [==============================] - 16s 346us/sample - loss: 1.2078 - accuracy: 0.5969 - val_loss: 1.0744 - val_accuracy: 0.6366\n",
      "Epoch 91/100\n",
      "45000/45000 [==============================] - 16s 346us/sample - loss: 1.0694 - accuracy: 0.6387 - val_loss: 0.9624 - val_accuracy: 0.6728\n",
      "Epoch 92/100\n",
      "45000/45000 [==============================] - 16s 354us/sample - loss: 0.9801 - accuracy: 0.6681 - val_loss: 0.8804 - val_accuracy: 0.6934\n",
      "Epoch 93/100\n",
      "45000/45000 [==============================] - 16s 346us/sample - loss: 0.8989 - accuracy: 0.6965 - val_loss: 0.8039 - val_accuracy: 0.7250\n",
      "Epoch 94/100\n",
      "45000/45000 [==============================] - 15s 342us/sample - loss: 0.8643 - accuracy: 0.7122 - val_loss: 0.7641 - val_accuracy: 0.7496\n",
      "Epoch 95/100\n",
      "45000/45000 [==============================] - 15s 344us/sample - loss: 0.7753 - accuracy: 0.7413 - val_loss: 0.6665 - val_accuracy: 0.7784\n",
      "Epoch 96/100\n",
      "45000/45000 [==============================] - 16s 352us/sample - loss: 0.7208 - accuracy: 0.7623 - val_loss: 0.6363 - val_accuracy: 0.7910\n",
      "Epoch 97/100\n",
      "45000/45000 [==============================] - 16s 351us/sample - loss: 0.6768 - accuracy: 0.7766 - val_loss: 0.6017 - val_accuracy: 0.8022\n",
      "Epoch 98/100\n",
      "45000/45000 [==============================] - 16s 349us/sample - loss: 0.6633 - accuracy: 0.7825 - val_loss: 0.6003 - val_accuracy: 0.7998\n",
      "Epoch 99/100\n",
      "45000/45000 [==============================] - 16s 345us/sample - loss: 0.6131 - accuracy: 0.8000 - val_loss: 0.5139 - val_accuracy: 0.8310\n",
      "Epoch 100/100\n",
      "45000/45000 [==============================] - 16s 345us/sample - loss: 0.5658 - accuracy: 0.8158 - val_loss: 0.5074 - val_accuracy: 0.8320\n"
     ]
    },
    {
     "data": {
      "text/plain": [
       "<tensorflow.python.keras.callbacks.History at 0x1a412183ef0>"
      ]
     },
     "execution_count": 17,
     "metadata": {},
     "output_type": "execute_result"
    }
   ],
   "source": [
    "# Fit the model\n",
    "model_4.fit(X_train_scaled, y_train,\n",
    "          epochs          = 100,\n",
    "          validation_data = (X_valid_scaled, y_valid),\n",
    "          callbacks       = callbacks)"
   ]
  },
  {
   "cell_type": "code",
   "execution_count": 18,
   "metadata": {},
   "outputs": [],
   "source": [
    "loss_4     = model_4.history.history['loss']\n",
    "val_loss_4 = model_4.history.history['val_loss']\n",
    "acc_4      = model_4.history.history['accuracy']\n",
    "val_acc_4  = model_4.history.history['val_accuracy']"
   ]
  },
  {
   "cell_type": "code",
   "execution_count": 20,
   "metadata": {
    "scrolled": false
   },
   "outputs": [
    {
     "data": {
      "image/png": "[encoded data removed]",
      "text/plain": [
       "<Figure size 432x288 with 1 Axes>"
      ]
     },
     "metadata": {
      "needs_background": "light"
     },
     "output_type": "display_data"
    }
   ],
   "source": [
    "# plt.plot(loss_1, label = 'Train Loss 1', alpha = .7)\n",
    "# plt.plot(val_loss_1, label = 'Val Loss 1', alpha = .7)\n",
    "# plt.plot(loss_2, label = 'Train Loss 2', alpha = .7)\n",
    "# plt.plot(val_loss_2, label = 'Val Loss 2', alpha = .7)\n",
    "# plt.plot(np.clip(loss_3, 0, 2), label = 'Train Loss 3', alpha = .7)\n",
    "# plt.plot(val_loss_3, label = 'Val Loss 3', alpha = .7)\n",
    "plt.plot(np.clip(loss_4, 0, 2), label = 'Train Loss 4', alpha = .7)\n",
    "plt.plot(np.clip(val_loss_4, 0, 2), label = 'Val Loss 4', alpha = .7)\n",
    "# plt.plot(acc_2, label = 'Train Acc', alpha = .8)\n",
    "# plt.plot(val_acc_2, label = 'Val Acc', alpha = .8)\n",
    "plt.legend()\n",
    "plt.title('Model 1 vs 2 vs 3 vs 4')\n",
    "plt.show()"
   ]
  },
  {
   "cell_type": "code",
   "execution_count": null,
   "metadata": {},
   "outputs": [],
   "source": []
  }
 ],
 "metadata": {
  "kernelspec": {
   "display_name": "Python 3",
   "language": "python",
   "name": "python3"
  },
  "language_info": {
   "codemirror_mode": {
    "name": "ipython",
    "version": 3
   },
   "file_extension": ".py",
   "mimetype": "text/x-python",
   "name": "python",
   "nbconvert_exporter": "python",
   "pygments_lexer": "ipython3",
   "version": "3.6.5"
  }
 },
 "nbformat": 4,
 "nbformat_minor": 2
}
