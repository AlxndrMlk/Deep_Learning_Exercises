{
 "cells": [
  {
   "cell_type": "code",
   "execution_count": 1,
   "metadata": {
    "colab": {
     "base_uri": "https://localhost:8080/",
     "height": 36
    },
    "colab_type": "code",
    "id": "uuHi8GLBqsN1",
    "outputId": "b5f88932-909b-47d5-fb40-bfea2031b670"
   },
   "outputs": [
    {
     "name": "stderr",
     "output_type": "stream",
     "text": [
      "Using TensorFlow backend.\n"
     ]
    }
   ],
   "source": [
    "import numpy as np\n",
    "\n",
    "from keras.layers import Dense, Input, Conv2D, Flatten\n",
    "from keras.layers import Reshape, Conv2DTranspose\n",
    "\n",
    "from keras.models import Model\n",
    "from keras import backend as K\n",
    "\n",
    "from keras.datasets import mnist\n",
    "\n",
    "import matplotlib.pyplot as plt\n",
    "plt.style.use('fivethirtyeight')"
   ]
  },
  {
   "cell_type": "markdown",
   "metadata": {
    "colab_type": "text",
    "id": "wSh5JDk3qsOC"
   },
   "source": [
    "# Denoising autoencoder with Keras"
   ]
  },
  {
   "cell_type": "markdown",
   "metadata": {
    "colab_type": "text",
    "id": "BK6riF5BqsOE"
   },
   "source": [
    "## Load, examine & transform the data"
   ]
  },
  {
   "cell_type": "code",
   "execution_count": 2,
   "metadata": {
    "colab": {
     "base_uri": "https://localhost:8080/",
     "height": 54
    },
    "colab_type": "code",
    "id": "tLDBn98cqsOF",
    "outputId": "b08bd5cd-a853-4ccb-ba14-417a4dd2e75d"
   },
   "outputs": [
    {
     "name": "stdout",
     "output_type": "stream",
     "text": [
      "Downloading data from https://s3.amazonaws.com/img-datasets/mnist.npz\n",
      "11493376/11490434 [==============================] - 1s 0us/step\n"
     ]
    }
   ],
   "source": [
    "(X_train, _), (X_test, _) = mnist.load_data()"
   ]
  },
  {
   "cell_type": "code",
   "execution_count": 3,
   "metadata": {
    "colab": {
     "base_uri": "https://localhost:8080/",
     "height": 36
    },
    "colab_type": "code",
    "id": "DtBD955eqsOM",
    "outputId": "0d2ef6f8-e3e6-472b-8e81-c6706ec0c8ae"
   },
   "outputs": [
    {
     "data": {
      "text/plain": [
       "(60000, 28, 28)"
      ]
     },
     "execution_count": 3,
     "metadata": {
      "tags": []
     },
     "output_type": "execute_result"
    }
   ],
   "source": [
    "X_train.shape"
   ]
  },
  {
   "cell_type": "code",
   "execution_count": 0,
   "metadata": {
    "colab": {},
    "colab_type": "code",
    "id": "ok7oZRWOqsOX"
   },
   "outputs": [],
   "source": [
    "# Reshape to add a color channel \n",
    "X_train = X_train.reshape([-1, 28, 28, 1])\n",
    "X_test = X_test.reshape([-1, 28, 28, 1])"
   ]
  },
  {
   "cell_type": "code",
   "execution_count": 0,
   "metadata": {
    "colab": {},
    "colab_type": "code",
    "id": "ET4Hej_DqsOd"
   },
   "outputs": [],
   "source": [
    "# Get image size \n",
    "img_size = X_train.shape[1]"
   ]
  },
  {
   "cell_type": "code",
   "execution_count": 0,
   "metadata": {
    "colab": {},
    "colab_type": "code",
    "id": "tCw-TtNKqsOj"
   },
   "outputs": [],
   "source": [
    "# Normalize the data\n",
    "X_train = X_train.astype('float32') / 255\n",
    "X_test = X_test.astype('float32') / 255"
   ]
  },
  {
   "cell_type": "markdown",
   "metadata": {
    "colab_type": "text",
    "id": "165cJMJBqsOw"
   },
   "source": [
    "* ### Get noisy images"
   ]
  },
  {
   "cell_type": "code",
   "execution_count": 0,
   "metadata": {
    "colab": {},
    "colab_type": "code",
    "id": "By7lAtJ-qsOx"
   },
   "outputs": [],
   "source": [
    "# Generate train noise\n",
    "noise = np.random.normal(loc   = .5, \n",
    "                         scale = .5, \n",
    "                         size  = X_train.shape)"
   ]
  },
  {
   "cell_type": "code",
   "execution_count": 0,
   "metadata": {
    "colab": {},
    "colab_type": "code",
    "id": "gy2E9f56qsO4"
   },
   "outputs": [],
   "source": [
    "X_train_noisy = X_train + noise"
   ]
  },
  {
   "cell_type": "code",
   "execution_count": 0,
   "metadata": {
    "colab": {},
    "colab_type": "code",
    "id": "It6MkqAkqsO_"
   },
   "outputs": [],
   "source": [
    "# Generate test noise\n",
    "noise_2 = np.random.normal(loc   = .5, \n",
    "                           scale = .5, \n",
    "                           size  = X_test.shape)"
   ]
  },
  {
   "cell_type": "code",
   "execution_count": 0,
   "metadata": {
    "colab": {},
    "colab_type": "code",
    "id": "u75p7QziqsPF"
   },
   "outputs": [],
   "source": [
    "X_test_noisy = X_test + noise_2"
   ]
  },
  {
   "cell_type": "code",
   "execution_count": 0,
   "metadata": {
    "colab": {},
    "colab_type": "code",
    "id": "FVJKE-a1qsPI"
   },
   "outputs": [],
   "source": [
    "# Clip the values to 0 - 1 range\n",
    "X_train_noisy = np.clip(X_train_noisy, 0, 1)\n",
    "X_test_noisy  = np.clip(X_test_noisy, 0, 1)"
   ]
  },
  {
   "cell_type": "markdown",
   "metadata": {
    "colab_type": "text",
    "id": "qOZXdfskqsPQ"
   },
   "source": [
    "## Define network params"
   ]
  },
  {
   "cell_type": "code",
   "execution_count": 0,
   "metadata": {
    "colab": {},
    "colab_type": "code",
    "id": "U2GynDDHqsPR"
   },
   "outputs": [],
   "source": [
    "input_shape = (img_size, img_size, 1)\n",
    "batch_size = 32\n",
    "kernel_size = 3\n",
    "latent_dim = 16\n",
    "layer_filters = [32, 64]"
   ]
  },
  {
   "cell_type": "markdown",
   "metadata": {
    "colab_type": "text",
    "id": "WI7cextGqsPV"
   },
   "source": [
    "## Build the model"
   ]
  },
  {
   "cell_type": "markdown",
   "metadata": {
    "colab_type": "text",
    "id": "GJQwlW7dqsPX"
   },
   "source": [
    "* ### Encoder"
   ]
  },
  {
   "cell_type": "code",
   "execution_count": 13,
   "metadata": {
    "colab": {
     "base_uri": "https://localhost:8080/",
     "height": 93
    },
    "colab_type": "code",
    "id": "Mc-ZgDV9qsPX",
    "outputId": "a7825bce-22aa-4ed4-b6a8-c87ca761bf8a"
   },
   "outputs": [
    {
     "name": "stderr",
     "output_type": "stream",
     "text": [
      "WARNING: Logging before flag parsing goes to stderr.\n",
      "W0621 10:53:55.084398 140341382162304 deprecation_wrapper.py:119] From /usr/local/lib/python3.6/dist-packages/keras/backend/tensorflow_backend.py:517: The name tf.placeholder is deprecated. Please use tf.compat.v1.placeholder instead.\n",
      "\n"
     ]
    }
   ],
   "source": [
    "inputs = Input(shape = input_shape, \n",
    "               name  = 'encoder_input')\n",
    "\n",
    "x = inputs"
   ]
  },
  {
   "cell_type": "code",
   "execution_count": 14,
   "metadata": {
    "colab": {
     "base_uri": "https://localhost:8080/",
     "height": 112
    },
    "colab_type": "code",
    "id": "p9mJsxLgqsPd",
    "outputId": "ba3a45ad-dc69-43d8-a0c9-4137572336b1"
   },
   "outputs": [
    {
     "name": "stderr",
     "output_type": "stream",
     "text": [
      "W0621 10:54:13.105423 140341382162304 deprecation_wrapper.py:119] From /usr/local/lib/python3.6/dist-packages/keras/backend/tensorflow_backend.py:74: The name tf.get_default_graph is deprecated. Please use tf.compat.v1.get_default_graph instead.\n",
      "\n",
      "W0621 10:54:13.110241 140341382162304 deprecation_wrapper.py:119] From /usr/local/lib/python3.6/dist-packages/keras/backend/tensorflow_backend.py:4138: The name tf.random_uniform is deprecated. Please use tf.random.uniform instead.\n",
      "\n"
     ]
    }
   ],
   "source": [
    "# Build a stack of Conv2D layers\n",
    "\n",
    "for filters in layer_filters:\n",
    "    x = Conv2D(filters     = filters, \n",
    "               kernel_size = kernel_size, \n",
    "               strides     = 2, \n",
    "               activation  = 'relu',\n",
    "               padding     = 'same')(x)"
   ]
  },
  {
   "cell_type": "code",
   "execution_count": 0,
   "metadata": {
    "colab": {},
    "colab_type": "code",
    "id": "EETK7cxPqsPi"
   },
   "outputs": [],
   "source": [
    "# Get encoder's output shape\n",
    "enc_out_shape = K.int_shape(x)"
   ]
  },
  {
   "cell_type": "code",
   "execution_count": 16,
   "metadata": {
    "colab": {
     "base_uri": "https://localhost:8080/",
     "height": 36
    },
    "colab_type": "code",
    "id": "qi9Si5E5qsPm",
    "outputId": "79531616-b81e-4b5d-9696-cbd4661adba9"
   },
   "outputs": [
    {
     "data": {
      "text/plain": [
       "(None, 7, 7, 64)"
      ]
     },
     "execution_count": 16,
     "metadata": {
      "tags": []
     },
     "output_type": "execute_result"
    }
   ],
   "source": [
    "enc_out_shape"
   ]
  },
  {
   "cell_type": "code",
   "execution_count": 0,
   "metadata": {
    "colab": {},
    "colab_type": "code",
    "id": "t7N2Xn_KqsPt"
   },
   "outputs": [],
   "source": [
    "# Build the latent vector\n",
    "\n",
    "x = Flatten()(x)\n",
    "latent = Dense(latent_dim, \n",
    "               name = 'latent_vector')(x)"
   ]
  },
  {
   "cell_type": "code",
   "execution_count": 18,
   "metadata": {
    "colab": {
     "base_uri": "https://localhost:8080/",
     "height": 335
    },
    "colab_type": "code",
    "id": "y-vezdjEqsPz",
    "outputId": "d066b625-ae21-435d-8740-3e6e966f2a14"
   },
   "outputs": [
    {
     "name": "stdout",
     "output_type": "stream",
     "text": [
      "_________________________________________________________________\n",
      "Layer (type)                 Output Shape              Param #   \n",
      "=================================================================\n",
      "encoder_input (InputLayer)   (None, 28, 28, 1)         0         \n",
      "_________________________________________________________________\n",
      "conv2d_1 (Conv2D)            (None, 14, 14, 32)        320       \n",
      "_________________________________________________________________\n",
      "conv2d_2 (Conv2D)            (None, 7, 7, 64)          18496     \n",
      "_________________________________________________________________\n",
      "flatten_1 (Flatten)          (None, 3136)              0         \n",
      "_________________________________________________________________\n",
      "latent_vector (Dense)        (None, 16)                50192     \n",
      "=================================================================\n",
      "Total params: 69,008\n",
      "Trainable params: 69,008\n",
      "Non-trainable params: 0\n",
      "_________________________________________________________________\n"
     ]
    }
   ],
   "source": [
    "# Instantiate encoder model\n",
    "\n",
    "encoder = Model(inputs, latent, \n",
    "                name = 'encoder')\n",
    "\n",
    "encoder.summary()"
   ]
  },
  {
   "cell_type": "markdown",
   "metadata": {
    "colab_type": "text",
    "id": "W9NeGsTbqsP6"
   },
   "source": [
    "* ### Decoder"
   ]
  },
  {
   "cell_type": "code",
   "execution_count": 0,
   "metadata": {
    "colab": {},
    "colab_type": "code",
    "id": "FqRgIDRzqsP9"
   },
   "outputs": [],
   "source": [
    "decoder_inputs = Input(shape = (latent_dim,),\n",
    "                       name  = 'decoder_input')"
   ]
  },
  {
   "cell_type": "code",
   "execution_count": 0,
   "metadata": {
    "colab": {},
    "colab_type": "code",
    "id": "BwhaHg1XqsQE"
   },
   "outputs": [],
   "source": [
    "x = Dense(enc_out_shape[1] * enc_out_shape[2] * enc_out_shape[3])(decoder_inputs)"
   ]
  },
  {
   "cell_type": "code",
   "execution_count": 0,
   "metadata": {
    "colab": {},
    "colab_type": "code",
    "id": "ysAHJs3uqsQH"
   },
   "outputs": [],
   "source": [
    "# Reshape input\n",
    "x = Reshape((enc_out_shape[1], enc_out_shape[2], enc_out_shape[3]))(x)"
   ]
  },
  {
   "cell_type": "code",
   "execution_count": 0,
   "metadata": {
    "colab": {},
    "colab_type": "code",
    "id": "gelL5WNsqsQO"
   },
   "outputs": [],
   "source": [
    "# Build a stack of Conv2DTransp.\n",
    "\n",
    "for filters in layer_filters[::-1]:\n",
    "    x = Conv2DTranspose(filters     = filters, \n",
    "                        kernel_size = kernel_size,\n",
    "                        strides     = 2,\n",
    "                        activation  = 'relu',\n",
    "                        padding     = 'same')(x)"
   ]
  },
  {
   "cell_type": "code",
   "execution_count": 0,
   "metadata": {
    "colab": {},
    "colab_type": "code",
    "id": "dEgW3wTSqsQR"
   },
   "outputs": [],
   "source": [
    "# Reconstruct the denoised input\n",
    "outputs = Conv2DTranspose(filters     = 1,\n",
    "                          kernel_size = kernel_size,\n",
    "                          padding     = 'same',\n",
    "                          activation  = 'sigmoid',\n",
    "                          name        = 'decoder_output')(x)"
   ]
  },
  {
   "cell_type": "code",
   "execution_count": 0,
   "metadata": {
    "colab": {},
    "colab_type": "code",
    "id": "koU89Aa3qsQV"
   },
   "outputs": [],
   "source": [
    "# Instantiate decoder model\n",
    "decoder = Model(decoder_inputs, outputs, \n",
    "                name = 'decoder')"
   ]
  },
  {
   "cell_type": "code",
   "execution_count": 25,
   "metadata": {
    "colab": {
     "base_uri": "https://localhost:8080/",
     "height": 372
    },
    "colab_type": "code",
    "id": "OeaFGJEcqsQZ",
    "outputId": "188f3903-4b16-4441-fc56-24269810f1e4"
   },
   "outputs": [
    {
     "name": "stdout",
     "output_type": "stream",
     "text": [
      "_________________________________________________________________\n",
      "Layer (type)                 Output Shape              Param #   \n",
      "=================================================================\n",
      "decoder_input (InputLayer)   (None, 16)                0         \n",
      "_________________________________________________________________\n",
      "dense_1 (Dense)              (None, 3136)              53312     \n",
      "_________________________________________________________________\n",
      "reshape_1 (Reshape)          (None, 7, 7, 64)          0         \n",
      "_________________________________________________________________\n",
      "conv2d_transpose_1 (Conv2DTr (None, 14, 14, 64)        36928     \n",
      "_________________________________________________________________\n",
      "conv2d_transpose_2 (Conv2DTr (None, 28, 28, 32)        18464     \n",
      "_________________________________________________________________\n",
      "decoder_output (Conv2DTransp (None, 28, 28, 1)         289       \n",
      "=================================================================\n",
      "Total params: 108,993\n",
      "Trainable params: 108,993\n",
      "Non-trainable params: 0\n",
      "_________________________________________________________________\n"
     ]
    }
   ],
   "source": [
    "decoder.summary()"
   ]
  },
  {
   "cell_type": "markdown",
   "metadata": {
    "colab_type": "text",
    "id": "MoCDfrx7qsQe"
   },
   "source": [
    "* ### Autoencoder"
   ]
  },
  {
   "cell_type": "code",
   "execution_count": 0,
   "metadata": {
    "colab": {},
    "colab_type": "code",
    "id": "wRvPA3vXqsQi"
   },
   "outputs": [],
   "source": [
    "autoencoder = Model(inputs, decoder(encoder(inputs)),\n",
    "                    name = 'autoencoder')"
   ]
  },
  {
   "cell_type": "code",
   "execution_count": 27,
   "metadata": {
    "colab": {
     "base_uri": "https://localhost:8080/",
     "height": 260
    },
    "colab_type": "code",
    "id": "nLjxLYhsqsQl",
    "outputId": "e7557fdf-b388-4cd7-8256-a35760f7b13a"
   },
   "outputs": [
    {
     "name": "stdout",
     "output_type": "stream",
     "text": [
      "_________________________________________________________________\n",
      "Layer (type)                 Output Shape              Param #   \n",
      "=================================================================\n",
      "encoder_input (InputLayer)   (None, 28, 28, 1)         0         \n",
      "_________________________________________________________________\n",
      "encoder (Model)              (None, 16)                69008     \n",
      "_________________________________________________________________\n",
      "decoder (Model)              (None, 28, 28, 1)         108993    \n",
      "=================================================================\n",
      "Total params: 178,001\n",
      "Trainable params: 178,001\n",
      "Non-trainable params: 0\n",
      "_________________________________________________________________\n"
     ]
    }
   ],
   "source": [
    "autoencoder.summary()"
   ]
  },
  {
   "cell_type": "code",
   "execution_count": 28,
   "metadata": {
    "colab": {
     "base_uri": "https://localhost:8080/",
     "height": 74
    },
    "colab_type": "code",
    "id": "nKqfLo2DqsQp",
    "outputId": "db967b22-fdc2-484c-fdc0-e453bf42f69f"
   },
   "outputs": [
    {
     "name": "stderr",
     "output_type": "stream",
     "text": [
      "W0621 10:54:45.490353 140341382162304 deprecation_wrapper.py:119] From /usr/local/lib/python3.6/dist-packages/keras/optimizers.py:790: The name tf.train.Optimizer is deprecated. Please use tf.compat.v1.train.Optimizer instead.\n",
      "\n"
     ]
    }
   ],
   "source": [
    "# Compile the model\n",
    "autoencoder.compile(loss      = 'mse',\n",
    "                    optimizer = 'adam')"
   ]
  },
  {
   "cell_type": "code",
   "execution_count": 29,
   "metadata": {
    "colab": {
     "base_uri": "https://localhost:8080/",
     "height": 224
    },
    "colab_type": "code",
    "id": "XGOBjl1eqsQ4",
    "outputId": "b6f4eefc-b19c-4d72-e832-201caa08786f"
   },
   "outputs": [
    {
     "name": "stderr",
     "output_type": "stream",
     "text": [
      "W0621 10:54:57.078041 140341382162304 deprecation_wrapper.py:119] From /usr/local/lib/python3.6/dist-packages/keras/backend/tensorflow_backend.py:986: The name tf.assign_add is deprecated. Please use tf.compat.v1.assign_add instead.\n",
      "\n",
      "W0621 10:54:57.254924 140341382162304 deprecation_wrapper.py:119] From /usr/local/lib/python3.6/dist-packages/keras/backend/tensorflow_backend.py:973: The name tf.assign is deprecated. Please use tf.compat.v1.assign instead.\n",
      "\n"
     ]
    },
    {
     "name": "stdout",
     "output_type": "stream",
     "text": [
      "Train on 60000 samples, validate on 10000 samples\n",
      "Epoch 1/2\n",
      "60000/60000 [==============================] - 19s 311us/step - loss: 0.0376 - val_loss: 0.0203\n",
      "Epoch 2/2\n",
      "60000/60000 [==============================] - 12s 197us/step - loss: 0.0193 - val_loss: 0.0178\n"
     ]
    },
    {
     "data": {
      "text/plain": [
       "<keras.callbacks.History at 0x7fa37c27d7b8>"
      ]
     },
     "execution_count": 29,
     "metadata": {
      "tags": []
     },
     "output_type": "execute_result"
    }
   ],
   "source": [
    "# Training \n",
    "autoencoder.fit(X_train_noisy, X_train,\n",
    "                validation_data = (X_test_noisy, X_test),\n",
    "                epochs          = 2, \n",
    "                batch_size      = batch_size)"
   ]
  },
  {
   "cell_type": "code",
   "execution_count": 0,
   "metadata": {
    "colab": {},
    "colab_type": "code",
    "id": "feXeDKe1qsRB"
   },
   "outputs": [],
   "source": [
    "pred = autoencoder.predict(X_test_noisy[3:6])"
   ]
  },
  {
   "cell_type": "code",
   "execution_count": 43,
   "metadata": {
    "colab": {
     "base_uri": "https://localhost:8080/",
     "height": 983
    },
    "colab_type": "code",
    "id": "C73p0WaSrcKI",
    "outputId": "c932b16e-523f-4f55-f64f-eaea3faef147"
   },
   "outputs": [
    {
     "name": "stdout",
     "output_type": "stream",
     "text": [
      "Let's see how it works...\n",
      "\n",
      "This is the original image:\n"
     ]
    },
    {
     "data": {
      "image/png": "[encoded data removed]",
      "text/plain": [
       "<Figure size 432x288 with 1 Axes>"
      ]
     },
     "metadata": {
      "tags": []
     },
     "output_type": "display_data"
    },
    {
     "name": "stdout",
     "output_type": "stream",
     "text": [
      "\n",
      "\n",
      "This is the noisy image:\n"
     ]
    },
    {
     "data": {
      "image/png": "[encoded data removed]",
      "text/plain": [
       "<Figure size 432x288 with 1 Axes>"
      ]
     },
     "metadata": {
      "tags": []
     },
     "output_type": "display_data"
    },
    {
     "name": "stdout",
     "output_type": "stream",
     "text": [
      "\n",
      "\n",
      "This is the de-noised image:\n"
     ]
    },
    {
     "data": {
      "image/png": "[encoded data removed]",
      "text/plain": [
       "<Figure size 432x288 with 1 Axes>"
      ]
     },
     "metadata": {
      "tags": []
     },
     "output_type": "display_data"
    }
   ],
   "source": [
    "# Compare images\n",
    "print(\"Let's see how it works...\\n\")\n",
    "print(\"This is the original image:\")\n",
    "plt.imshow(X_test[3].squeeze())\n",
    "plt.show()\n",
    "print(\"\\n\\nThis is the noisy image:\")\n",
    "plt.imshow(X_test_noisy[3].squeeze())\n",
    "plt.show()\n",
    "print(\"\\n\\nThis is the de-noised image:\")\n",
    "plt.imshow(pred[0].squeeze())\n",
    "plt.show()"
   ]
  },
  {
   "cell_type": "code",
   "execution_count": 0,
   "metadata": {
    "colab": {},
    "colab_type": "code",
    "id": "hYK3pYzEr52L"
   },
   "outputs": [],
   "source": [
    "# Sexy! :D\n",
    "# PS: Note - it took only two epochs!"
   ]
  },
  {
   "cell_type": "code",
   "execution_count": 44,
   "metadata": {
    "colab": {
     "base_uri": "https://localhost:8080/",
     "height": 983
    },
    "colab_type": "code",
    "id": "K9KYxzcNsy4c",
    "outputId": "730cfc59-c2d8-4601-88ff-8faf2dfb40f5"
   },
   "outputs": [
    {
     "name": "stdout",
     "output_type": "stream",
     "text": [
      "Let's see how it works...\n",
      "\n",
      "This is the original image:\n"
     ]
    },
    {
     "data": {
      "image/png": "[encoded data removed]",
      "text/plain": [
       "<Figure size 432x288 with 1 Axes>"
      ]
     },
     "metadata": {
      "tags": []
     },
     "output_type": "display_data"
    },
    {
     "name": "stdout",
     "output_type": "stream",
     "text": [
      "\n",
      "\n",
      "This is the noisy image:\n"
     ]
    },
    {
     "data": {
      "image/png": "[encoded data removed]",
      "text/plain": [
       "<Figure size 432x288 with 1 Axes>"
      ]
     },
     "metadata": {
      "tags": []
     },
     "output_type": "display_data"
    },
    {
     "name": "stdout",
     "output_type": "stream",
     "text": [
      "\n",
      "\n",
      "This is the de-noised image:\n"
     ]
    },
    {
     "data": {
      "image/png": "[encoded data removed]",
      "text/plain": [
       "<Figure size 432x288 with 1 Axes>"
      ]
     },
     "metadata": {
      "tags": []
     },
     "output_type": "display_data"
    }
   ],
   "source": [
    "print(\"Let's see how it works...\\n\")\n",
    "print(\"This is the original image:\")\n",
    "plt.imshow(X_test[4].squeeze())\n",
    "plt.show()\n",
    "print(\"\\n\\nThis is the noisy image:\")\n",
    "plt.imshow(X_test_noisy[4].squeeze())\n",
    "plt.show()\n",
    "print(\"\\n\\nThis is the de-noised image:\")\n",
    "plt.imshow(pred[1].squeeze())\n",
    "plt.show()"
   ]
  },
  {
   "cell_type": "code",
   "execution_count": 47,
   "metadata": {
    "colab": {
     "base_uri": "https://localhost:8080/",
     "height": 983
    },
    "colab_type": "code",
    "id": "zlsMm0RUs1h6",
    "outputId": "8e7cbc92-064a-48cc-b660-6b25bd0bc2f6"
   },
   "outputs": [
    {
     "name": "stdout",
     "output_type": "stream",
     "text": [
      "Let's see how it works...\n",
      "\n",
      "This is the original image:\n"
     ]
    },
    {
     "data": {
      "image/png": "[encoded data removed]",
      "text/plain": [
       "<Figure size 432x288 with 1 Axes>"
      ]
     },
     "metadata": {
      "tags": []
     },
     "output_type": "display_data"
    },
    {
     "name": "stdout",
     "output_type": "stream",
     "text": [
      "\n",
      "\n",
      "This is the noisy image:\n"
     ]
    },
    {
     "data": {
      "image/png": "[encoded data removed]",
      "text/plain": [
       "<Figure size 432x288 with 1 Axes>"
      ]
     },
     "metadata": {
      "tags": []
     },
     "output_type": "display_data"
    },
    {
     "name": "stdout",
     "output_type": "stream",
     "text": [
      "\n",
      "\n",
      "This is the de-noised image:\n"
     ]
    },
    {
     "data": {
      "image/png": "[encoded data removed]",
      "text/plain": [
       "<Figure size 432x288 with 1 Axes>"
      ]
     },
     "metadata": {
      "tags": []
     },
     "output_type": "display_data"
    }
   ],
   "source": [
    "print(\"Let's see how it works...\\n\")\n",
    "print(\"This is the original image:\")\n",
    "plt.imshow(X_test[5].squeeze())\n",
    "plt.show()\n",
    "print(\"\\n\\nThis is the noisy image:\")\n",
    "plt.imshow(X_test_noisy[5].squeeze())\n",
    "plt.show()\n",
    "print(\"\\n\\nThis is the de-noised image:\")\n",
    "plt.imshow(pred[2].squeeze())\n",
    "plt.show()"
   ]
  },
  {
   "cell_type": "code",
   "execution_count": 0,
   "metadata": {
    "colab": {},
    "colab_type": "code",
    "id": "hYxhI6iYt-4M"
   },
   "outputs": [],
   "source": []
  }
 ],
 "metadata": {
  "accelerator": "GPU",
  "colab": {
   "name": "Denoising_autoencoder_MNIST.ipynb",
   "provenance": [],
   "version": "0.3.2"
  },
  "kernelspec": {
   "display_name": "Python 3",
   "language": "python",
   "name": "python3"
  },
  "language_info": {
   "codemirror_mode": {
    "name": "ipython",
    "version": 3
   },
   "file_extension": ".py",
   "mimetype": "text/x-python",
   "name": "python",
   "nbconvert_exporter": "python",
   "pygments_lexer": "ipython3",
   "version": "3.6.5"
  }
 },
 "nbformat": 4,
 "nbformat_minor": 1
}
