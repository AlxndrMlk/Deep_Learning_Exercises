{
  "nbformat": 4,
  "nbformat_minor": 0,
  "metadata": {
    "colab": {
      "name": "00_TF2_Linear_Reg_from_scratch.ipynb",
      "version": "0.3.2",
      "provenance": []
    },
    "kernelspec": {
      "name": "python3",
      "display_name": "Python 3"
    },
    "accelerator": "GPU"
  },
  "cells": [
    {
      "cell_type": "code",
      "metadata": {
        "id": "DTBb-rNvJFWv",
        "colab_type": "code",
        "colab": {
          "base_uri": "https://localhost:8080/",
          "height": 598
        },
        "outputId": "8303ece4-2c9c-4e2a-ffc6-c585877d7a76"
      },
      "source": [
        "# Install TF2.0\n",
        "!pip install tensorflow==2.0.0-alpha0"
      ],
      "execution_count": 1,
      "outputs": [
        {
          "output_type": "stream",
          "text": [
            "Collecting tensorflow==2.0.0-alpha0\n",
            "\u001b[?25l  Downloading https://files.pythonhosted.org/packages/29/39/f99185d39131b8333afcfe1dcdb0629c2ffc4ecfb0e4c14ca210d620e56c/tensorflow-2.0.0a0-cp36-cp36m-manylinux1_x86_64.whl (79.9MB)\n",
            "\u001b[K     |████████████████████████████████| 79.9MB 49.1MB/s \n",
            "\u001b[?25hRequirement already satisfied: absl-py>=0.7.0 in /usr/local/lib/python3.6/dist-packages (from tensorflow==2.0.0-alpha0) (0.7.1)\n",
            "Requirement already satisfied: gast>=0.2.0 in /usr/local/lib/python3.6/dist-packages (from tensorflow==2.0.0-alpha0) (0.2.2)\n",
            "Requirement already satisfied: protobuf>=3.6.1 in /usr/local/lib/python3.6/dist-packages (from tensorflow==2.0.0-alpha0) (3.7.1)\n",
            "Requirement already satisfied: keras-preprocessing>=1.0.5 in /usr/local/lib/python3.6/dist-packages (from tensorflow==2.0.0-alpha0) (1.1.0)\n",
            "Requirement already satisfied: six>=1.10.0 in /usr/local/lib/python3.6/dist-packages (from tensorflow==2.0.0-alpha0) (1.12.0)\n",
            "Requirement already satisfied: astor>=0.6.0 in /usr/local/lib/python3.6/dist-packages (from tensorflow==2.0.0-alpha0) (0.8.0)\n",
            "Collecting tf-estimator-nightly<1.14.0.dev2019030116,>=1.14.0.dev2019030115 (from tensorflow==2.0.0-alpha0)\n",
            "\u001b[?25l  Downloading https://files.pythonhosted.org/packages/13/82/f16063b4eed210dc2ab057930ac1da4fbe1e91b7b051a6c8370b401e6ae7/tf_estimator_nightly-1.14.0.dev2019030115-py2.py3-none-any.whl (411kB)\n",
            "\u001b[K     |████████████████████████████████| 419kB 45.4MB/s \n",
            "\u001b[?25hRequirement already satisfied: numpy<2.0,>=1.14.5 in /usr/local/lib/python3.6/dist-packages (from tensorflow==2.0.0-alpha0) (1.16.4)\n",
            "Collecting tb-nightly<1.14.0a20190302,>=1.14.0a20190301 (from tensorflow==2.0.0-alpha0)\n",
            "\u001b[?25l  Downloading https://files.pythonhosted.org/packages/a9/51/aa1d756644bf4624c03844115e4ac4058eff77acd786b26315f051a4b195/tb_nightly-1.14.0a20190301-py3-none-any.whl (3.0MB)\n",
            "\u001b[K     |████████████████████████████████| 3.0MB 41.9MB/s \n",
            "\u001b[?25hRequirement already satisfied: termcolor>=1.1.0 in /usr/local/lib/python3.6/dist-packages (from tensorflow==2.0.0-alpha0) (1.1.0)\n",
            "Requirement already satisfied: wheel>=0.26 in /usr/local/lib/python3.6/dist-packages (from tensorflow==2.0.0-alpha0) (0.33.4)\n",
            "Requirement already satisfied: grpcio>=1.8.6 in /usr/local/lib/python3.6/dist-packages (from tensorflow==2.0.0-alpha0) (1.15.0)\n",
            "Requirement already satisfied: google-pasta>=0.1.2 in /usr/local/lib/python3.6/dist-packages (from tensorflow==2.0.0-alpha0) (0.1.7)\n",
            "Requirement already satisfied: keras-applications>=1.0.6 in /usr/local/lib/python3.6/dist-packages (from tensorflow==2.0.0-alpha0) (1.0.8)\n",
            "Requirement already satisfied: setuptools in /usr/local/lib/python3.6/dist-packages (from protobuf>=3.6.1->tensorflow==2.0.0-alpha0) (41.0.1)\n",
            "Requirement already satisfied: markdown>=2.6.8 in /usr/local/lib/python3.6/dist-packages (from tb-nightly<1.14.0a20190302,>=1.14.0a20190301->tensorflow==2.0.0-alpha0) (3.1.1)\n",
            "Requirement already satisfied: werkzeug>=0.11.15 in /usr/local/lib/python3.6/dist-packages (from tb-nightly<1.14.0a20190302,>=1.14.0a20190301->tensorflow==2.0.0-alpha0) (0.15.5)\n",
            "Requirement already satisfied: h5py in /usr/local/lib/python3.6/dist-packages (from keras-applications>=1.0.6->tensorflow==2.0.0-alpha0) (2.8.0)\n",
            "Installing collected packages: tf-estimator-nightly, tb-nightly, tensorflow\n",
            "  Found existing installation: tensorflow 1.14.0\n",
            "    Uninstalling tensorflow-1.14.0:\n",
            "      Successfully uninstalled tensorflow-1.14.0\n",
            "Successfully installed tb-nightly-1.14.0a20190301 tensorflow-2.0.0a0 tf-estimator-nightly-1.14.0.dev2019030115\n"
          ],
          "name": "stdout"
        }
      ]
    },
    {
      "cell_type": "code",
      "metadata": {
        "id": "utoMg6oDJNqv",
        "colab_type": "code",
        "colab": {}
      },
      "source": [
        "import tensorflow as tf\n",
        "from tensorflow.keras import Model\n",
        "\n",
        "import numpy as np\n",
        "\n",
        "import matplotlib.pyplot as plt\n",
        "\n",
        "plt.style.use('fivethirtyeight')"
      ],
      "execution_count": 0,
      "outputs": []
    },
    {
      "cell_type": "code",
      "metadata": {
        "id": "cCYD80GEJ4MQ",
        "colab_type": "code",
        "colab": {}
      },
      "source": [
        "# Create fake data\n",
        "m = .3\n",
        "b = .5\n",
        "\n",
        "x = tf.random.uniform(shape = (100,))\n",
        "noise = tf.random.normal(shape = (len(x),), stddev = .025)\n",
        "\n",
        "y = m*x + b + noise"
      ],
      "execution_count": 0,
      "outputs": []
    },
    {
      "cell_type": "code",
      "metadata": {
        "id": "-hy8DA6DOO3T",
        "colab_type": "code",
        "colab": {}
      },
      "source": [
        "# Get train and test\n",
        "X_train = x     # Just for sake of this example :)\n",
        "y_train = y\n"
      ],
      "execution_count": 0,
      "outputs": []
    },
    {
      "cell_type": "code",
      "metadata": {
        "id": "t-MDLv8kKhDe",
        "colab_type": "code",
        "colab": {
          "base_uri": "https://localhost:8080/",
          "height": 303
        },
        "outputId": "a5fe3597-691f-4937-96dc-d897b6a862ad"
      },
      "source": [
        "# Plot the data\n",
        "plt.scatter(x, y)\n",
        "plt.title('Fake data')\n",
        "plt.show()"
      ],
      "execution_count": 99,
      "outputs": [
        {
          "output_type": "display_data",
          "data": {
            "image/png": "[encoded data removed]",
            "text/plain": [
              "<Figure size 432x288 with 1 Axes>"
            ]
          },
          "metadata": {
            "tags": []
          }
        }
      ]
    },
    {
      "cell_type": "code",
      "metadata": {
        "id": "S90EolqFKpxL",
        "colab_type": "code",
        "colab": {}
      },
      "source": [
        "# Create variables\n",
        "m = tf.Variable(0.)\n",
        "b = tf.Variable(0.)"
      ],
      "execution_count": 0,
      "outputs": []
    },
    {
      "cell_type": "code",
      "metadata": {
        "id": "RHRaYgSILzYj",
        "colab_type": "code",
        "colab": {}
      },
      "source": [
        "# Create prediction function\n",
        "def predict(x):\n",
        "    return m*x + b"
      ],
      "execution_count": 0,
      "outputs": []
    },
    {
      "cell_type": "code",
      "metadata": {
        "id": "6ES8SwU1MBcx",
        "colab_type": "code",
        "colab": {}
      },
      "source": [
        "# Define loss functions\n",
        "def squared_error(y_true, y_pred):\n",
        "    return tf.reduce_mean(tf.square(y_true - y_pred))\n",
        "\n",
        "def logcosh(y_true, y_pred):\n",
        "    return tf.reduce_mean(tf.math.log(tf.math.cosh(y_true - y_pred)))"
      ],
      "execution_count": 0,
      "outputs": []
    },
    {
      "cell_type": "code",
      "metadata": {
        "id": "Nx-0hOi3OtlD",
        "colab_type": "code",
        "colab": {
          "base_uri": "https://localhost:8080/",
          "height": 410
        },
        "outputId": "c1ed87cc-b136-48cc-c212-c94c8ebceddf"
      },
      "source": [
        "# Define training params\n",
        "learning_rate = .01\n",
        "n_epochs = 501\n",
        "\n",
        "for epoch in range(n_epochs):\n",
        "    \n",
        "    with tf.GradientTape() as tape:\n",
        "        pred = predict(X_train)\n",
        "#         loss = logcosh(y_train, pred)\n",
        "        loss = squared_error(y_train, pred)\n",
        "        \n",
        "    gradients = tape.gradient(loss, [m, b])\n",
        "    \n",
        "    m.assign_sub(gradients[0] * learning_rate)\n",
        "    b.assign_sub(gradients[1] * learning_rate)\n",
        "    \n",
        "    if epoch % 25 == 0:\n",
        "        print(f\"Epoch {epoch} | Training loss = {loss.numpy()}\")\n",
        "        "
      ],
      "execution_count": 114,
      "outputs": [
        {
          "output_type": "stream",
          "text": [
            "Epoch 0 | Training loss = 0.4429086446762085\n",
            "Epoch 25 | Training loss = 0.1198735311627388\n",
            "Epoch 50 | Training loss = 0.03281966969370842\n",
            "Epoch 75 | Training loss = 0.009358972311019897\n",
            "Epoch 100 | Training loss = 0.003035683650523424\n",
            "Epoch 125 | Training loss = 0.001330699771642685\n",
            "Epoch 150 | Training loss = 0.0008703284547664225\n",
            "Epoch 175 | Training loss = 0.0007454233709722757\n",
            "Epoch 200 | Training loss = 0.0007109694415703416\n",
            "Epoch 225 | Training loss = 0.0007009404362179339\n",
            "Epoch 250 | Training loss = 0.0006975387223064899\n",
            "Epoch 275 | Training loss = 0.0006959669408388436\n",
            "Epoch 300 | Training loss = 0.0006949286907911301\n",
            "Epoch 325 | Training loss = 0.0006940716993995011\n",
            "Epoch 350 | Training loss = 0.0006932994001545012\n",
            "Epoch 375 | Training loss = 0.0006925835623405874\n",
            "Epoch 400 | Training loss = 0.0006919141160324216\n",
            "Epoch 425 | Training loss = 0.0006912867538630962\n",
            "Epoch 450 | Training loss = 0.0006906980997882783\n",
            "Epoch 475 | Training loss = 0.0006901461165398359\n",
            "Epoch 500 | Training loss = 0.0006896280683577061\n"
          ],
          "name": "stdout"
        }
      ]
    },
    {
      "cell_type": "code",
      "metadata": {
        "id": "DJGvRg-lQw0W",
        "colab_type": "code",
        "colab": {}
      },
      "source": [
        "# Get preds\n",
        "# y_pred_logcosh = predict(X_train)\n",
        "y_pred_mse = predict(X_train)"
      ],
      "execution_count": 0,
      "outputs": []
    },
    {
      "cell_type": "code",
      "metadata": {
        "id": "K7QYyz_vRUxG",
        "colab_type": "code",
        "colab": {
          "base_uri": "https://localhost:8080/",
          "height": 282
        },
        "outputId": "8fa308db-c9fa-4401-90bc-e332a4f6d454"
      },
      "source": [
        "# Visualize\n",
        "plt.scatter(x, y)\n",
        "plt.plot(x, y_pred_logcosh, color = 'red', label = 'Loss = logcosh', alpha = .5)\n",
        "plt.plot(x, y_pred_mse, color = 'yellow', label = 'Loss = MSE', alpha = .5)\n",
        "plt.show()"
      ],
      "execution_count": 116,
      "outputs": [
        {
          "output_type": "display_data",
          "data": {
            "image/png": "[encoded data removed]",
            "text/plain": [
              "<Figure size 432x288 with 1 Axes>"
            ]
          },
          "metadata": {
            "tags": []
          }
        }
      ]
    },
    {
      "cell_type": "code",
      "metadata": {
        "id": "_CjP7ju6Rh1-",
        "colab_type": "code",
        "colab": {}
      },
      "source": [
        ""
      ],
      "execution_count": 0,
      "outputs": []
    },
    {
      "cell_type": "code",
      "metadata": {
        "id": "X2S_KNaETwz3",
        "colab_type": "code",
        "colab": {}
      },
      "source": [
        ""
      ],
      "execution_count": 0,
      "outputs": []
    }
  ]
}