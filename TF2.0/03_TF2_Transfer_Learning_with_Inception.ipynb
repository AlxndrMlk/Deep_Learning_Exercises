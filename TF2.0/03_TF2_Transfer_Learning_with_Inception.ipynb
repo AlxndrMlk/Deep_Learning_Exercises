{
  "nbformat": 4,
  "nbformat_minor": 0,
  "metadata": {
    "colab": {
      "name": "Transfer Learning.ipynb",
      "version": "0.3.2",
      "provenance": [],
      "collapsed_sections": []
    },
    "kernelspec": {
      "name": "python3",
      "display_name": "Python 3"
    },
    "accelerator": "GPU"
  },
  "cells": [
    {
      "cell_type": "code",
      "metadata": {
        "colab_type": "code",
        "outputId": "b09136ae-edba-4523-c57f-91a25155ad99",
        "id": "kz7_qB_0NWw-",
        "colab": {
          "base_uri": "https://localhost:8080/",
          "height": 73
        }
      },
      "source": [
        "!pip install -q tensorflow==2.0.0-beta1"
      ],
      "execution_count": 1,
      "outputs": [
        {
          "output_type": "stream",
          "text": [
            "\u001b[K     |████████████████████████████████| 87.9MB 1.3MB/s \n",
            "\u001b[K     |████████████████████████████████| 3.1MB 26.2MB/s \n",
            "\u001b[K     |████████████████████████████████| 501kB 49.6MB/s \n",
            "\u001b[?25h"
          ],
          "name": "stdout"
        }
      ]
    },
    {
      "cell_type": "code",
      "metadata": {
        "id": "HIkB1RfFNTAY",
        "colab_type": "code",
        "colab": {}
      },
      "source": [
        "import os\n",
        "import zipfile\n",
        "\n",
        "from tensorflow.keras import layers\n",
        "from tensorflow.keras import Model\n",
        "\n",
        "from tensorflow.keras.applications.inception_v3 import InceptionV3\n",
        "from tensorflow.keras.optimizers import RMSprop\n",
        "\n",
        "from tensorflow.keras.preprocessing.image import ImageDataGenerator\n",
        "\n",
        "import matplotlib.pyplot as plt\n",
        "plt.style.use('fivethirtyeight')"
      ],
      "execution_count": 0,
      "outputs": []
    },
    {
      "cell_type": "code",
      "metadata": {
        "id": "AeaaSS4ANnz7",
        "colab_type": "code",
        "colab": {
          "base_uri": "https://localhost:8080/",
          "height": 223
        },
        "outputId": "fd68ee39-4d17-48b4-8155-43dd54ada856"
      },
      "source": [
        "# Get Inception weights\n",
        "!wget --no-check-certificate \\\n",
        "    https://storage.googleapis.com/mledu-datasets/inception_v3_weights_tf_dim_ordering_tf_kernels_notop.h5 \\\n",
        "    -O /tmp/inception_v3_weights_tf_dim_ordering_tf_kernels_notop.h5"
      ],
      "execution_count": 3,
      "outputs": [
        {
          "output_type": "stream",
          "text": [
            "--2019-08-16 16:15:53--  https://storage.googleapis.com/mledu-datasets/inception_v3_weights_tf_dim_ordering_tf_kernels_notop.h5\n",
            "Resolving storage.googleapis.com (storage.googleapis.com)... 172.217.212.128, 2607:f8b0:4001:c05::80\n",
            "Connecting to storage.googleapis.com (storage.googleapis.com)|172.217.212.128|:443... connected.\n",
            "HTTP request sent, awaiting response... 200 OK\n",
            "Length: 87910968 (84M) [application/x-hdf]\n",
            "Saving to: ‘/tmp/inception_v3_weights_tf_dim_ordering_tf_kernels_notop.h5’\n",
            "\n",
            "/tmp/inception_v3_w 100%[===================>]  83.84M  25.1MB/s    in 3.3s    \n",
            "\n",
            "2019-08-16 16:15:57 (25.1 MB/s) - ‘/tmp/inception_v3_weights_tf_dim_ordering_tf_kernels_notop.h5’ saved [87910968/87910968]\n",
            "\n"
          ],
          "name": "stdout"
        }
      ]
    },
    {
      "cell_type": "code",
      "metadata": {
        "id": "kMP_JXxvNwdZ",
        "colab_type": "code",
        "colab": {}
      },
      "source": [
        "\n",
        "local_weights_file = '/tmp/inception_v3_weights_tf_dim_ordering_tf_kernels_notop.h5'"
      ],
      "execution_count": 0,
      "outputs": []
    },
    {
      "cell_type": "code",
      "metadata": {
        "id": "ZiMjLOL0M1M6",
        "colab_type": "code",
        "colab": {}
      },
      "source": [
        "# Define the model and load weights\n",
        "pre_trained_model = InceptionV3(input_shape = (150, 150, 3), \n",
        "                                include_top = False,         # Get rid of the top fully cnnected layer\n",
        "                                weights     = None)\n",
        "\n",
        "pre_trained_model.load_weights(local_weights_file)"
      ],
      "execution_count": 0,
      "outputs": []
    },
    {
      "cell_type": "code",
      "metadata": {
        "id": "YV1PmtppN4r5",
        "colab_type": "code",
        "colab": {}
      },
      "source": [
        "# Lock conv layers to keep the pre-loaded weights\n",
        "for layer in pre_trained_model.layers:\n",
        "    layer.trainable = False"
      ],
      "execution_count": 0,
      "outputs": []
    },
    {
      "cell_type": "code",
      "metadata": {
        "id": "J2bmJzWvOMdU",
        "colab_type": "code",
        "colab": {}
      },
      "source": [
        "# pre_trained_model.summary()  # <----- This is HUUUUGE!\n",
        "\n"
      ],
      "execution_count": 0,
      "outputs": []
    },
    {
      "cell_type": "code",
      "metadata": {
        "id": "blAzzQ11OSHX",
        "colab_type": "code",
        "colab": {
          "base_uri": "https://localhost:8080/",
          "height": 36
        },
        "outputId": "e7e36f73-7b04-4db2-eaa4-d7f3c13d08e9"
      },
      "source": [
        "# Check the last layer\n",
        "\n",
        "last_layer = pre_trained_model.get_layer('mixed7')\n",
        "\n",
        "print('Last layer output shape: ', last_layer.output_shape)\n",
        "\n",
        "last_output = last_layer.output"
      ],
      "execution_count": 9,
      "outputs": [
        {
          "output_type": "stream",
          "text": [
            "Last layer output shape:  (None, 7, 7, 768)\n"
          ],
          "name": "stdout"
        }
      ]
    },
    {
      "cell_type": "code",
      "metadata": {
        "colab_type": "code",
        "id": "BMXb913pbvFg",
        "colab": {}
      },
      "source": [
        "# Go with the functional API and...\n",
        "\n",
        "# Flatten the output layer to 1 dimension\n",
        "x = layers.Flatten()(last_output)\n",
        "\n",
        "# Add a fully connected layer with 1,024 hidden units and ReLU activation\n",
        "x = layers.Dense(1024, activation = 'relu')(x)\n",
        "\n",
        "# Add a dropout rate of 0.2\n",
        "x = layers.Dropout(0.2)(x)                  \n",
        "\n",
        "# Add a final sigmoid layer for classification\n",
        "x = layers.Dense(1, activation = 'sigmoid')(x)           \n",
        "\n",
        "# Define the final model\n",
        "model = Model(pre_trained_model.input, x) \n",
        "\n",
        "# Compile\n",
        "model.compile(optimizer = RMSprop(lr=0.0001), \n",
        "              loss      = 'binary_crossentropy', \n",
        "              metrics   = ['acc'])\n"
      ],
      "execution_count": 0,
      "outputs": []
    },
    {
      "cell_type": "code",
      "metadata": {
        "id": "sh5gkKdxO2z8",
        "colab_type": "code",
        "colab": {
          "base_uri": "https://localhost:8080/",
          "height": 223
        },
        "outputId": "667a7b4c-1988-416a-a51a-88d04799f404"
      },
      "source": [
        "# Get the data\n",
        "!wget --no-check-certificate \\\n",
        "        https://storage.googleapis.com/mledu-datasets/cats_and_dogs_filtered.zip \\\n",
        "       -O /tmp/cats_and_dogs_filtered.zip\n"
      ],
      "execution_count": 11,
      "outputs": [
        {
          "output_type": "stream",
          "text": [
            "--2019-08-16 16:21:04--  https://storage.googleapis.com/mledu-datasets/cats_and_dogs_filtered.zip\n",
            "Resolving storage.googleapis.com (storage.googleapis.com)... 108.177.111.128, 2607:f8b0:4001:c07::80\n",
            "Connecting to storage.googleapis.com (storage.googleapis.com)|108.177.111.128|:443... connected.\n",
            "HTTP request sent, awaiting response... 200 OK\n",
            "Length: 68606236 (65M) [application/zip]\n",
            "Saving to: ‘/tmp/cats_and_dogs_filtered.zip’\n",
            "\n",
            "/tmp/cats_and_dogs_ 100%[===================>]  65.43M  36.5MB/s    in 1.8s    \n",
            "\n",
            "2019-08-16 16:21:06 (36.5 MB/s) - ‘/tmp/cats_and_dogs_filtered.zip’ saved [68606236/68606236]\n",
            "\n"
          ],
          "name": "stdout"
        }
      ]
    },
    {
      "cell_type": "code",
      "metadata": {
        "colab_type": "code",
        "id": "O4s8HckqGlnb",
        "colab": {}
      },
      "source": [
        "# Unzip and build the folder structure\n",
        "\n",
        "local_zip = '//tmp/cats_and_dogs_filtered.zip'\n",
        "\n",
        "zip_ref = zipfile.ZipFile(local_zip, 'r')\n",
        "\n",
        "zip_ref.extractall('/tmp')\n",
        "zip_ref.close()\n",
        "\n",
        "# Define our example directories and files\n",
        "base_dir = '/tmp/cats_and_dogs_filtered'\n",
        "\n",
        "train_dir = os.path.join( base_dir, 'train')\n",
        "validation_dir = os.path.join( base_dir, 'validation')\n",
        "\n",
        "\n",
        "train_cats_dir = os.path.join(train_dir, 'cats') # Directory with our training cat pictures\n",
        "train_dogs_dir = os.path.join(train_dir, 'dogs') # Directory with our training dog pictures\n",
        "validation_cats_dir = os.path.join(validation_dir, 'cats') # Directory with our validation cat pictures\n",
        "validation_dogs_dir = os.path.join(validation_dir, 'dogs')# Directory with our validation dog pictures\n",
        "\n",
        "train_cat_fnames = os.listdir(train_cats_dir)\n",
        "train_dog_fnames = os.listdir(train_dogs_dir)"
      ],
      "execution_count": 0,
      "outputs": []
    },
    {
      "cell_type": "code",
      "metadata": {
        "id": "RDWuZ8mwPCnA",
        "colab_type": "code",
        "colab": {
          "base_uri": "https://localhost:8080/",
          "height": 54
        },
        "outputId": "ceba59ce-51d8-407e-ad09-6f317bb461aa"
      },
      "source": [
        "# Define data generators\n",
        "# Add our data-augmentation parameters to ImageDataGenerator\n",
        "train_datagen = ImageDataGenerator(rescale = 1./255.,\n",
        "                                   rotation_range = 40,\n",
        "                                   width_shift_range = 0.2,\n",
        "                                   height_shift_range = 0.2,\n",
        "                                   shear_range = 0.2,\n",
        "                                   zoom_range = 0.2,\n",
        "                                   horizontal_flip = True)\n",
        "\n",
        "# Note that the validation data should not be augmented!\n",
        "test_datagen = ImageDataGenerator( rescale = 1.0/255. )\n",
        "\n",
        "# Flow training images in batches of 20 using train_datagen generator\n",
        "train_generator = train_datagen.flow_from_directory(train_dir,\n",
        "                                                    batch_size  = 20,\n",
        "                                                    class_mode  = 'binary', \n",
        "                                                    target_size = (150, 150))     \n",
        "\n",
        "# Flow validation images in batches of 20 using test_datagen generator\n",
        "validation_generator = test_datagen.flow_from_directory(validation_dir,\n",
        "                                                        batch_size  = 20,\n",
        "                                                        class_mode  = 'binary', \n",
        "                                                        target_size = (150, 150))"
      ],
      "execution_count": 13,
      "outputs": [
        {
          "output_type": "stream",
          "text": [
            "Found 2000 images belonging to 2 classes.\n",
            "Found 1000 images belonging to 2 classes.\n"
          ],
          "name": "stdout"
        }
      ]
    },
    {
      "cell_type": "code",
      "metadata": {
        "colab_type": "code",
        "id": "Blhq2MAUeyGA",
        "outputId": "c89839d1-166e-4e46-d769-9de455ecab5f",
        "colab": {
          "base_uri": "https://localhost:8080/",
          "height": 860
        }
      },
      "source": [
        "# Fit the model\n",
        "history = model.fit_generator(train_generator,\n",
        "                              validation_data  = validation_generator,\n",
        "                              steps_per_epoch  = 100,\n",
        "                              epochs           = 20,\n",
        "                              validation_steps = 50,\n",
        "                              verbose          = 2)"
      ],
      "execution_count": 14,
      "outputs": [
        {
          "output_type": "stream",
          "text": [
            "Epoch 1/20\n"
          ],
          "name": "stdout"
        },
        {
          "output_type": "stream",
          "text": [
            "WARNING: Logging before flag parsing goes to stderr.\n",
            "W0816 16:22:34.301993 140583516096384 deprecation.py:323] From /usr/local/lib/python3.6/dist-packages/tensorflow/python/ops/math_grad.py:1250: add_dispatch_support.<locals>.wrapper (from tensorflow.python.ops.array_ops) is deprecated and will be removed in a future version.\n",
            "Instructions for updating:\n",
            "Use tf.where in 2.0, which has the same broadcast rule as np.where\n"
          ],
          "name": "stderr"
        },
        {
          "output_type": "stream",
          "text": [
            "100/100 - 152s - loss: 0.5140 - acc: 0.7610 - val_loss: 0.2882 - val_acc: 0.9130\n",
            "Epoch 2/20\n",
            "100/100 - 145s - loss: 0.3692 - acc: 0.8400 - val_loss: 0.2489 - val_acc: 0.9370\n",
            "Epoch 3/20\n",
            "100/100 - 143s - loss: 0.3324 - acc: 0.8540 - val_loss: 0.3211 - val_acc: 0.9290\n",
            "Epoch 4/20\n",
            "100/100 - 142s - loss: 0.3126 - acc: 0.8715 - val_loss: 0.4086 - val_acc: 0.9340\n",
            "Epoch 5/20\n",
            "100/100 - 141s - loss: 0.3160 - acc: 0.8690 - val_loss: 0.2548 - val_acc: 0.9500\n",
            "Epoch 6/20\n",
            "100/100 - 142s - loss: 0.3168 - acc: 0.8705 - val_loss: 0.2115 - val_acc: 0.9620\n",
            "Epoch 7/20\n",
            "100/100 - 141s - loss: 0.2950 - acc: 0.8765 - val_loss: 0.2364 - val_acc: 0.9570\n",
            "Epoch 8/20\n",
            "100/100 - 140s - loss: 0.3172 - acc: 0.8725 - val_loss: 0.3730 - val_acc: 0.9440\n",
            "Epoch 9/20\n",
            "100/100 - 141s - loss: 0.2998 - acc: 0.8775 - val_loss: 0.3753 - val_acc: 0.9440\n",
            "Epoch 10/20\n",
            "100/100 - 141s - loss: 0.2851 - acc: 0.8815 - val_loss: 0.2952 - val_acc: 0.9530\n",
            "Epoch 11/20\n",
            "100/100 - 140s - loss: 0.2781 - acc: 0.8845 - val_loss: 0.4058 - val_acc: 0.9460\n",
            "Epoch 12/20\n",
            "100/100 - 139s - loss: 0.2793 - acc: 0.8825 - val_loss: 0.3485 - val_acc: 0.9520\n",
            "Epoch 13/20\n",
            "100/100 - 140s - loss: 0.2752 - acc: 0.8935 - val_loss: 0.2728 - val_acc: 0.9640\n",
            "Epoch 14/20\n",
            "100/100 - 139s - loss: 0.2659 - acc: 0.8920 - val_loss: 0.2603 - val_acc: 0.9660\n",
            "Epoch 15/20\n",
            "100/100 - 143s - loss: 0.2567 - acc: 0.8980 - val_loss: 0.2624 - val_acc: 0.9620\n",
            "Epoch 16/20\n",
            "100/100 - 142s - loss: 0.2683 - acc: 0.8910 - val_loss: 0.3215 - val_acc: 0.9520\n",
            "Epoch 17/20\n",
            "100/100 - 141s - loss: 0.2570 - acc: 0.9005 - val_loss: 0.3750 - val_acc: 0.9470\n",
            "Epoch 18/20\n",
            "100/100 - 141s - loss: 0.2530 - acc: 0.9025 - val_loss: 0.2647 - val_acc: 0.9650\n",
            "Epoch 19/20\n",
            "100/100 - 140s - loss: 0.2782 - acc: 0.8885 - val_loss: 0.3532 - val_acc: 0.9520\n",
            "Epoch 20/20\n",
            "100/100 - 140s - loss: 0.2461 - acc: 0.8980 - val_loss: 0.3302 - val_acc: 0.9560\n"
          ],
          "name": "stdout"
        }
      ]
    },
    {
      "cell_type": "code",
      "metadata": {
        "id": "C2Fp6Se9rKuL",
        "colab_type": "code",
        "outputId": "f0f6e69b-0832-449a-d14b-6ac38a5b538c",
        "colab": {
          "base_uri": "https://localhost:8080/",
          "height": 322
        }
      },
      "source": [
        "\n",
        "train_acc  = history.history['acc']\n",
        "val_acc    = history.history['val_acc']\n",
        "train_loss = history.history['loss']\n",
        "val_loss   = history.history['val_loss']\n",
        "\n",
        "epochs = range(len(train_acc))\n",
        "\n",
        "plt.plot(epochs, train_acc, 'r', label = 'Train acc')\n",
        "plt.plot(epochs, val_acc, 'b', label = 'Val acc')\n",
        "plt.title('Training and validation accuracy')\n",
        "plt.legend(loc=0)\n",
        "plt.figure()\n",
        "\n",
        "\n",
        "plt.show()"
      ],
      "execution_count": 15,
      "outputs": [
        {
          "output_type": "display_data",
          "data": {
            "image/png": "[encoded data removed]",
            "text/plain": [
              "<Figure size 432x288 with 1 Axes>"
            ]
          },
          "metadata": {
            "tags": []
          }
        },
        {
          "output_type": "display_data",
          "data": {
            "text/plain": [
              "<Figure size 432x288 with 0 Axes>"
            ]
          },
          "metadata": {
            "tags": []
          }
        }
      ]
    },
    {
      "cell_type": "code",
      "metadata": {
        "id": "CdC7K-cAmeas",
        "colab_type": "code",
        "colab": {}
      },
      "source": [
        "# Thanks inception! :)"
      ],
      "execution_count": 0,
      "outputs": []
    }
  ]
}