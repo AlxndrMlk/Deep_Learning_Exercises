{
 "cells": [
  {
   "cell_type": "code",
   "execution_count": 0,
   "metadata": {
    "colab": {},
    "colab_type": "code",
    "id": "hO7cyA2nH9Lc"
   },
   "outputs": [],
   "source": [
    "!pip install tensorflow==2.0.0-rc1 "
   ]
  },
  {
   "cell_type": "code",
   "execution_count": 139,
   "metadata": {
    "colab": {
     "base_uri": "https://localhost:8080/",
     "height": 36
    },
    "colab_type": "code",
    "id": "YOtxWRoqIJWS",
    "outputId": "9efc8866-89af-4f84-ac07-50023321ebb1"
   },
   "outputs": [
    {
     "data": {
      "text/plain": [
       "'2.0.0-rc1'"
      ]
     },
     "execution_count": 139,
     "metadata": {
      "tags": []
     },
     "output_type": "execute_result"
    }
   ],
   "source": [
    "import tensorflow as tf\n",
    "\n",
    "from tensorflow.keras.preprocessing.text import Tokenizer\n",
    "from tensorflow.keras.preprocessing.sequence import pad_sequences\n",
    "\n",
    "from tensorflow.keras.models import Sequential\n",
    "from tensorflow.keras.layers import Embedding, LSTM, Dense, Bidirectional\n",
    "from tensorflow.keras.optimizers import Adam\n",
    "\n",
    "import numpy as np\n",
    "import re\n",
    "\n",
    "import matplotlib.pyplot as plt\n",
    "plt.style.use('fivethirtyeight')\n",
    "\n",
    "from google.colab import files\n",
    "\n",
    "tf.__version__"
   ]
  },
  {
   "cell_type": "markdown",
   "metadata": {
    "colab_type": "text",
    "id": "DtdUJjxW17SU"
   },
   "source": [
    "# Sequence generation with TF2.0\n",
    "\n",
    "In this notebook we train a simple model with lyrics by Rosalía ().\n",
    "Next, we generate new song lyrics. \n",
    "\n",
    "The dataset used in this toy example is small (5 song only) and the model is simple. \n",
    "\n",
    "Feel free to used the model with a larger dataset and add some complexity! :)"
   ]
  },
  {
   "cell_type": "code",
   "execution_count": 140,
   "metadata": {
    "colab": {
     "base_uri": "https://localhost:8080/",
     "height": 74,
     "resources": {
      "http://localhost:8080/nbextensions/google.colab/files.js": {
       "data": "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",
       "headers": [
        [
         "content-type",
         "application/javascript"
        ]
       ],
       "ok": true,
       "status": 200,
       "status_text": "OK"
      }
     }
    },
    "colab_type": "code",
    "id": "ubpi0hpnIbB9",
    "outputId": "4e1e5e7a-300b-48a2-82a0-04c04cb023e5"
   },
   "outputs": [
    {
     "data": {
      "text/html": [
       "\n",
       "     <input type=\"file\" id=\"files-70e3bb83-3120-4af2-9fd4-3a75de329a33\" name=\"files[]\" multiple disabled />\n",
       "     <output id=\"result-70e3bb83-3120-4af2-9fd4-3a75de329a33\">\n",
       "      Upload widget is only available when the cell has been executed in the\n",
       "      current browser session. Please rerun this cell to enable.\n",
       "      </output>\n",
       "      <script src=\"/nbextensions/google.colab/files.js\"></script> "
      ],
      "text/plain": [
       "<IPython.core.display.HTML object>"
      ]
     },
     "metadata": {
      "tags": []
     },
     "output_type": "display_data"
    },
    {
     "name": "stdout",
     "output_type": "stream",
     "text": [
      "Saving rosalia_lyrics.txt to rosalia_lyrics (1).txt\n"
     ]
    }
   ],
   "source": [
    "# Upload the data\n",
    "uploaded = files.upload()"
   ]
  },
  {
   "cell_type": "code",
   "execution_count": 0,
   "metadata": {
    "colab": {},
    "colab_type": "code",
    "id": "FiHdDH2jIxA0"
   },
   "outputs": [],
   "source": [
    "# Load the data\n",
    "with open('rosalia_lyrics.txt', 'r') as infile:\n",
    "    lyrics = infile.read()"
   ]
  },
  {
   "cell_type": "code",
   "execution_count": 142,
   "metadata": {
    "colab": {
     "base_uri": "https://localhost:8080/",
     "height": 56
    },
    "colab_type": "code",
    "id": "ZDmZ0t6QJAEb",
    "outputId": "a754b05a-2da1-4b36-fc42-9905f7f0c0c8"
   },
   "outputs": [
    {
     "data": {
      "text/plain": [
       "\"Esto vamo' a arrancarlo con altura\\nEl dembow lo canto con hondura\\nDicen una estrella, una figura\\nDe Héctor aprendí la sabrosura\\nNunca viste una joya tan pura\\nEsto es pa' que quede, lo que yo hago dura\\n(Con altura)\\nDemasiadas noches de travesura\\n(Con altura)\\nVivo rápido y no tengo cura\\n(Con altura)\\nIré joven pa' la sepultura\\n(Con altura)\\nEsto es pa' que quede, lo que yo hago dura\\n(Con altura)\\nDemasiadas noches de travesura\\n(Con altura)\\nVivo rápido y no tengo cura\\n(Con altura)\\nIré joven pa' la sepultura\\n(Con altura)\\nPongo rosas sobre el Panamera\\nPongo palmas sobre la guantanamera\\nLlevo a Camarón en la guantera (De la Isla)\\nLo hago para mi gente y lo hago a mi manera\\nFlores azules y quilates\\nY si es mentira que me maten\\nFlores azules y quilates\\nY si es mentira que me maten\\n(Con altura)\\n(Con altura)\\nEsto es pa' que quede, lo que yo hago dura\\n(Con altura)\\nDemasiadas noches de travesura\\n(Con altura)\\nVivo rápido y no tengo cura\\n(Con altura)\\nIré joven pa' la sepultura\\n(Con altura)\\nEsto es pa' que quede, lo que yo hago dura\\n(Con altura)\\nDemasiadas noches de travesura\\n(Con altura)\\nVivo rápido y no tengo cura\\n(Con altura)\\nIré joven pa' la sepultura\\n(Con altura)\\nAquí en la altura están fuertes los vientos\\nPonte el cinturón y coge asiento\\nA tu jeva ya la vi por dentro (yes)\\nEl dinero nunca pierde tiempo (no, no)\\nContra la pared (tú lo sabe')\\nY le tuve que comprar un trago porque la tenías con sed\\nDesde acá qué rico se ve\\nNo soy Sky pero rompí el bajo otra vez\\nFlores azules y quilates (Rosalía)\\nY si es mentira que me maten (J Balvin)\\nFlores azules y quilates\\nY si es mentira que me maten\\n(Con altura)\\n(Con altura)\\nEsto es pa' que quede, lo que yo hago dura\\n(Con altura)\\nDemasiadas noches de travesura\\n(Con altura)\\nVivo rápido y no tengo cura\\n(Con altura)\\nIré joven pa' la sepultura\\n(Con altura)\\nEsto es pa' que quede, lo que yo hago dura (Siempre dura dura) (Con altura)\\nDemasiadas noches de travesura\\n(Con altura)\\nVivo rápido y no tengo cura\\n(Con altura)\\nIré joven pa' la sepultura\\n(Con altura)\\nJ Balvin\\nLa Rosalía\\nLo que yo hago dura (vamo', vamo' a-a, vamo' a perrearnos)\\nLo que yo hago dura\\n\\nEse cristalito roto yo sentí cómo crujía (Hm)\\nAntes de caerse al suelo ya sabía que se rompía (Uh)\\nEstá parpadeando la luz del descansillo\\n(Hm) Una voz en la escalera, alguien cruzando el pasillo\\n\\n[Coro]\\n(Hmm)\\nMalamente (Eso e', así sí)\\nMalamente (¡Tra-tra!)\\nMal, mu' mal, mu' mal, mu' mal, mu' mal (Mira)\\nMalamente (Ahh-ah-ah-ah, hm)\\n(Toma que toma)\\nEs pa' la mente (Eso e', ¡illo!)\\n(Ay) Malamente\\nMal, mu' mal, mu' mal, mu' mal, mu' mal (No)\\nMalamente (Uh)\\n\\n[Verso 2]\\nSe ha puesto la noche rara, han salí'o luna y estrellas (Eh)\\nMe lo dijo esa gitana (¿Qué?), mejor no salir a verla (No)\\nSueño que estoy andando por un puente y que la acera (Mira, mira, mira, mira)\\nCuanto más quiero cruzarlo (Va), más se mueve y tambalea\\n\\n(Hmm)\\nMalamente (Eso e', así sí)\\nMalamente (¡Tra-tra!)\\nMal, mu' mal, mu' mal, mu' mal, mu' mal (Mira)\\nMalamente (Ahh-ah-ah-ah, hm)\\n(Toma que toma, vámono')\\nEs pa' la mente (Eso e', ¡illo!)\\n(Ay) Malamente\\nMal, mu' mal, mu' mal, mu' mal, mu' mal (No)\\nMalamente\\n\\n[Puente]\\nAunque no esté bonita, la noche undivé (Hm-hm)\\nVoy a salir pa' la calle, en la manita los aros brillando en mi piel\\nLos corales (Hmph), me protejan, me salven (Hmph)\\nMe iluminen, me guarden (Hmph) y por delante (Hm)\\nNo voy a perder ni un minuto en volver a pensarte (Hmm)\\n\\n[Coro]\\nMalamente (Eso e', así sí)\\nMalamente (¡Tra-tra!)\\nMal, mu' mal, mu' mal, mu' mal, mu' mal (Mira)\\nMalamente (Ahh-ah-ah-ah, hm)\\n(Toma que toma)\\nEs pa' la mente (Eso e', ¡illo!)\\n(Ay) Malamente\\nMal, mu' mal, mu' mal, mu' mal, mu' mal (Illo)\\nMalamente (Ahh-ah-ah-ah, hm)\\n(Toma que toma)\\nEs pa' la mente (Illo)\\nAh, malamente (¡Tra-tra!)\\nMal, mu' mal, mu' mal, mu' mal, mu' mal (Vámono')\\nMalamente (Ahh-ah-ah-ah, hm)\\n(Toma que toma, vámono')\\nEs pa' la mente (Eso e', ¡illo!)\\n(Ay) Malamente\\nMal, mu' mal, mu' mal, mu' mal, mu' mal\\nMalamente\\n\\nAli, Ali, Ali, Ali, Ali, Ali, Yali ya\\nAli, Ali, Ali, Ali, Ali, Ali, Yali ya\\n\\n[Verso 1]\\nDi mi nombre\\nCuando no haya nadie cerca\\nCuando no haya nadie cerca\\nCuando no haya nadie cerca\\nQue las cosas\\nQue las cosas que me dices\\nQue las cosas que me dices\\nNo salgan por esa puerta\\n\\n[Pre-Estribillo]\\nY átame con tu cabello\\nA la esquina de tu cama\\nQue aunque el cabello se rompa\\nHaré ver que estoy ata'a\\nQue aunque el cabello se rompa\\nHaré ver que estoy ata'a (Ata'a)\\n\\n[Estribillo]\\nAy, Ali, Ali, Ali, Ali, Ali, Ali, Yali ya\\nAy, Ali, Ali, Ali, Ali, Ali, Ali, Yali ya\\nAy, Ali, Ali, Ali, Ali, Ali, Ali, Yali ya\\n\\n[Verso 2]\\nDi mi nombre\\nPon tu cuerpo contra el mío\\nY haz que lo malo sea bueno\\nImpuro lo bendeci'o\\n\\n[Pre-Estribillo]\\nY hazme rezar sobre tu cuerpo\\nY en la esquina de tu cama\\nY en el último momento\\nDime mi nombre a la cara\\nY en el último momento\\nDime mi nombre a la cara\\n\\n[Estribillo]\\n(Ay, Ali, Ali, Ali, Ali, Ali, Ali, Yali ya)\\n(Ay, Ali, Ali, Ali, Ali, Ali, Ali, Yali ya)\\n(Ay, Ali, Ali, Ali, Ali, Ali, Ali, Yali ya)\\n(Ay, Ali, Ali, Ali, Ali, Ali, Ali, Yali ya)\\nAy, Ali, Ali, Ali, Ali, Ali, Ali, Yali ya\\nAy, Ali, Ali, Ali, Ali, Ali, Ali, Yali ya\\nAy, Ali, Ali, Ali, Ali, Ali, Ali, Yali ya\\nAy, Ali, Ali, Ali, Ali, Ali, Ali, Yali ya\\n\\n[Outro]\\n(Ay, Ali, Ali, Ali, Ali, Ali, Ali, Yali ya)\\n\\nMe da miedo cuando sale', sonriendo pa' la calle\\nPorque todos pueden ve' los hoyuelitos que te salen\\n\\n[Verso 1]\\nY del aire cuando pasa, por levantarte el cabello\\nY del oro que te viste por amarrarse a tu cuello\\nY del cielo y de la luna, que tú quieras mirarlos\\nHasta del agua que bebes cuando te moja los labios\\n\\n[Coro]\\nPienso en tu mirá', tu mirá' clavá' es una bala en el pecho\\nPienso en tu mirá', tu mirá' clavá' es una bala en el\\nPienso en tu mirá', tu mirá' clavá' es una bala en el pecho\\nPienso en tu mirá'\\nPienso en tu mirá'\\n\\n[Puente]\\nMe da miedo cuando sale' (Eh), sonriendo pa' la calle\\nPorque todos pueden ve' (Eh) los hoyuelitos que te salen\\nMe da miedo cuando sale' (Eh), sonriendo pa' la calle\\nPorque todos pueden ve' (Eh) los hoyuelitos que te salen\\n\\n[Verso 2]\\nTan bonita que amenaza, cuando calla' me da' miedo\\nTan fría como la nieve cuando cae desde el cielo\\nCuando sales por la puerta, pienso que no vuelves nunca\\nY si no te agarro fuerte, siento que será mi culpa\\n\\nPienso en tu mirá', tu mirá' clavá' es una bala en el pecho\\nPienso en tu mirá', tu mirá' clavá' es una bala en el\\nPienso en tu mirá', tu mirá' clavá' es una bala en el pecho\\nPienso en tu mirá', tu mirá' clavá' es una bala en el\\nPienso en tu mirá', tu mirá' clavá' es una bala en el pecho\\nPienso en tu mirá', tu mirá' clavá' es una bala en el (Pienso en tu mirá')\\nPienso en tu mirá', tu mirá' clavá' es una bala en el pecho\\nPienso en tu mirá'\\nPienso en tu mirá' (Pa' 'trá')\\n\\n[Puente]\\nMe da miedo cuando sale', (Eh) sonriendo pa' la calle\\nPorque todos pueden ve' (Eh) los hoyuelitos que te salen\\nMe da miedo cuando sale' (Eh), sonriendo pa' la calle\\nPorque todos pueden ve' (Eh) los hoyuelitos que te salen\\n\\n[Outro]\\n(Hmm-mmm-mmm-mmm, hmm-mmm-mmm-mmm)\\n(Hmm-mmm-mmm-mmm, hmm-mmm-mmm-mmm)\\n\""
      ]
     },
     "execution_count": 142,
     "metadata": {
      "tags": []
     },
     "output_type": "execute_result"
    }
   ],
   "source": [
    "# Sanity check\n",
    "lyrics"
   ]
  },
  {
   "cell_type": "code",
   "execution_count": 0,
   "metadata": {
    "colab": {},
    "colab_type": "code",
    "id": "SdglI8isJU1Q"
   },
   "outputs": [],
   "source": [
    "# Clean the data - remove verse, chorus, etc. tags\n",
    "lyrics = re.sub('\\[.+\\]', '', lyrics)\n",
    "lyrics = re.sub('\\(.+\\)', '', lyrics)"
   ]
  },
  {
   "cell_type": "code",
   "execution_count": 0,
   "metadata": {
    "colab": {},
    "colab_type": "code",
    "id": "Es6v_-DKJBPW"
   },
   "outputs": [],
   "source": [
    "# Instantiate the tokenizer\n",
    "tokenizer = Tokenizer()"
   ]
  },
  {
   "cell_type": "code",
   "execution_count": 0,
   "metadata": {
    "colab": {},
    "colab_type": "code",
    "id": "Ezksaby_JPMU"
   },
   "outputs": [],
   "source": [
    "# Get the corpus\n",
    "corpus = lyrics.lower().split('\\n')"
   ]
  },
  {
   "cell_type": "code",
   "execution_count": 0,
   "metadata": {
    "colab": {},
    "colab_type": "code",
    "id": "xCx8H4oGj9sW"
   },
   "outputs": [],
   "source": [
    "# Remove empty lines\n",
    "corpus = [line for line in corpus if len(line) != 0]"
   ]
  },
  {
   "cell_type": "code",
   "execution_count": 0,
   "metadata": {
    "colab": {},
    "colab_type": "code",
    "id": "Mv9bSQiyLIpO"
   },
   "outputs": [],
   "source": [
    "# Fit the tokenizer\n",
    "tokenizer.fit_on_texts(corpus)"
   ]
  },
  {
   "cell_type": "code",
   "execution_count": 0,
   "metadata": {
    "colab": {},
    "colab_type": "code",
    "id": "xFyk32VVLLRI"
   },
   "outputs": [],
   "source": [
    "# Adding one to consider out-of-vocab words\n",
    "n_words = len(tokenizer.word_index) + 1"
   ]
  },
  {
   "cell_type": "code",
   "execution_count": 0,
   "metadata": {
    "colab": {},
    "colab_type": "code",
    "id": "Yg62EgsPjVPP"
   },
   "outputs": [],
   "source": [
    "# turn the corpus into the training data\n",
    "input_sequences = []\n",
    "\n",
    "for line in corpus:\n",
    "    token_list = tokenizer.texts_to_sequences([line])[0]\n",
    "    for i in range (1, len(token_list)):\n",
    "        n_gram_seq = token_list[:i + 1]\n",
    "        input_sequences.append(n_gram_seq)"
   ]
  },
  {
   "cell_type": "code",
   "execution_count": 0,
   "metadata": {
    "colab": {},
    "colab_type": "code",
    "id": "PwB0N0A3jWfr"
   },
   "outputs": [],
   "source": [
    "# Find the length of the longest seq in the corpus\n",
    "max_seq_len = max([len(x) for x in input_sequences])"
   ]
  },
  {
   "cell_type": "code",
   "execution_count": 151,
   "metadata": {
    "colab": {
     "base_uri": "https://localhost:8080/",
     "height": 36
    },
    "colab_type": "code",
    "id": "Dvg70r3rk4-g",
    "outputId": "eb14d22d-8d8c-46d1-f0a3-8b283a4fdd4c"
   },
   "outputs": [
    {
     "data": {
      "text/plain": [
       "15"
      ]
     },
     "execution_count": 151,
     "metadata": {
      "tags": []
     },
     "output_type": "execute_result"
    }
   ],
   "source": [
    "max_seq_len"
   ]
  },
  {
   "cell_type": "code",
   "execution_count": 0,
   "metadata": {
    "colab": {},
    "colab_type": "code",
    "id": "4Vb3CmSjldtG"
   },
   "outputs": [],
   "source": [
    "# Pad sequences\n",
    "in_seqs = pad_sequences(input_sequences, \n",
    "                        maxlen  = max_seq_len,\n",
    "                        padding = 'pre')"
   ]
  },
  {
   "cell_type": "code",
   "execution_count": 153,
   "metadata": {
    "colab": {
     "base_uri": "https://localhost:8080/",
     "height": 204
    },
    "colab_type": "code",
    "id": "lJE1Se03lwKY",
    "outputId": "8e19df8f-d00e-4144-cdc3-fc6291454f30"
   },
   "outputs": [
    {
     "name": "stdout",
     "output_type": "stream",
     "text": [
      "[  0   0   0   0   0   0   0   0   0   0   0   0   0  32 107]\n",
      "[  0   0   0   0   0   0   0   0   0   0   0   0  32 107  20]\n",
      "[  0   0   0   0   0   0   0   0   0   0   0  32 107  20 108]\n",
      "[  0   0   0   0   0   0   0   0   0   0  32 107  20 108  62]\n",
      "[  0   0   0   0   0   0   0   0   0  32 107  20 108  62  81]\n",
      "[  0   0   0   0   0   0   0   0   0   0   0   0   0  11 109]\n",
      "[  0   0   0   0   0   0   0   0   0   0   0   0  11 109  17]\n",
      "[  0   0   0   0   0   0   0   0   0   0   0  11 109  17 110]\n",
      "[  0   0   0   0   0   0   0   0   0   0  11 109  17 110  62]\n",
      "[  0   0   0   0   0   0   0   0   0  11 109  17 110  62 111]\n"
     ]
    }
   ],
   "source": [
    "# A quick sanity check\n",
    "for i, seq in enumerate(in_seqs):\n",
    "    if i < 10:\n",
    "        print(seq)"
   ]
  },
  {
   "cell_type": "code",
   "execution_count": 0,
   "metadata": {
    "colab": {},
    "colab_type": "code",
    "id": "KtlkTYURl7Io"
   },
   "outputs": [],
   "source": [
    "# Data-label split\n",
    "X = in_seqs[:, :-1]\n",
    "y = in_seqs[:, -1]"
   ]
  },
  {
   "cell_type": "code",
   "execution_count": 0,
   "metadata": {
    "colab": {},
    "colab_type": "code",
    "id": "i3w46GoKsEIx"
   },
   "outputs": [],
   "source": [
    "# One-hot encode the labels\n",
    "y = tf.keras.utils.to_categorical(y, num_classes = n_words)"
   ]
  },
  {
   "cell_type": "code",
   "execution_count": 0,
   "metadata": {
    "colab": {},
    "colab_type": "code",
    "id": "Lyz4-pDusy3N"
   },
   "outputs": [],
   "source": [
    "# Build a generative model\n",
    "model = Sequential()\n",
    "\n",
    "model.add(Embedding(n_words, 64, \n",
    "                    input_length = max_seq_len - 1))       # We subtract 1 as we removed the last token - it now our label\n",
    "\n",
    "model.add(Bidirectional(LSTM(50)))\n",
    "\n",
    "model.add(Dense(n_words, activation = 'softmax'))\n",
    "\n",
    "model.compile(loss      = 'categorical_crossentropy',\n",
    "              optimizer = Adam(),\n",
    "              metrics   = ['accuracy'])"
   ]
  },
  {
   "cell_type": "code",
   "execution_count": 180,
   "metadata": {
    "colab": {
     "base_uri": "https://localhost:8080/",
     "height": 1000
    },
    "colab_type": "code",
    "id": "v6izlWUJtmU7",
    "outputId": "43bce08f-99f6-456d-a204-f6523348253d"
   },
   "outputs": [
    {
     "name": "stdout",
     "output_type": "stream",
     "text": [
      "Train on 893 samples\n",
      "Epoch 1/350\n",
      "893/893 [==============================] - 5s 6ms/sample - loss: 5.4287 - accuracy: 0.0538\n",
      "Epoch 2/350\n",
      "893/893 [==============================] - 0s 557us/sample - loss: 4.7773 - accuracy: 0.0705\n",
      "Epoch 3/350\n",
      "893/893 [==============================] - 1s 572us/sample - loss: 4.6241 - accuracy: 0.0594\n",
      "Epoch 4/350\n",
      "893/893 [==============================] - 0s 522us/sample - loss: 4.4682 - accuracy: 0.0784\n",
      "Epoch 5/350\n",
      "893/893 [==============================] - 1s 570us/sample - loss: 4.2324 - accuracy: 0.1232\n",
      "Epoch 6/350\n",
      "893/893 [==============================] - 0s 551us/sample - loss: 4.0380 - accuracy: 0.1545\n",
      "Epoch 7/350\n",
      "893/893 [==============================] - 1s 567us/sample - loss: 3.8808 - accuracy: 0.1792\n",
      "Epoch 8/350\n",
      "893/893 [==============================] - 0s 557us/sample - loss: 3.7220 - accuracy: 0.1881\n",
      "Epoch 9/350\n",
      "893/893 [==============================] - 0s 554us/sample - loss: 3.5602 - accuracy: 0.2116\n",
      "Epoch 10/350\n",
      "893/893 [==============================] - 1s 578us/sample - loss: 3.3952 - accuracy: 0.2542\n",
      "Epoch 11/350\n",
      "893/893 [==============================] - 1s 576us/sample - loss: 3.2345 - accuracy: 0.2699\n",
      "Epoch 12/350\n",
      "893/893 [==============================] - 0s 550us/sample - loss: 3.0841 - accuracy: 0.3158\n",
      "Epoch 13/350\n",
      "893/893 [==============================] - 0s 544us/sample - loss: 2.9163 - accuracy: 0.3707\n",
      "Epoch 14/350\n",
      "893/893 [==============================] - 0s 560us/sample - loss: 2.7716 - accuracy: 0.4267\n",
      "Epoch 15/350\n",
      "893/893 [==============================] - 0s 557us/sample - loss: 2.6250 - accuracy: 0.4726\n",
      "Epoch 16/350\n",
      "893/893 [==============================] - 1s 567us/sample - loss: 2.4947 - accuracy: 0.5319\n",
      "Epoch 17/350\n",
      "893/893 [==============================] - 1s 578us/sample - loss: 2.3871 - accuracy: 0.5577\n",
      "Epoch 18/350\n",
      "893/893 [==============================] - 0s 546us/sample - loss: 2.2991 - accuracy: 0.5510\n",
      "Epoch 19/350\n",
      "893/893 [==============================] - 0s 556us/sample - loss: 2.2167 - accuracy: 0.5610\n",
      "Epoch 20/350\n",
      "893/893 [==============================] - 0s 548us/sample - loss: 2.1200 - accuracy: 0.5778\n",
      "Epoch 21/350\n",
      "893/893 [==============================] - 0s 554us/sample - loss: 2.0322 - accuracy: 0.6081\n",
      "Epoch 22/350\n",
      "893/893 [==============================] - 1s 560us/sample - loss: 1.9157 - accuracy: 0.6372\n",
      "Epoch 23/350\n",
      "893/893 [==============================] - 1s 575us/sample - loss: 1.8414 - accuracy: 0.6405\n",
      "Epoch 24/350\n",
      "893/893 [==============================] - 0s 546us/sample - loss: 1.7705 - accuracy: 0.6529\n",
      "Epoch 25/350\n",
      "893/893 [==============================] - 0s 550us/sample - loss: 1.6877 - accuracy: 0.6685\n",
      "Epoch 26/350\n",
      "893/893 [==============================] - 0s 538us/sample - loss: 1.6152 - accuracy: 0.6943\n",
      "Epoch 27/350\n",
      "893/893 [==============================] - 0s 556us/sample - loss: 1.5497 - accuracy: 0.7088\n",
      "Epoch 28/350\n",
      "893/893 [==============================] - 0s 553us/sample - loss: 1.4779 - accuracy: 0.7144\n",
      "Epoch 29/350\n",
      "893/893 [==============================] - 0s 558us/sample - loss: 1.4272 - accuracy: 0.7312\n",
      "Epoch 30/350\n",
      "893/893 [==============================] - 0s 555us/sample - loss: 1.3645 - accuracy: 0.7402\n",
      "Epoch 31/350\n",
      "893/893 [==============================] - 0s 550us/sample - loss: 1.3261 - accuracy: 0.7413\n",
      "Epoch 32/350\n",
      "893/893 [==============================] - 1s 584us/sample - loss: 1.2907 - accuracy: 0.7503\n",
      "Epoch 33/350\n",
      "893/893 [==============================] - 0s 556us/sample - loss: 1.2169 - accuracy: 0.7671\n",
      "Epoch 34/350\n",
      "893/893 [==============================] - 0s 546us/sample - loss: 1.1865 - accuracy: 0.7794\n",
      "Epoch 35/350\n",
      "893/893 [==============================] - 0s 540us/sample - loss: 1.1596 - accuracy: 0.7704\n",
      "Epoch 36/350\n",
      "893/893 [==============================] - 0s 531us/sample - loss: 1.0907 - accuracy: 0.8074\n",
      "Epoch 37/350\n",
      "893/893 [==============================] - 1s 572us/sample - loss: 1.0394 - accuracy: 0.8175\n",
      "Epoch 38/350\n",
      "893/893 [==============================] - 0s 557us/sample - loss: 0.9919 - accuracy: 0.8231\n",
      "Epoch 39/350\n",
      "893/893 [==============================] - 0s 552us/sample - loss: 0.9569 - accuracy: 0.8231\n",
      "Epoch 40/350\n",
      "893/893 [==============================] - 0s 558us/sample - loss: 0.9189 - accuracy: 0.8365\n",
      "Epoch 41/350\n",
      "893/893 [==============================] - 0s 558us/sample - loss: 0.9011 - accuracy: 0.8421\n",
      "Epoch 42/350\n",
      "893/893 [==============================] - 1s 567us/sample - loss: 0.9447 - accuracy: 0.8219\n",
      "Epoch 43/350\n",
      "893/893 [==============================] - 1s 562us/sample - loss: 0.9246 - accuracy: 0.8432\n",
      "Epoch 44/350\n",
      "893/893 [==============================] - 0s 541us/sample - loss: 0.8980 - accuracy: 0.8432\n",
      "Epoch 45/350\n",
      "893/893 [==============================] - 0s 543us/sample - loss: 0.8192 - accuracy: 0.8578\n",
      "Epoch 46/350\n",
      "893/893 [==============================] - 0s 551us/sample - loss: 0.7705 - accuracy: 0.8656\n",
      "Epoch 47/350\n",
      "893/893 [==============================] - 0s 546us/sample - loss: 0.7533 - accuracy: 0.8667\n",
      "Epoch 48/350\n",
      "893/893 [==============================] - 0s 557us/sample - loss: 0.7119 - accuracy: 0.8847\n",
      "Epoch 49/350\n",
      "893/893 [==============================] - 0s 541us/sample - loss: 0.6762 - accuracy: 0.8903\n",
      "Epoch 50/350\n",
      "893/893 [==============================] - 0s 544us/sample - loss: 0.6615 - accuracy: 0.8914\n",
      "Epoch 51/350\n",
      "893/893 [==============================] - 0s 538us/sample - loss: 0.6404 - accuracy: 0.9115\n",
      "Epoch 52/350\n",
      "893/893 [==============================] - 0s 537us/sample - loss: 0.6174 - accuracy: 0.9093\n",
      "Epoch 53/350\n",
      "893/893 [==============================] - 0s 525us/sample - loss: 0.5917 - accuracy: 0.9194\n",
      "Epoch 54/350\n",
      "893/893 [==============================] - 0s 556us/sample - loss: 0.5715 - accuracy: 0.9250\n",
      "Epoch 55/350\n",
      "893/893 [==============================] - 0s 543us/sample - loss: 0.5472 - accuracy: 0.9261\n",
      "Epoch 56/350\n",
      "893/893 [==============================] - 0s 545us/sample - loss: 0.5382 - accuracy: 0.9194\n",
      "Epoch 57/350\n",
      "893/893 [==============================] - 0s 551us/sample - loss: 0.5452 - accuracy: 0.9239\n",
      "Epoch 58/350\n",
      "893/893 [==============================] - 0s 540us/sample - loss: 0.5319 - accuracy: 0.9205\n",
      "Epoch 59/350\n",
      "893/893 [==============================] - 0s 549us/sample - loss: 0.5085 - accuracy: 0.9306\n",
      "Epoch 60/350\n",
      "893/893 [==============================] - 0s 527us/sample - loss: 0.4812 - accuracy: 0.9306\n",
      "Epoch 61/350\n",
      "893/893 [==============================] - 0s 536us/sample - loss: 0.4680 - accuracy: 0.9283\n",
      "Epoch 62/350\n",
      "893/893 [==============================] - 0s 551us/sample - loss: 0.4400 - accuracy: 0.9384\n",
      "Epoch 63/350\n",
      "893/893 [==============================] - 0s 548us/sample - loss: 0.4277 - accuracy: 0.9395\n",
      "Epoch 64/350\n",
      "893/893 [==============================] - 0s 552us/sample - loss: 0.4325 - accuracy: 0.9384\n",
      "Epoch 65/350\n",
      "893/893 [==============================] - 0s 557us/sample - loss: 0.4236 - accuracy: 0.9395\n",
      "Epoch 66/350\n",
      "893/893 [==============================] - 0s 528us/sample - loss: 0.4557 - accuracy: 0.9295\n",
      "Epoch 67/350\n",
      "893/893 [==============================] - 1s 567us/sample - loss: 0.4051 - accuracy: 0.9474\n",
      "Epoch 68/350\n",
      "893/893 [==============================] - 0s 558us/sample - loss: 0.3815 - accuracy: 0.9496\n",
      "Epoch 69/350\n",
      "893/893 [==============================] - 0s 539us/sample - loss: 0.3516 - accuracy: 0.9474\n",
      "Epoch 70/350\n",
      "893/893 [==============================] - 0s 541us/sample - loss: 0.3347 - accuracy: 0.9597\n",
      "Epoch 71/350\n",
      "893/893 [==============================] - 0s 545us/sample - loss: 0.3291 - accuracy: 0.9630\n",
      "Epoch 72/350\n",
      "893/893 [==============================] - 1s 568us/sample - loss: 0.3203 - accuracy: 0.9541\n",
      "Epoch 73/350\n",
      "893/893 [==============================] - 1s 567us/sample - loss: 0.3132 - accuracy: 0.9608\n",
      "Epoch 74/350\n",
      "893/893 [==============================] - 0s 550us/sample - loss: 0.3081 - accuracy: 0.9597\n",
      "Epoch 75/350\n",
      "893/893 [==============================] - 0s 559us/sample - loss: 0.2954 - accuracy: 0.9642\n",
      "Epoch 76/350\n",
      "893/893 [==============================] - 1s 606us/sample - loss: 0.2866 - accuracy: 0.9653\n",
      "Epoch 77/350\n",
      "893/893 [==============================] - 0s 559us/sample - loss: 0.2765 - accuracy: 0.9619\n",
      "Epoch 78/350\n",
      "893/893 [==============================] - 0s 547us/sample - loss: 0.2714 - accuracy: 0.9642\n",
      "Epoch 79/350\n",
      "893/893 [==============================] - 1s 562us/sample - loss: 0.2727 - accuracy: 0.9608\n",
      "Epoch 80/350\n",
      "893/893 [==============================] - 0s 550us/sample - loss: 0.2601 - accuracy: 0.9664\n",
      "Epoch 81/350\n",
      "893/893 [==============================] - 0s 548us/sample - loss: 0.2612 - accuracy: 0.9619\n",
      "Epoch 82/350\n",
      "893/893 [==============================] - 1s 567us/sample - loss: 0.2608 - accuracy: 0.9653\n",
      "Epoch 83/350\n",
      "893/893 [==============================] - 0s 559us/sample - loss: 0.2529 - accuracy: 0.9630\n",
      "Epoch 84/350\n",
      "893/893 [==============================] - 0s 538us/sample - loss: 0.2421 - accuracy: 0.9653\n",
      "Epoch 85/350\n",
      "893/893 [==============================] - 0s 530us/sample - loss: 0.2429 - accuracy: 0.9630\n",
      "Epoch 86/350\n",
      "893/893 [==============================] - 0s 557us/sample - loss: 0.2339 - accuracy: 0.9675\n",
      "Epoch 87/350\n",
      "893/893 [==============================] - 0s 554us/sample - loss: 0.2352 - accuracy: 0.9597\n",
      "Epoch 88/350\n",
      "893/893 [==============================] - 0s 542us/sample - loss: 0.2382 - accuracy: 0.9619\n",
      "Epoch 89/350\n",
      "893/893 [==============================] - 0s 537us/sample - loss: 0.2151 - accuracy: 0.9630\n",
      "Epoch 90/350\n",
      "893/893 [==============================] - 0s 547us/sample - loss: 0.2050 - accuracy: 0.9664\n",
      "Epoch 91/350\n",
      "893/893 [==============================] - 0s 546us/sample - loss: 0.1994 - accuracy: 0.9653\n",
      "Epoch 92/350\n",
      "893/893 [==============================] - 0s 555us/sample - loss: 0.1962 - accuracy: 0.9686\n",
      "Epoch 93/350\n",
      "893/893 [==============================] - 0s 535us/sample - loss: 0.1886 - accuracy: 0.9675\n",
      "Epoch 94/350\n",
      "893/893 [==============================] - 0s 544us/sample - loss: 0.1886 - accuracy: 0.9664\n",
      "Epoch 95/350\n",
      "893/893 [==============================] - 0s 553us/sample - loss: 0.1865 - accuracy: 0.9619\n",
      "Epoch 96/350\n",
      "893/893 [==============================] - 1s 560us/sample - loss: 0.1810 - accuracy: 0.9642\n",
      "Epoch 97/350\n",
      "893/893 [==============================] - 0s 548us/sample - loss: 0.1786 - accuracy: 0.9664\n",
      "Epoch 98/350\n",
      "893/893 [==============================] - 1s 585us/sample - loss: 0.1758 - accuracy: 0.9653\n",
      "Epoch 99/350\n",
      "893/893 [==============================] - 0s 525us/sample - loss: 0.1755 - accuracy: 0.9630\n",
      "Epoch 100/350\n",
      "893/893 [==============================] - 0s 549us/sample - loss: 0.1708 - accuracy: 0.9642\n",
      "Epoch 101/350\n",
      "893/893 [==============================] - 0s 553us/sample - loss: 0.1660 - accuracy: 0.9686\n",
      "Epoch 102/350\n",
      "893/893 [==============================] - 0s 543us/sample - loss: 0.1643 - accuracy: 0.9675\n",
      "Epoch 103/350\n",
      "893/893 [==============================] - 0s 558us/sample - loss: 0.1639 - accuracy: 0.9642\n",
      "Epoch 104/350\n",
      "893/893 [==============================] - 1s 569us/sample - loss: 0.1602 - accuracy: 0.9642\n",
      "Epoch 105/350\n",
      "893/893 [==============================] - 0s 528us/sample - loss: 0.1604 - accuracy: 0.9642\n",
      "Epoch 106/350\n",
      "893/893 [==============================] - 0s 549us/sample - loss: 0.1603 - accuracy: 0.9608\n",
      "Epoch 107/350\n",
      "893/893 [==============================] - 0s 533us/sample - loss: 0.1551 - accuracy: 0.9675\n",
      "Epoch 108/350\n",
      "893/893 [==============================] - 0s 552us/sample - loss: 0.1490 - accuracy: 0.9664\n",
      "Epoch 109/350\n",
      "893/893 [==============================] - 0s 529us/sample - loss: 0.1449 - accuracy: 0.9642\n",
      "Epoch 110/350\n",
      "893/893 [==============================] - 1s 563us/sample - loss: 0.1410 - accuracy: 0.9675\n",
      "Epoch 111/350\n",
      "893/893 [==============================] - 0s 526us/sample - loss: 0.1388 - accuracy: 0.9653\n",
      "Epoch 112/350\n",
      "893/893 [==============================] - 0s 558us/sample - loss: 0.1359 - accuracy: 0.9686\n",
      "Epoch 113/350\n",
      "893/893 [==============================] - 0s 527us/sample - loss: 0.1344 - accuracy: 0.9664\n",
      "Epoch 114/350\n",
      "893/893 [==============================] - 0s 550us/sample - loss: 0.1322 - accuracy: 0.9653\n",
      "Epoch 115/350\n",
      "893/893 [==============================] - 0s 527us/sample - loss: 0.1306 - accuracy: 0.9664\n",
      "Epoch 116/350\n",
      "893/893 [==============================] - 0s 532us/sample - loss: 0.1296 - accuracy: 0.9675\n",
      "Epoch 117/350\n",
      "893/893 [==============================] - 0s 522us/sample - loss: 0.1305 - accuracy: 0.9642\n",
      "Epoch 118/350\n",
      "893/893 [==============================] - 1s 562us/sample - loss: 0.1273 - accuracy: 0.9653\n",
      "Epoch 119/350\n",
      "893/893 [==============================] - 1s 591us/sample - loss: 0.1249 - accuracy: 0.9642\n",
      "Epoch 120/350\n",
      "893/893 [==============================] - 0s 548us/sample - loss: 0.1216 - accuracy: 0.9664\n",
      "Epoch 121/350\n",
      "893/893 [==============================] - 1s 568us/sample - loss: 0.1209 - accuracy: 0.9675\n",
      "Epoch 122/350\n",
      "893/893 [==============================] - 1s 570us/sample - loss: 0.1213 - accuracy: 0.9664\n",
      "Epoch 123/350\n",
      "893/893 [==============================] - 0s 532us/sample - loss: 0.1184 - accuracy: 0.9653\n",
      "Epoch 124/350\n",
      "893/893 [==============================] - 0s 552us/sample - loss: 0.1167 - accuracy: 0.9686\n",
      "Epoch 125/350\n",
      "893/893 [==============================] - 0s 559us/sample - loss: 0.1172 - accuracy: 0.9675\n",
      "Epoch 126/350\n",
      "893/893 [==============================] - 0s 553us/sample - loss: 0.1450 - accuracy: 0.9552\n",
      "Epoch 127/350\n",
      "893/893 [==============================] - 0s 554us/sample - loss: 0.1702 - accuracy: 0.9563\n",
      "Epoch 128/350\n",
      "893/893 [==============================] - 1s 561us/sample - loss: 0.1640 - accuracy: 0.9586\n",
      "Epoch 129/350\n",
      "893/893 [==============================] - 0s 555us/sample - loss: 0.2512 - accuracy: 0.9362\n",
      "Epoch 130/350\n",
      "893/893 [==============================] - 0s 551us/sample - loss: 0.2305 - accuracy: 0.9362\n",
      "Epoch 131/350\n",
      "893/893 [==============================] - 0s 555us/sample - loss: 0.2041 - accuracy: 0.9507\n",
      "Epoch 132/350\n",
      "893/893 [==============================] - 1s 576us/sample - loss: 0.2138 - accuracy: 0.9406\n",
      "Epoch 133/350\n",
      "893/893 [==============================] - 0s 559us/sample - loss: 0.1658 - accuracy: 0.9597\n",
      "Epoch 134/350\n",
      "893/893 [==============================] - 0s 539us/sample - loss: 0.1383 - accuracy: 0.9619\n",
      "Epoch 135/350\n",
      "893/893 [==============================] - 0s 549us/sample - loss: 0.1344 - accuracy: 0.9653\n",
      "Epoch 136/350\n",
      "893/893 [==============================] - 0s 551us/sample - loss: 0.1260 - accuracy: 0.9619\n",
      "Epoch 137/350\n",
      "893/893 [==============================] - 1s 561us/sample - loss: 0.1156 - accuracy: 0.9686\n",
      "Epoch 138/350\n",
      "893/893 [==============================] - 1s 568us/sample - loss: 0.1132 - accuracy: 0.9675\n",
      "Epoch 139/350\n",
      "893/893 [==============================] - 1s 566us/sample - loss: 0.1120 - accuracy: 0.9642\n",
      "Epoch 140/350\n",
      "893/893 [==============================] - 1s 565us/sample - loss: 0.1090 - accuracy: 0.9630\n",
      "Epoch 141/350\n",
      "893/893 [==============================] - 0s 552us/sample - loss: 0.1078 - accuracy: 0.9653\n",
      "Epoch 142/350\n",
      "893/893 [==============================] - 0s 547us/sample - loss: 0.1079 - accuracy: 0.9653\n",
      "Epoch 143/350\n",
      "893/893 [==============================] - 1s 563us/sample - loss: 0.1041 - accuracy: 0.9642\n",
      "Epoch 144/350\n",
      "893/893 [==============================] - 0s 548us/sample - loss: 0.1030 - accuracy: 0.9653\n",
      "Epoch 145/350\n",
      "893/893 [==============================] - 1s 577us/sample - loss: 0.1032 - accuracy: 0.9642\n",
      "Epoch 146/350\n",
      "893/893 [==============================] - 1s 564us/sample - loss: 0.1007 - accuracy: 0.9653\n",
      "Epoch 147/350\n",
      "893/893 [==============================] - 0s 552us/sample - loss: 0.1004 - accuracy: 0.9675\n",
      "Epoch 148/350\n",
      "893/893 [==============================] - 1s 561us/sample - loss: 0.1009 - accuracy: 0.9675\n",
      "Epoch 149/350\n",
      "893/893 [==============================] - 0s 558us/sample - loss: 0.0977 - accuracy: 0.9664\n",
      "Epoch 150/350\n",
      "893/893 [==============================] - 0s 556us/sample - loss: 0.0974 - accuracy: 0.9675\n",
      "Epoch 151/350\n",
      "893/893 [==============================] - 0s 554us/sample - loss: 0.0978 - accuracy: 0.9653\n",
      "Epoch 152/350\n",
      "893/893 [==============================] - 1s 566us/sample - loss: 0.0956 - accuracy: 0.9664\n",
      "Epoch 153/350\n",
      "893/893 [==============================] - 0s 546us/sample - loss: 0.0965 - accuracy: 0.9664\n",
      "Epoch 154/350\n",
      "893/893 [==============================] - 0s 557us/sample - loss: 0.0951 - accuracy: 0.9698\n",
      "Epoch 155/350\n",
      "893/893 [==============================] - 0s 547us/sample - loss: 0.0963 - accuracy: 0.9642\n",
      "Epoch 156/350\n",
      "893/893 [==============================] - 0s 546us/sample - loss: 0.0939 - accuracy: 0.9686\n",
      "Epoch 157/350\n",
      "893/893 [==============================] - 1s 597us/sample - loss: 0.0932 - accuracy: 0.9630\n",
      "Epoch 158/350\n",
      "893/893 [==============================] - 0s 553us/sample - loss: 0.0932 - accuracy: 0.9675\n",
      "Epoch 159/350\n",
      "893/893 [==============================] - 0s 540us/sample - loss: 0.0925 - accuracy: 0.9642\n",
      "Epoch 160/350\n",
      "893/893 [==============================] - 1s 587us/sample - loss: 0.0918 - accuracy: 0.9686\n",
      "Epoch 161/350\n",
      "893/893 [==============================] - 0s 558us/sample - loss: 0.0919 - accuracy: 0.9642\n",
      "Epoch 162/350\n",
      "893/893 [==============================] - 1s 561us/sample - loss: 0.0914 - accuracy: 0.9664\n",
      "Epoch 163/350\n",
      "893/893 [==============================] - 0s 547us/sample - loss: 0.0926 - accuracy: 0.9642\n",
      "Epoch 164/350\n",
      "893/893 [==============================] - 0s 552us/sample - loss: 0.0924 - accuracy: 0.9619\n",
      "Epoch 165/350\n",
      "893/893 [==============================] - 1s 577us/sample - loss: 0.0921 - accuracy: 0.9675\n",
      "Epoch 166/350\n",
      "893/893 [==============================] - 1s 562us/sample - loss: 0.0907 - accuracy: 0.9630\n",
      "Epoch 167/350\n",
      "893/893 [==============================] - 1s 565us/sample - loss: 0.0908 - accuracy: 0.9630\n",
      "Epoch 168/350\n",
      "893/893 [==============================] - 0s 539us/sample - loss: 0.0895 - accuracy: 0.9653\n",
      "Epoch 169/350\n",
      "893/893 [==============================] - 0s 548us/sample - loss: 0.0904 - accuracy: 0.9619\n",
      "Epoch 170/350\n",
      "893/893 [==============================] - 1s 579us/sample - loss: 0.0890 - accuracy: 0.9653\n",
      "Epoch 171/350\n",
      "893/893 [==============================] - 0s 554us/sample - loss: 0.0902 - accuracy: 0.9630\n",
      "Epoch 172/350\n",
      "893/893 [==============================] - 1s 575us/sample - loss: 0.0900 - accuracy: 0.9653\n",
      "Epoch 173/350\n",
      "893/893 [==============================] - 0s 541us/sample - loss: 0.0893 - accuracy: 0.9642\n",
      "Epoch 174/350\n",
      "893/893 [==============================] - 0s 553us/sample - loss: 0.0908 - accuracy: 0.9642\n",
      "Epoch 175/350\n",
      "893/893 [==============================] - 1s 566us/sample - loss: 0.1054 - accuracy: 0.9597\n",
      "Epoch 176/350\n",
      "893/893 [==============================] - 0s 543us/sample - loss: 0.1276 - accuracy: 0.9597\n",
      "Epoch 177/350\n",
      "893/893 [==============================] - 0s 556us/sample - loss: 0.1302 - accuracy: 0.9608\n",
      "Epoch 178/350\n",
      "893/893 [==============================] - 0s 556us/sample - loss: 0.1239 - accuracy: 0.9642\n",
      "Epoch 179/350\n",
      "893/893 [==============================] - 1s 566us/sample - loss: 0.1330 - accuracy: 0.9586\n",
      "Epoch 180/350\n",
      "893/893 [==============================] - 1s 560us/sample - loss: 0.1200 - accuracy: 0.9630\n",
      "Epoch 181/350\n",
      "893/893 [==============================] - 1s 582us/sample - loss: 0.0968 - accuracy: 0.9664\n",
      "Epoch 182/350\n",
      "893/893 [==============================] - 0s 549us/sample - loss: 0.0917 - accuracy: 0.9675\n",
      "Epoch 183/350\n",
      "893/893 [==============================] - 1s 590us/sample - loss: 0.0881 - accuracy: 0.9653\n",
      "Epoch 184/350\n",
      "893/893 [==============================] - 1s 561us/sample - loss: 0.0880 - accuracy: 0.9642\n",
      "Epoch 185/350\n",
      "893/893 [==============================] - 0s 556us/sample - loss: 0.0895 - accuracy: 0.9619\n",
      "Epoch 186/350\n",
      "893/893 [==============================] - 1s 564us/sample - loss: 0.0867 - accuracy: 0.9653\n",
      "Epoch 187/350\n",
      "893/893 [==============================] - 0s 541us/sample - loss: 0.0871 - accuracy: 0.9698\n",
      "Epoch 188/350\n",
      "893/893 [==============================] - 0s 559us/sample - loss: 0.0848 - accuracy: 0.9642\n",
      "Epoch 189/350\n",
      "893/893 [==============================] - 0s 556us/sample - loss: 0.0857 - accuracy: 0.9630\n",
      "Epoch 190/350\n",
      "893/893 [==============================] - 0s 559us/sample - loss: 0.0834 - accuracy: 0.9675\n",
      "Epoch 191/350\n",
      "893/893 [==============================] - 0s 542us/sample - loss: 0.0848 - accuracy: 0.9675\n",
      "Epoch 192/350\n",
      "893/893 [==============================] - 1s 561us/sample - loss: 0.0836 - accuracy: 0.9653\n",
      "Epoch 193/350\n",
      "893/893 [==============================] - 1s 574us/sample - loss: 0.0857 - accuracy: 0.9664\n",
      "Epoch 194/350\n",
      "893/893 [==============================] - 0s 548us/sample - loss: 0.0834 - accuracy: 0.9642\n",
      "Epoch 195/350\n",
      "893/893 [==============================] - 1s 562us/sample - loss: 0.0840 - accuracy: 0.9619\n",
      "Epoch 196/350\n",
      "893/893 [==============================] - 0s 542us/sample - loss: 0.0854 - accuracy: 0.9630\n",
      "Epoch 197/350\n",
      "893/893 [==============================] - 0s 550us/sample - loss: 0.0853 - accuracy: 0.9664\n",
      "Epoch 198/350\n",
      "893/893 [==============================] - 0s 548us/sample - loss: 0.0847 - accuracy: 0.9619\n",
      "Epoch 199/350\n",
      "893/893 [==============================] - 1s 565us/sample - loss: 0.0837 - accuracy: 0.9642\n",
      "Epoch 200/350\n",
      "893/893 [==============================] - 0s 532us/sample - loss: 0.0835 - accuracy: 0.9664\n",
      "Epoch 201/350\n",
      "893/893 [==============================] - 0s 537us/sample - loss: 0.0825 - accuracy: 0.9664\n",
      "Epoch 202/350\n",
      "893/893 [==============================] - 1s 589us/sample - loss: 0.0826 - accuracy: 0.9653\n",
      "Epoch 203/350\n",
      "893/893 [==============================] - 0s 541us/sample - loss: 0.0816 - accuracy: 0.9664\n",
      "Epoch 204/350\n",
      "893/893 [==============================] - 0s 557us/sample - loss: 0.0828 - accuracy: 0.9664\n",
      "Epoch 205/350\n",
      "893/893 [==============================] - 0s 538us/sample - loss: 0.0817 - accuracy: 0.9664\n",
      "Epoch 206/350\n",
      "893/893 [==============================] - 1s 574us/sample - loss: 0.0812 - accuracy: 0.9653\n",
      "Epoch 207/350\n",
      "893/893 [==============================] - 0s 545us/sample - loss: 0.0811 - accuracy: 0.9619\n",
      "Epoch 208/350\n",
      "893/893 [==============================] - 0s 547us/sample - loss: 0.0804 - accuracy: 0.9675\n",
      "Epoch 209/350\n",
      "893/893 [==============================] - 1s 566us/sample - loss: 0.0798 - accuracy: 0.9686\n",
      "Epoch 210/350\n",
      "893/893 [==============================] - 0s 545us/sample - loss: 0.0811 - accuracy: 0.9642\n",
      "Epoch 211/350\n",
      "893/893 [==============================] - 0s 542us/sample - loss: 0.0801 - accuracy: 0.9630\n",
      "Epoch 212/350\n",
      "893/893 [==============================] - 0s 559us/sample - loss: 0.0803 - accuracy: 0.9664\n",
      "Epoch 213/350\n",
      "893/893 [==============================] - 0s 545us/sample - loss: 0.0789 - accuracy: 0.9664\n",
      "Epoch 214/350\n",
      "893/893 [==============================] - 0s 544us/sample - loss: 0.0791 - accuracy: 0.9664\n",
      "Epoch 215/350\n",
      "893/893 [==============================] - 0s 556us/sample - loss: 0.0796 - accuracy: 0.9642\n",
      "Epoch 216/350\n",
      "893/893 [==============================] - 0s 545us/sample - loss: 0.0785 - accuracy: 0.9664\n",
      "Epoch 217/350\n",
      "893/893 [==============================] - 0s 548us/sample - loss: 0.0798 - accuracy: 0.9664\n",
      "Epoch 218/350\n",
      "893/893 [==============================] - 1s 563us/sample - loss: 0.0787 - accuracy: 0.9642\n",
      "Epoch 219/350\n",
      "893/893 [==============================] - 1s 562us/sample - loss: 0.0794 - accuracy: 0.9653\n",
      "Epoch 220/350\n",
      "893/893 [==============================] - 1s 589us/sample - loss: 0.0782 - accuracy: 0.9642\n",
      "Epoch 221/350\n",
      "893/893 [==============================] - 1s 568us/sample - loss: 0.0798 - accuracy: 0.9630\n",
      "Epoch 222/350\n",
      "893/893 [==============================] - 1s 569us/sample - loss: 0.0785 - accuracy: 0.9630\n",
      "Epoch 223/350\n",
      "893/893 [==============================] - 0s 554us/sample - loss: 0.0781 - accuracy: 0.9642\n",
      "Epoch 224/350\n",
      "893/893 [==============================] - 0s 546us/sample - loss: 0.0779 - accuracy: 0.9675\n",
      "Epoch 225/350\n",
      "893/893 [==============================] - 0s 550us/sample - loss: 0.0785 - accuracy: 0.9675\n",
      "Epoch 226/350\n",
      "893/893 [==============================] - 0s 553us/sample - loss: 0.0782 - accuracy: 0.9664\n",
      "Epoch 227/350\n",
      "893/893 [==============================] - 0s 551us/sample - loss: 0.0772 - accuracy: 0.9642\n",
      "Epoch 228/350\n",
      "893/893 [==============================] - 0s 549us/sample - loss: 0.0783 - accuracy: 0.9653\n",
      "Epoch 229/350\n",
      "893/893 [==============================] - 0s 558us/sample - loss: 0.0774 - accuracy: 0.9686\n",
      "Epoch 230/350\n",
      "893/893 [==============================] - 1s 580us/sample - loss: 0.0765 - accuracy: 0.9653\n",
      "Epoch 231/350\n",
      "893/893 [==============================] - 1s 564us/sample - loss: 0.0776 - accuracy: 0.9664\n",
      "Epoch 232/350\n",
      "893/893 [==============================] - 0s 546us/sample - loss: 0.0779 - accuracy: 0.9630\n",
      "Epoch 233/350\n",
      "893/893 [==============================] - 0s 549us/sample - loss: 0.0778 - accuracy: 0.9664\n",
      "Epoch 234/350\n",
      "893/893 [==============================] - 0s 559us/sample - loss: 0.0771 - accuracy: 0.9664\n",
      "Epoch 235/350\n",
      "893/893 [==============================] - 0s 550us/sample - loss: 0.0766 - accuracy: 0.9664\n",
      "Epoch 236/350\n",
      "893/893 [==============================] - 0s 537us/sample - loss: 0.0826 - accuracy: 0.9653\n",
      "Epoch 237/350\n",
      "893/893 [==============================] - 0s 547us/sample - loss: 0.0818 - accuracy: 0.9653\n",
      "Epoch 238/350\n",
      "893/893 [==============================] - 1s 562us/sample - loss: 0.0909 - accuracy: 0.9642\n",
      "Epoch 239/350\n",
      "893/893 [==============================] - 0s 552us/sample - loss: 0.0830 - accuracy: 0.9664\n",
      "Epoch 240/350\n",
      "893/893 [==============================] - 1s 563us/sample - loss: 0.0895 - accuracy: 0.9619\n",
      "Epoch 241/350\n",
      "893/893 [==============================] - 0s 539us/sample - loss: 0.1354 - accuracy: 0.9518\n",
      "Epoch 242/350\n",
      "893/893 [==============================] - 1s 561us/sample - loss: 0.1937 - accuracy: 0.9351\n",
      "Epoch 243/350\n",
      "893/893 [==============================] - 1s 591us/sample - loss: 0.1410 - accuracy: 0.9541\n",
      "Epoch 244/350\n",
      "893/893 [==============================] - 0s 556us/sample - loss: 0.1507 - accuracy: 0.9474\n",
      "Epoch 245/350\n",
      "893/893 [==============================] - 0s 551us/sample - loss: 0.1763 - accuracy: 0.9440\n",
      "Epoch 246/350\n",
      "893/893 [==============================] - 1s 588us/sample - loss: 0.1279 - accuracy: 0.9552\n",
      "Epoch 247/350\n",
      "893/893 [==============================] - 0s 550us/sample - loss: 0.1041 - accuracy: 0.9608\n",
      "Epoch 248/350\n",
      "893/893 [==============================] - 0s 548us/sample - loss: 0.1075 - accuracy: 0.9619\n",
      "Epoch 249/350\n",
      "893/893 [==============================] - 0s 551us/sample - loss: 0.0921 - accuracy: 0.9664\n",
      "Epoch 250/350\n",
      "893/893 [==============================] - 0s 538us/sample - loss: 0.0871 - accuracy: 0.9630\n",
      "Epoch 251/350\n",
      "893/893 [==============================] - 0s 546us/sample - loss: 0.0870 - accuracy: 0.9653\n",
      "Epoch 252/350\n",
      "893/893 [==============================] - 0s 558us/sample - loss: 0.0827 - accuracy: 0.9653\n",
      "Epoch 253/350\n",
      "893/893 [==============================] - 0s 559us/sample - loss: 0.0831 - accuracy: 0.9664\n",
      "Epoch 254/350\n",
      "893/893 [==============================] - 0s 540us/sample - loss: 0.0817 - accuracy: 0.9664\n",
      "Epoch 255/350\n",
      "893/893 [==============================] - 1s 573us/sample - loss: 0.0817 - accuracy: 0.9608\n",
      "Epoch 256/350\n",
      "893/893 [==============================] - 1s 564us/sample - loss: 0.0806 - accuracy: 0.9664\n",
      "Epoch 257/350\n",
      "893/893 [==============================] - 1s 566us/sample - loss: 0.0791 - accuracy: 0.9686\n",
      "Epoch 258/350\n",
      "893/893 [==============================] - 0s 533us/sample - loss: 0.0792 - accuracy: 0.9597\n",
      "Epoch 259/350\n",
      "893/893 [==============================] - 0s 547us/sample - loss: 0.0781 - accuracy: 0.9675\n",
      "Epoch 260/350\n",
      "893/893 [==============================] - 0s 550us/sample - loss: 0.0775 - accuracy: 0.9675\n",
      "Epoch 261/350\n",
      "893/893 [==============================] - 0s 552us/sample - loss: 0.0785 - accuracy: 0.9619\n",
      "Epoch 262/350\n",
      "893/893 [==============================] - 0s 543us/sample - loss: 0.0785 - accuracy: 0.9664\n",
      "Epoch 263/350\n",
      "893/893 [==============================] - 1s 563us/sample - loss: 0.0783 - accuracy: 0.9664\n",
      "Epoch 264/350\n",
      "893/893 [==============================] - 1s 578us/sample - loss: 0.0784 - accuracy: 0.9630\n",
      "Epoch 265/350\n",
      "893/893 [==============================] - 0s 549us/sample - loss: 0.0776 - accuracy: 0.9664\n",
      "Epoch 266/350\n",
      "893/893 [==============================] - 0s 532us/sample - loss: 0.0778 - accuracy: 0.9630\n",
      "Epoch 267/350\n",
      "893/893 [==============================] - 0s 549us/sample - loss: 0.0761 - accuracy: 0.9675\n",
      "Epoch 268/350\n",
      "893/893 [==============================] - 0s 554us/sample - loss: 0.0785 - accuracy: 0.9630\n",
      "Epoch 269/350\n",
      "893/893 [==============================] - 0s 556us/sample - loss: 0.0775 - accuracy: 0.9664\n",
      "Epoch 270/350\n",
      "893/893 [==============================] - 0s 542us/sample - loss: 0.0770 - accuracy: 0.9642\n",
      "Epoch 271/350\n",
      "893/893 [==============================] - 0s 550us/sample - loss: 0.0768 - accuracy: 0.9686\n",
      "Epoch 272/350\n",
      "893/893 [==============================] - 0s 541us/sample - loss: 0.0772 - accuracy: 0.9653\n",
      "Epoch 273/350\n",
      "893/893 [==============================] - 0s 557us/sample - loss: 0.0770 - accuracy: 0.9653\n",
      "Epoch 274/350\n",
      "893/893 [==============================] - 0s 550us/sample - loss: 0.0757 - accuracy: 0.9653\n",
      "Epoch 275/350\n",
      "893/893 [==============================] - 0s 544us/sample - loss: 0.0764 - accuracy: 0.9675\n",
      "Epoch 276/350\n",
      "893/893 [==============================] - 0s 533us/sample - loss: 0.0763 - accuracy: 0.9653\n",
      "Epoch 277/350\n",
      "893/893 [==============================] - 0s 546us/sample - loss: 0.0755 - accuracy: 0.9675\n",
      "Epoch 278/350\n",
      "893/893 [==============================] - 1s 573us/sample - loss: 0.0771 - accuracy: 0.9642\n",
      "Epoch 279/350\n",
      "893/893 [==============================] - 1s 574us/sample - loss: 0.0759 - accuracy: 0.9675\n",
      "Epoch 280/350\n",
      "893/893 [==============================] - 1s 694us/sample - loss: 0.0755 - accuracy: 0.9664\n",
      "Epoch 281/350\n",
      "893/893 [==============================] - 1s 595us/sample - loss: 0.0749 - accuracy: 0.9664\n",
      "Epoch 282/350\n",
      "893/893 [==============================] - 0s 556us/sample - loss: 0.0745 - accuracy: 0.9664\n",
      "Epoch 283/350\n",
      "893/893 [==============================] - 1s 561us/sample - loss: 0.0770 - accuracy: 0.9597\n",
      "Epoch 284/350\n",
      "893/893 [==============================] - 1s 594us/sample - loss: 0.0761 - accuracy: 0.9653\n",
      "Epoch 285/350\n",
      "893/893 [==============================] - 1s 577us/sample - loss: 0.0759 - accuracy: 0.9653\n",
      "Epoch 286/350\n",
      "893/893 [==============================] - 0s 550us/sample - loss: 0.0742 - accuracy: 0.9675\n",
      "Epoch 287/350\n",
      "893/893 [==============================] - 0s 557us/sample - loss: 0.0748 - accuracy: 0.9675\n",
      "Epoch 288/350\n",
      "893/893 [==============================] - 0s 531us/sample - loss: 0.0756 - accuracy: 0.9608\n",
      "Epoch 289/350\n",
      "893/893 [==============================] - 0s 543us/sample - loss: 0.0767 - accuracy: 0.9619\n",
      "Epoch 290/350\n",
      "893/893 [==============================] - 1s 573us/sample - loss: 0.0750 - accuracy: 0.9664\n",
      "Epoch 291/350\n",
      "893/893 [==============================] - 0s 553us/sample - loss: 0.0755 - accuracy: 0.9653\n",
      "Epoch 292/350\n",
      "893/893 [==============================] - 0s 528us/sample - loss: 0.0745 - accuracy: 0.9619\n",
      "Epoch 293/350\n",
      "893/893 [==============================] - 1s 597us/sample - loss: 0.0751 - accuracy: 0.9653\n",
      "Epoch 294/350\n",
      "893/893 [==============================] - 0s 538us/sample - loss: 0.0732 - accuracy: 0.9664\n",
      "Epoch 295/350\n",
      "893/893 [==============================] - 0s 544us/sample - loss: 0.0743 - accuracy: 0.9675\n",
      "Epoch 296/350\n",
      "893/893 [==============================] - 1s 566us/sample - loss: 0.0752 - accuracy: 0.9664\n",
      "Epoch 297/350\n",
      "893/893 [==============================] - 0s 539us/sample - loss: 0.0747 - accuracy: 0.9675\n",
      "Epoch 298/350\n",
      "893/893 [==============================] - 0s 554us/sample - loss: 0.0789 - accuracy: 0.9653\n",
      "Epoch 299/350\n",
      "893/893 [==============================] - 0s 548us/sample - loss: 0.0901 - accuracy: 0.9630\n",
      "Epoch 300/350\n",
      "893/893 [==============================] - 0s 550us/sample - loss: 0.0922 - accuracy: 0.9608\n",
      "Epoch 301/350\n",
      "893/893 [==============================] - 0s 545us/sample - loss: 0.1472 - accuracy: 0.9597\n",
      "Epoch 302/350\n",
      "893/893 [==============================] - 0s 559us/sample - loss: 0.1204 - accuracy: 0.9541\n",
      "Epoch 303/350\n",
      "893/893 [==============================] - 1s 565us/sample - loss: 0.0975 - accuracy: 0.9630\n",
      "Epoch 304/350\n",
      "893/893 [==============================] - 0s 553us/sample - loss: 0.0869 - accuracy: 0.9675\n",
      "Epoch 305/350\n",
      "893/893 [==============================] - 1s 605us/sample - loss: 0.0837 - accuracy: 0.9619\n",
      "Epoch 306/350\n",
      "893/893 [==============================] - 0s 544us/sample - loss: 0.0831 - accuracy: 0.9664\n",
      "Epoch 307/350\n",
      "893/893 [==============================] - 0s 555us/sample - loss: 0.0817 - accuracy: 0.9642\n",
      "Epoch 308/350\n",
      "893/893 [==============================] - 0s 557us/sample - loss: 0.0819 - accuracy: 0.9619\n",
      "Epoch 309/350\n",
      "893/893 [==============================] - 0s 555us/sample - loss: 0.0814 - accuracy: 0.9653\n",
      "Epoch 310/350\n",
      "893/893 [==============================] - 0s 551us/sample - loss: 0.0793 - accuracy: 0.9675\n",
      "Epoch 311/350\n",
      "893/893 [==============================] - 1s 594us/sample - loss: 0.0782 - accuracy: 0.9664\n",
      "Epoch 312/350\n",
      "893/893 [==============================] - 1s 574us/sample - loss: 0.0787 - accuracy: 0.9608\n",
      "Epoch 313/350\n",
      "893/893 [==============================] - 1s 608us/sample - loss: 0.0769 - accuracy: 0.9653\n",
      "Epoch 314/350\n",
      "893/893 [==============================] - 0s 553us/sample - loss: 0.0781 - accuracy: 0.9642\n",
      "Epoch 315/350\n",
      "893/893 [==============================] - 0s 528us/sample - loss: 0.0769 - accuracy: 0.9642\n",
      "Epoch 316/350\n",
      "893/893 [==============================] - 0s 552us/sample - loss: 0.0767 - accuracy: 0.9675\n",
      "Epoch 317/350\n",
      "893/893 [==============================] - 0s 549us/sample - loss: 0.0778 - accuracy: 0.9664\n",
      "Epoch 318/350\n",
      "893/893 [==============================] - 0s 544us/sample - loss: 0.0753 - accuracy: 0.9653\n",
      "Epoch 319/350\n",
      "893/893 [==============================] - 0s 547us/sample - loss: 0.0756 - accuracy: 0.9653\n",
      "Epoch 320/350\n",
      "893/893 [==============================] - 0s 550us/sample - loss: 0.0756 - accuracy: 0.9664\n",
      "Epoch 321/350\n",
      "893/893 [==============================] - 0s 554us/sample - loss: 0.0753 - accuracy: 0.9664\n",
      "Epoch 322/350\n",
      "893/893 [==============================] - 0s 546us/sample - loss: 0.0762 - accuracy: 0.9642\n",
      "Epoch 323/350\n",
      "893/893 [==============================] - 0s 553us/sample - loss: 0.0745 - accuracy: 0.9675\n",
      "Epoch 324/350\n",
      "893/893 [==============================] - 0s 527us/sample - loss: 0.0744 - accuracy: 0.9664\n",
      "Epoch 325/350\n",
      "893/893 [==============================] - 1s 572us/sample - loss: 0.0741 - accuracy: 0.9653\n",
      "Epoch 326/350\n",
      "893/893 [==============================] - 1s 604us/sample - loss: 0.0750 - accuracy: 0.9686\n",
      "Epoch 327/350\n",
      "893/893 [==============================] - 1s 575us/sample - loss: 0.0751 - accuracy: 0.9630\n",
      "Epoch 328/350\n",
      "893/893 [==============================] - 1s 586us/sample - loss: 0.0748 - accuracy: 0.9664\n",
      "Epoch 329/350\n",
      "893/893 [==============================] - 1s 570us/sample - loss: 0.0745 - accuracy: 0.9642\n",
      "Epoch 330/350\n",
      "893/893 [==============================] - 1s 565us/sample - loss: 0.0757 - accuracy: 0.9642\n",
      "Epoch 331/350\n",
      "893/893 [==============================] - 0s 552us/sample - loss: 0.0738 - accuracy: 0.9664\n",
      "Epoch 332/350\n",
      "893/893 [==============================] - 0s 538us/sample - loss: 0.0730 - accuracy: 0.9653\n",
      "Epoch 333/350\n",
      "893/893 [==============================] - 1s 569us/sample - loss: 0.0727 - accuracy: 0.9686\n",
      "Epoch 334/350\n",
      "893/893 [==============================] - 0s 557us/sample - loss: 0.0736 - accuracy: 0.9653\n",
      "Epoch 335/350\n",
      "893/893 [==============================] - 0s 551us/sample - loss: 0.0731 - accuracy: 0.9653\n",
      "Epoch 336/350\n",
      "893/893 [==============================] - 0s 545us/sample - loss: 0.0731 - accuracy: 0.9664\n",
      "Epoch 337/350\n",
      "893/893 [==============================] - 0s 554us/sample - loss: 0.0728 - accuracy: 0.9642\n",
      "Epoch 338/350\n",
      "893/893 [==============================] - 0s 552us/sample - loss: 0.0727 - accuracy: 0.9664\n",
      "Epoch 339/350\n",
      "893/893 [==============================] - 0s 556us/sample - loss: 0.0724 - accuracy: 0.9675\n",
      "Epoch 340/350\n",
      "893/893 [==============================] - 1s 564us/sample - loss: 0.0727 - accuracy: 0.9686\n",
      "Epoch 341/350\n",
      "893/893 [==============================] - 1s 562us/sample - loss: 0.0732 - accuracy: 0.9653\n",
      "Epoch 342/350\n",
      "893/893 [==============================] - 1s 571us/sample - loss: 0.0734 - accuracy: 0.9664\n",
      "Epoch 343/350\n",
      "893/893 [==============================] - 1s 568us/sample - loss: 0.0723 - accuracy: 0.9675\n",
      "Epoch 344/350\n",
      "893/893 [==============================] - 1s 564us/sample - loss: 0.0727 - accuracy: 0.9664\n",
      "Epoch 345/350\n",
      "893/893 [==============================] - 1s 586us/sample - loss: 0.0742 - accuracy: 0.9630\n",
      "Epoch 346/350\n",
      "893/893 [==============================] - 1s 571us/sample - loss: 0.0743 - accuracy: 0.9686\n",
      "Epoch 347/350\n",
      "893/893 [==============================] - 0s 552us/sample - loss: 0.0727 - accuracy: 0.9675\n",
      "Epoch 348/350\n",
      "893/893 [==============================] - 0s 550us/sample - loss: 0.0732 - accuracy: 0.9664\n",
      "Epoch 349/350\n",
      "893/893 [==============================] - 1s 560us/sample - loss: 0.0729 - accuracy: 0.9642\n",
      "Epoch 350/350\n",
      "893/893 [==============================] - 0s 552us/sample - loss: 0.0723 - accuracy: 0.9698\n"
     ]
    }
   ],
   "source": [
    "hist = model.fit(X, y, epochs = 350, verbose = 1)"
   ]
  },
  {
   "cell_type": "code",
   "execution_count": 0,
   "metadata": {
    "colab": {},
    "colab_type": "code",
    "id": "nSvougIJvYQF"
   },
   "outputs": [],
   "source": [
    "def plot_metrics(history):\n",
    "    plt.plot(history.history['loss'], label = 'Loss')\n",
    "    plt.plot(history.history['accuracy'], label = 'Acc')\n",
    "    plt.xlabel('Epochs')\n",
    "    plt.legend()\n",
    "    plt.show()"
   ]
  },
  {
   "cell_type": "code",
   "execution_count": 182,
   "metadata": {
    "colab": {
     "base_uri": "https://localhost:8080/",
     "height": 304
    },
    "colab_type": "code",
    "id": "n0TK2HfKxMhb",
    "outputId": "d67823c3-0250-49be-9c87-b450276fff88"
   },
   "outputs": [
    {
     "data": {
      "image/png": "[encoded data removed]",
      "text/plain": [
       "<Figure size 432x288 with 1 Axes>"
      ]
     },
     "metadata": {
      "tags": []
     },
     "output_type": "display_data"
    }
   ],
   "source": [
    "plot_metrics(hist)"
   ]
  },
  {
   "cell_type": "code",
   "execution_count": 0,
   "metadata": {
    "colab": {},
    "colab_type": "code",
    "id": "dSml914UxQq1"
   },
   "outputs": [],
   "source": [
    "# Set params\n",
    "seeds = [\"Voy a\", 'Tu', 'Demasiado', 'Te quiero', 'Nunca', 'No quiero mas']     # Some random Spanish phrases :)\n",
    "next_words = 20"
   ]
  },
  {
   "cell_type": "code",
   "execution_count": 184,
   "metadata": {
    "colab": {
     "base_uri": "https://localhost:8080/",
     "height": 129
    },
    "colab_type": "code",
    "id": "OJVgv6ISz6QO",
    "outputId": "11d6258a-3935-4b23-d6b3-ec3e69ebf6de"
   },
   "outputs": [
    {
     "name": "stdout",
     "output_type": "stream",
     "text": [
      "Voy a salir pa' la calle en la manita los aros brillando en mi piel piel piel piel piel piel piel piel\n",
      "Tu jeva ya la vi por dentro la luna que brillando en mi piel piel piel piel piel piel piel piel\n",
      "Demasiado lo que yo hago dura dura dura hago manera cuello piel piel piel piel piel piel mi te salen sed\n",
      "Te quiero cruzarlo bonita que amenaza cuando rompía rompía amarrarse a tu culpa piel piel piel piel piel piel piel piel piel\n",
      "Nunca viste una joya tan pura pura pura vez guantera piel piel piel piel piel piel piel piel piel piel piel\n",
      "No quiero mas haya nadie cerca cerca siento la siento que tú quieras mirarlos mirarlos esquina yali y mi culpa culpa piel piel\n"
     ]
    }
   ],
   "source": [
    "# Generate a new seq\n",
    "for seed in seeds:\n",
    "    for _ in range(next_words):\n",
    "        token_list = tokenizer.texts_to_sequences([seed])[0]\n",
    "        token_list = pad_sequences([token_list], \n",
    "                                maxlen  = max_seq_len - 1,\n",
    "                                padding = 'pre')\n",
    "        predicted = model.predict_classes(token_list,\n",
    "                                        verbose = 0)\n",
    "        output_word = \"\"\n",
    "\n",
    "        for word, index in tokenizer.word_index.items():\n",
    "            if index == predicted:\n",
    "                output_word = word\n",
    "                break\n",
    "        seed += \" \" + output_word\n",
    "    print(seed)"
   ]
  },
  {
   "cell_type": "code",
   "execution_count": 0,
   "metadata": {
    "colab": {},
    "colab_type": "code",
    "id": "NtgVuFdr0-ZK"
   },
   "outputs": [],
   "source": []
  }
 ],
 "metadata": {
  "colab": {
   "collapsed_sections": [],
   "name": "06_TF2_Sequence_Generation.ipynb",
   "provenance": [],
   "version": "0.3.2"
  },
  "kernelspec": {
   "display_name": "Python 3",
   "language": "python",
   "name": "python3"
  },
  "language_info": {
   "codemirror_mode": {
    "name": "ipython",
    "version": 3
   },
   "file_extension": ".py",
   "mimetype": "text/x-python",
   "name": "python",
   "nbconvert_exporter": "python",
   "pygments_lexer": "ipython3",
   "version": "3.6.5"
  }
 },
 "nbformat": 4,
 "nbformat_minor": 1
}
