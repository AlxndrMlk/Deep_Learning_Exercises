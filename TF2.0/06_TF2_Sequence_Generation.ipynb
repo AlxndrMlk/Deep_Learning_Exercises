{
  "nbformat": 4,
  "nbformat_minor": 0,
  "metadata": {
    "colab": {
      "name": "06_TF2_Sequence_Generation.ipynb",
      "version": "0.3.2",
      "provenance": [],
      "collapsed_sections": []
    },
    "kernelspec": {
      "name": "python3",
      "display_name": "Python 3"
    }
  },
  "cells": [
    {
      "cell_type": "code",
      "metadata": {
        "id": "hO7cyA2nH9Lc",
        "colab_type": "code",
        "colab": {}
      },
      "source": [
        "!pip install tensorflow==2.0.0-rc1 "
      ],
      "execution_count": 0,
      "outputs": []
    },
    {
      "cell_type": "code",
      "metadata": {
        "id": "YOtxWRoqIJWS",
        "colab_type": "code",
        "colab": {
          "base_uri": "https://localhost:8080/",
          "height": 36
        },
        "outputId": "6c7815b3-bf6d-4f06-874d-59c85ba80d85"
      },
      "source": [
        "import tensorflow as tf\n",
        "\n",
        "from tensorflow.keras.preprocessing.text import Tokenizer\n",
        "from tensorflow.keras.preprocessing.sequence import pad_sequences\n",
        "\n",
        "from tensorflow.keras.models import Sequential\n",
        "from tensorflow.keras.layers import Embedding, LSTM, Dense, Bidirectional\n",
        "from tensorflow.keras.optimizers import Adam\n",
        "\n",
        "import numpy as np\n",
        "import re\n",
        "\n",
        "import matplotlib.pyplot as plt\n",
        "plt.style.use('fivethirtyeight')\n",
        "\n",
        "from google.colab import files\n",
        "\n",
        "tf.__version__"
      ],
      "execution_count": 136,
      "outputs": [
        {
          "output_type": "execute_result",
          "data": {
            "text/plain": [
              "'2.0.0-rc1'"
            ]
          },
          "metadata": {
            "tags": []
          },
          "execution_count": 136
        }
      ]
    },
    {
      "cell_type": "markdown",
      "metadata": {
        "id": "DtdUJjxW17SU",
        "colab_type": "text"
      },
      "source": [
        "# Sequence generation with TF2.0\n",
        "\n",
        "In this notebook we train a simple model with lyrics by Rosalía ().\n",
        "Next, we generate new song lyrics. \n",
        "\n",
        "The dataset used in this toy example is small (3 song only) and the model is simple. \n",
        "\n",
        "Feel free to used the model with a larger dataset and add some complexity! :)"
      ]
    },
    {
      "cell_type": "code",
      "metadata": {
        "id": "ubpi0hpnIbB9",
        "colab_type": "code",
        "colab": {
          "resources": {
            "http://localhost:8080/nbextensions/google.colab/files.js": {
              "data": "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",
              "ok": true,
              "headers": [
                [
                  "content-type",
                  "application/javascript"
                ]
              ],
              "status": 200,
              "status_text": "OK"
            }
          },
          "base_uri": "https://localhost:8080/",
          "height": 74
        },
        "outputId": "773ba113-2d30-40aa-ade8-d475e1538759"
      },
      "source": [
        "# Upload the data\n",
        "uploaded = files.upload()"
      ],
      "execution_count": 5,
      "outputs": [
        {
          "output_type": "display_data",
          "data": {
            "text/html": [
              "\n",
              "     <input type=\"file\" id=\"files-3a067120-2272-4551-9e63-440ad949e5d6\" name=\"files[]\" multiple disabled />\n",
              "     <output id=\"result-3a067120-2272-4551-9e63-440ad949e5d6\">\n",
              "      Upload widget is only available when the cell has been executed in the\n",
              "      current browser session. Please rerun this cell to enable.\n",
              "      </output>\n",
              "      <script src=\"/nbextensions/google.colab/files.js\"></script> "
            ],
            "text/plain": [
              "<IPython.core.display.HTML object>"
            ]
          },
          "metadata": {
            "tags": []
          }
        },
        {
          "output_type": "stream",
          "text": [
            "Saving rosalia_lyrics.txt to rosalia_lyrics.txt\n"
          ],
          "name": "stdout"
        }
      ]
    },
    {
      "cell_type": "code",
      "metadata": {
        "id": "FiHdDH2jIxA0",
        "colab_type": "code",
        "colab": {}
      },
      "source": [
        "# Load the data\n",
        "with open('rosalia_lyrics.txt', 'r') as infile:\n",
        "    lyrics = infile.read()"
      ],
      "execution_count": 0,
      "outputs": []
    },
    {
      "cell_type": "code",
      "metadata": {
        "id": "ZDmZ0t6QJAEb",
        "colab_type": "code",
        "colab": {
          "base_uri": "https://localhost:8080/",
          "height": 56
        },
        "outputId": "2be18624-ae0e-448c-a024-80a7c15c6b80"
      },
      "source": [
        "# Sanity check\n",
        "lyrics"
      ],
      "execution_count": 22,
      "outputs": [
        {
          "output_type": "execute_result",
          "data": {
            "text/plain": [
              "\" las cosas\\nQue las cosas que me dices\\nQue las cosas que me dices\\nNo salgan por esa puerta\\n\\n[Pre-Estribillo]\\nY átame con tu cabello\\nA la esquina de tu cama\\nQue aunque el cabello se rompa\\nHaré ver que estoy ata'a\\nQue aunque el cabello se rompa\\nHaré ver que estoy ata'a (Ata'a)\\n\\n[Estribillo]\\nAy, Ali, Ali, Ali, Ali, Ali, Ali, Yali ya\\nAy, Ali, Ali, Ali, Ali, Ali, Ali, Yali ya\\nAy, Ali, Ali, Ali, Ali, Ali, Ali, Yali ya\\n\\n[Verso 2]\\nDi mi nombre\\nPon tu cuerpo contra el mío\\nY haz que lo malo sea bueno\\nImpuro lo bendeci'o\\n\\n[Pre-Estribillo]\\nY hazme rezar sobre tu cuerpo\\nY en la esquina de tu cama\\nY en el último momento\\nDime mi nombre a la cara\\nY en el último momento\\nDime mi nombre a la cara\\n\\n[Estribillo]\\n(Ay, Ali, Ali, Ali, Ali, Ali, Ali, Yali ya)\\n(Ay, Ali, Ali, Ali, Ali, Ali, Ali, Yali ya)\\n(Ay, Ali, Ali, Ali, Ali, Ali, Ali, Yali ya)\\n(Ay, Ali, Ali, Ali, Ali, Ali, Ali, Yali ya)\\nAy, Ali, Ali, Ali, Ali, Ali, Ali, Yali ya\\nAy, Ali, Ali, Ali, Ali, Ali, Ali, Yali ya\\nAy, Ali, Ali, Ali, Ali, Ali, Ali, Yali ya\\nAy, Ali, Ali, Ali, Ali, Ali, Ali, Yali ya\\n\\n[Outro]\\n(Ay, Ali, Ali, Ali, Ali, Ali, Ali, Yali ya)\\n\\nMe da miedo cuando sale', sonriendo pa' la calle\\nPorque todos pueden ve' los hoyuelitos que te salen\\n\\n[Verso 1]\\nY del aire cuando pasa, por levantarte el cabello\\nY del oro que te viste por amarrarse a tu cuello\\nY del cielo y de la luna, que tú quieras mirarlos\\nHasta del agua que bebes cuando te moja los labios\\n\\n[Coro]\\nPienso en tu mirá', tu mirá' clavá' es una bala en el pecho\\nPienso en tu mirá', tu mirá' clavá' es una bala en el\\nPienso en tu mirá', tu mirá' clavá' es una bala en el pecho\\nPienso en tu mirá'\\nPienso en tu mirá'\\n\\n[Puente]\\nMe da miedo cuando sale' (Eh), sonriendo pa' la calle\\nPorque todos pueden ve' (Eh) los hoyuelitos que te salen\\nMe da miedo cuando sale' (Eh), sonriendo pa' la calle\\nPorque todos pueden ve' (Eh) los hoyuelitos que te salen\\n\\n[Verso 2]\\nTan bonita que amenaza, cuando calla' me da' miedo\\nTan fría como la nieve cuando cae desde el cielo\\nCuando sales por la puerta, pienso que no vuelves nunca\\nY si no te agarro fuerte, siento que será mi culpa\\n\\nPienso en tu mirá', tu mirá' clavá' es una bala en el pecho\\nPienso en tu mirá', tu mirá' clavá' es una bala en el\\nPienso en tu mirá', tu mirá' clavá' es una bala en el pecho\\nPienso en tu mirá', tu mirá' clavá' es una bala en el\\nPienso en tu mirá', tu mirá' clavá' es una bala en el pecho\\nPienso en tu mirá', tu mirá' clavá' es una bala en el (Pienso en tu mirá')\\nPienso en tu mirá', tu mirá' clavá' es una bala en el pecho\\nPienso en tu mirá'\\nPienso en tu mirá' (Pa' 'trá')\\n\\n[Puente]\\nMe da miedo cuando sale', (Eh) sonriendo pa' la calle\\nPorque todos pueden ve' (Eh) los hoyuelitos que te salen\\nMe da miedo cuando sale' (Eh), sonriendo pa' la calle\\nPorque todos pueden ve' (Eh) los hoyuelitos que te salen\\n\\n[Outro]\\n(Hmm-mmm-mmm-mmm, hmm-mmm-mmm-mmm)\\n(Hmm-mmm-mmm-mmm, hmm-mmm-mmm-mmm)\\n\""
            ]
          },
          "metadata": {
            "tags": []
          },
          "execution_count": 22
        }
      ]
    },
    {
      "cell_type": "code",
      "metadata": {
        "id": "SdglI8isJU1Q",
        "colab_type": "code",
        "colab": {}
      },
      "source": [
        "# Clean the data - remove verse, chorus, etc. tags\n",
        "lyrics = re.sub('\\[.+\\]', '', lyrics)\n",
        "lyrics = re.sub('\\(.+\\)', '', lyrics)"
      ],
      "execution_count": 0,
      "outputs": []
    },
    {
      "cell_type": "code",
      "metadata": {
        "id": "Es6v_-DKJBPW",
        "colab_type": "code",
        "colab": {}
      },
      "source": [
        "# Instantiate the tokenizer\n",
        "tokenizer = Tokenizer()"
      ],
      "execution_count": 0,
      "outputs": []
    },
    {
      "cell_type": "code",
      "metadata": {
        "id": "Ezksaby_JPMU",
        "colab_type": "code",
        "colab": {}
      },
      "source": [
        "# Get the corpus\n",
        "corpus = lyrics.lower().split('\\n')"
      ],
      "execution_count": 0,
      "outputs": []
    },
    {
      "cell_type": "code",
      "metadata": {
        "id": "xCx8H4oGj9sW",
        "colab_type": "code",
        "colab": {}
      },
      "source": [
        "# Remove empty lines\n",
        "corpus = [line for line in corpus if len(line) != 0]"
      ],
      "execution_count": 0,
      "outputs": []
    },
    {
      "cell_type": "code",
      "metadata": {
        "id": "Mv9bSQiyLIpO",
        "colab_type": "code",
        "colab": {}
      },
      "source": [
        "# Fit the tokenizer\n",
        "tokenizer.fit_on_texts(corpus)"
      ],
      "execution_count": 0,
      "outputs": []
    },
    {
      "cell_type": "code",
      "metadata": {
        "id": "xFyk32VVLLRI",
        "colab_type": "code",
        "colab": {}
      },
      "source": [
        "# Adding one to consider out-of-vocab words\n",
        "n_words = len(tokenizer.word_index) + 1"
      ],
      "execution_count": 0,
      "outputs": []
    },
    {
      "cell_type": "code",
      "metadata": {
        "id": "Yg62EgsPjVPP",
        "colab_type": "code",
        "colab": {}
      },
      "source": [
        "# turn the corpus into the training data\n",
        "input_sequences = []\n",
        "\n",
        "for line in corpus:\n",
        "    token_list = tokenizer.texts_to_sequences([line])[0]\n",
        "    for i in range (1, len(token_list)):\n",
        "        n_gram_seq = token_list[:i + 1]\n",
        "        input_sequences.append(n_gram_seq)"
      ],
      "execution_count": 0,
      "outputs": []
    },
    {
      "cell_type": "code",
      "metadata": {
        "id": "PwB0N0A3jWfr",
        "colab_type": "code",
        "colab": {}
      },
      "source": [
        "# Find the length of the longest seq in the corpus\n",
        "max_seq_len = max([len(x) for x in input_sequences])"
      ],
      "execution_count": 0,
      "outputs": []
    },
    {
      "cell_type": "code",
      "metadata": {
        "id": "Dvg70r3rk4-g",
        "colab_type": "code",
        "colab": {
          "base_uri": "https://localhost:8080/",
          "height": 36
        },
        "outputId": "b44f5941-f59a-4d84-f061-7d50a7cbe680"
      },
      "source": [
        "max_seq_len"
      ],
      "execution_count": 69,
      "outputs": [
        {
          "output_type": "execute_result",
          "data": {
            "text/plain": [
              "15"
            ]
          },
          "metadata": {
            "tags": []
          },
          "execution_count": 69
        }
      ]
    },
    {
      "cell_type": "code",
      "metadata": {
        "id": "4Vb3CmSjldtG",
        "colab_type": "code",
        "colab": {}
      },
      "source": [
        "# Pad sequences\n",
        "in_seqs = pad_sequences(input_sequences, \n",
        "                        maxlen  = max_seq_len,\n",
        "                        padding = 'pre')"
      ],
      "execution_count": 0,
      "outputs": []
    },
    {
      "cell_type": "code",
      "metadata": {
        "id": "lJE1Se03lwKY",
        "colab_type": "code",
        "colab": {
          "base_uri": "https://localhost:8080/",
          "height": 204
        },
        "outputId": "92e04bdf-8af3-4dad-a755-2f492f0f96ac"
      },
      "source": [
        "# A quick sanity check\n",
        "for i, seq in enumerate(in_seqs):\n",
        "    if i < 10:\n",
        "        print(seq)"
      ],
      "execution_count": 75,
      "outputs": [
        {
          "output_type": "stream",
          "text": [
            "[  0   0   0   0   0   0   0   0   0   0   0   0   0  32 107]\n",
            "[  0   0   0   0   0   0   0   0   0   0   0   0  32 107  20]\n",
            "[  0   0   0   0   0   0   0   0   0   0   0  32 107  20 108]\n",
            "[  0   0   0   0   0   0   0   0   0   0  32 107  20 108  62]\n",
            "[  0   0   0   0   0   0   0   0   0  32 107  20 108  62  81]\n",
            "[  0   0   0   0   0   0   0   0   0   0   0   0   0  11 109]\n",
            "[  0   0   0   0   0   0   0   0   0   0   0   0  11 109  17]\n",
            "[  0   0   0   0   0   0   0   0   0   0   0  11 109  17 110]\n",
            "[  0   0   0   0   0   0   0   0   0   0  11 109  17 110  62]\n",
            "[  0   0   0   0   0   0   0   0   0  11 109  17 110  62 111]\n"
          ],
          "name": "stdout"
        }
      ]
    },
    {
      "cell_type": "code",
      "metadata": {
        "id": "KtlkTYURl7Io",
        "colab_type": "code",
        "colab": {}
      },
      "source": [
        "# Data-label split\n",
        "X = in_seqs[:, :-1]\n",
        "y = in_seqs[:, -1]"
      ],
      "execution_count": 0,
      "outputs": []
    },
    {
      "cell_type": "code",
      "metadata": {
        "id": "i3w46GoKsEIx",
        "colab_type": "code",
        "colab": {}
      },
      "source": [
        "# One-hot encode the labels\n",
        "y = tf.keras.utils.to_categorical(y, num_classes = n_words)"
      ],
      "execution_count": 0,
      "outputs": []
    },
    {
      "cell_type": "code",
      "metadata": {
        "id": "Lyz4-pDusy3N",
        "colab_type": "code",
        "colab": {}
      },
      "source": [
        "# Build a generative model\n",
        "model = Sequential()\n",
        "\n",
        "model.add(Embedding(n_words, 64, \n",
        "                    input_length = max_seq_len - 1))\n",
        "\n",
        "model.add(Bidirectional(LSTM(20)))\n",
        "\n",
        "model.add(Dense(n_words, activation = 'softmax'))\n",
        "\n",
        "model.compile(loss      = 'categorical_crossentropy',\n",
        "              optimizer = Adam(),\n",
        "              metrics   = ['accuracy'])"
      ],
      "execution_count": 0,
      "outputs": []
    },
    {
      "cell_type": "code",
      "metadata": {
        "id": "v6izlWUJtmU7",
        "colab_type": "code",
        "colab": {}
      },
      "source": [
        "hist = model.fit(X, y, epochs = 500, verbose = 1)"
      ],
      "execution_count": 0,
      "outputs": []
    },
    {
      "cell_type": "code",
      "metadata": {
        "id": "nSvougIJvYQF",
        "colab_type": "code",
        "colab": {}
      },
      "source": [
        "def plot_metrics(history):\n",
        "    plt.plot(history.history['loss'], label = 'Loss')\n",
        "    plt.plot(history.history['accuracy'], label = 'Acc')\n",
        "    plt.xlabel('Epochs')\n",
        "    plt.legend()\n",
        "    plt.show()"
      ],
      "execution_count": 0,
      "outputs": []
    },
    {
      "cell_type": "code",
      "metadata": {
        "id": "n0TK2HfKxMhb",
        "colab_type": "code",
        "colab": {
          "base_uri": "https://localhost:8080/",
          "height": 304
        },
        "outputId": "62c70c4e-84c5-4038-cd1a-7df94b392b24"
      },
      "source": [
        "plot_metrics(hist)"
      ],
      "execution_count": 137,
      "outputs": [
        {
          "output_type": "display_data",
          "data": {
            "image/png": "[encoded data removed]",
            "text/plain": [
              "<Figure size 432x288 with 1 Axes>"
            ]
          },
          "metadata": {
            "tags": []
          }
        }
      ]
    },
    {
      "cell_type": "code",
      "metadata": {
        "id": "dSml914UxQq1",
        "colab_type": "code",
        "colab": {}
      },
      "source": [
        "# Set params\n",
        "seed = \"Cabello\"\n",
        "next_words = 100"
      ],
      "execution_count": 0,
      "outputs": []
    },
    {
      "cell_type": "code",
      "metadata": {
        "id": "OJVgv6ISz6QO",
        "colab_type": "code",
        "colab": {
          "base_uri": "https://localhost:8080/",
          "height": 56
        },
        "outputId": "cf80801f-214e-4eed-eb95-c0aca5eebaa5"
      },
      "source": [
        "# Generate a new seq\n",
        "for _ in range(next_words):\n",
        "    token_list = tokenizer.texts_to_sequences([seed])[0]\n",
        "    token_list = pad_sequences([token_list], \n",
        "                               maxlen  = max_seq_len - 1,\n",
        "                               padding = 'pre')\n",
        "    predicted = model.predict_classes(token_list,\n",
        "                                      verbose = 0)\n",
        "    output_word = \"\"\n",
        "\n",
        "    for word, index in tokenizer.word_index.items():\n",
        "        if index == predicted:\n",
        "            output_word = word\n",
        "            break\n",
        "    seed += \" \" + output_word\n",
        "print(seed)"
      ],
      "execution_count": 135,
      "outputs": [
        {
          "output_type": "stream",
          "text": [
            "Cabello que estoy andando por un figura a en clavá' volver a pensarte pensarte guantera todos mi manita del escalera luna sepultura calle mirá' mal mu' mal mu' mal mu' mal mu' mal mu' mal mu' mal mu' mal mu' mal mu' mal mu' mal mu' mal mu' mal mu' mal mu' mal mu' mal mu' mal mu' mal mu' mal mu' mal mu' mal mu' mal mu' mal mu' mal mu' mal mu' mal mu' mal mu' mal mu' mal mu' mal mu' mal mu' mal mu' mal mu' mal mu' mal mu' mal mu' mal mu' mal mu' mal\n"
          ],
          "name": "stdout"
        }
      ]
    },
    {
      "cell_type": "code",
      "metadata": {
        "id": "NtgVuFdr0-ZK",
        "colab_type": "code",
        "colab": {}
      },
      "source": [
        ""
      ],
      "execution_count": 0,
      "outputs": []
    }
  ]
}