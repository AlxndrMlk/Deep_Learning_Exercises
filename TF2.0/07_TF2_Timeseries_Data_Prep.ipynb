{
  "nbformat": 4,
  "nbformat_minor": 0,
  "metadata": {
    "colab": {
      "name": "S+P Week 2 Lesson 1.ipynb",
      "version": "0.3.2",
      "provenance": []
    },
    "kernelspec": {
      "name": "python3",
      "display_name": "Python 3"
    },
    "accelerator": "GPU"
  },
  "cells": [
    {
      "cell_type": "code",
      "metadata": {
        "id": "D1J15Vh_1Jih",
        "colab_type": "code",
        "colab": {
          "base_uri": "https://localhost:8080/",
          "height": 635
        },
        "outputId": "57f42537-5ccb-4cd4-e918-79bf5dafd8df"
      },
      "source": [
        "!pip install tensorflow==2.0.0-rc1"
      ],
      "execution_count": 1,
      "outputs": [
        {
          "output_type": "stream",
          "text": [
            "Collecting tensorflow==2.0.0-rc1\n",
            "\u001b[?25l  Downloading https://files.pythonhosted.org/packages/40/d0/7359227ccfb6e2ae2a8fe345db1d513f010282022a7a6a899530cc63c41f/tensorflow-2.0.0rc1-cp36-cp36m-manylinux2010_x86_64.whl (86.3MB)\n",
            "\u001b[K     |████████████████████████████████| 86.3MB 35.8MB/s \n",
            "\u001b[?25hCollecting tb-nightly<1.15.0a20190807,>=1.15.0a20190806 (from tensorflow==2.0.0-rc1)\n",
            "\u001b[?25l  Downloading https://files.pythonhosted.org/packages/bc/88/24b5fb7280e74c7cf65bde47c171547fd02afb3840cff41bcbe9270650f5/tb_nightly-1.15.0a20190806-py3-none-any.whl (4.3MB)\n",
            "\u001b[K     |████████████████████████████████| 4.3MB 31.2MB/s \n",
            "\u001b[?25hRequirement already satisfied: termcolor>=1.1.0 in /usr/local/lib/python3.6/dist-packages (from tensorflow==2.0.0-rc1) (1.1.0)\n",
            "Requirement already satisfied: keras-applications>=1.0.8 in /usr/local/lib/python3.6/dist-packages (from tensorflow==2.0.0-rc1) (1.0.8)\n",
            "Requirement already satisfied: opt-einsum>=2.3.2 in /usr/local/lib/python3.6/dist-packages (from tensorflow==2.0.0-rc1) (3.0.1)\n",
            "Collecting tf-estimator-nightly<1.14.0.dev2019080602,>=1.14.0.dev2019080601 (from tensorflow==2.0.0-rc1)\n",
            "\u001b[?25l  Downloading https://files.pythonhosted.org/packages/21/28/f2a27a62943d5f041e4a6fd404b2d21cb7c59b2242a4e73b03d9ba166552/tf_estimator_nightly-1.14.0.dev2019080601-py2.py3-none-any.whl (501kB)\n",
            "\u001b[K     |████████████████████████████████| 501kB 43.6MB/s \n",
            "\u001b[?25hRequirement already satisfied: six>=1.10.0 in /usr/local/lib/python3.6/dist-packages (from tensorflow==2.0.0-rc1) (1.12.0)\n",
            "Requirement already satisfied: wrapt>=1.11.1 in /usr/local/lib/python3.6/dist-packages (from tensorflow==2.0.0-rc1) (1.11.2)\n",
            "Requirement already satisfied: wheel>=0.26 in /usr/local/lib/python3.6/dist-packages (from tensorflow==2.0.0-rc1) (0.33.6)\n",
            "Requirement already satisfied: absl-py>=0.7.0 in /usr/local/lib/python3.6/dist-packages (from tensorflow==2.0.0-rc1) (0.8.0)\n",
            "Requirement already satisfied: grpcio>=1.8.6 in /usr/local/lib/python3.6/dist-packages (from tensorflow==2.0.0-rc1) (1.15.0)\n",
            "Requirement already satisfied: astor>=0.6.0 in /usr/local/lib/python3.6/dist-packages (from tensorflow==2.0.0-rc1) (0.8.0)\n",
            "Requirement already satisfied: protobuf>=3.6.1 in /usr/local/lib/python3.6/dist-packages (from tensorflow==2.0.0-rc1) (3.7.1)\n",
            "Requirement already satisfied: google-pasta>=0.1.6 in /usr/local/lib/python3.6/dist-packages (from tensorflow==2.0.0-rc1) (0.1.7)\n",
            "Requirement already satisfied: gast>=0.2.0 in /usr/local/lib/python3.6/dist-packages (from tensorflow==2.0.0-rc1) (0.2.2)\n",
            "Requirement already satisfied: numpy<2.0,>=1.16.0 in /usr/local/lib/python3.6/dist-packages (from tensorflow==2.0.0-rc1) (1.16.5)\n",
            "Requirement already satisfied: keras-preprocessing>=1.0.5 in /usr/local/lib/python3.6/dist-packages (from tensorflow==2.0.0-rc1) (1.1.0)\n",
            "Requirement already satisfied: setuptools>=41.0.0 in /usr/local/lib/python3.6/dist-packages (from tb-nightly<1.15.0a20190807,>=1.15.0a20190806->tensorflow==2.0.0-rc1) (41.2.0)\n",
            "Requirement already satisfied: werkzeug>=0.11.15 in /usr/local/lib/python3.6/dist-packages (from tb-nightly<1.15.0a20190807,>=1.15.0a20190806->tensorflow==2.0.0-rc1) (0.15.6)\n",
            "Requirement already satisfied: markdown>=2.6.8 in /usr/local/lib/python3.6/dist-packages (from tb-nightly<1.15.0a20190807,>=1.15.0a20190806->tensorflow==2.0.0-rc1) (3.1.1)\n",
            "Requirement already satisfied: h5py in /usr/local/lib/python3.6/dist-packages (from keras-applications>=1.0.8->tensorflow==2.0.0-rc1) (2.8.0)\n",
            "Installing collected packages: tb-nightly, tf-estimator-nightly, tensorflow\n",
            "  Found existing installation: tensorflow 1.14.0\n",
            "    Uninstalling tensorflow-1.14.0:\n",
            "      Successfully uninstalled tensorflow-1.14.0\n",
            "Successfully installed tb-nightly-1.15.0a20190806 tensorflow-2.0.0rc1 tf-estimator-nightly-1.14.0.dev2019080601\n"
          ],
          "name": "stdout"
        }
      ]
    },
    {
      "cell_type": "code",
      "metadata": {
        "id": "BOjujz601HcS",
        "colab_type": "code",
        "outputId": "98313590-56fc-4f30-8fd1-2bcc30f0bed5",
        "colab": {
          "base_uri": "https://localhost:8080/",
          "height": 36
        }
      },
      "source": [
        "import tensorflow as tf\n",
        "\n",
        "import numpy as np\n",
        "import matplotlib.pyplot as plt\n",
        "\n",
        "print(tf.__version__)"
      ],
      "execution_count": 4,
      "outputs": [
        {
          "output_type": "stream",
          "text": [
            "2.0.0-rc1\n"
          ],
          "name": "stdout"
        }
      ]
    },
    {
      "cell_type": "code",
      "metadata": {
        "id": "_VuwleCoFPBh",
        "colab_type": "code",
        "colab": {}
      },
      "source": [
        "# Build the dataset from np.array()\n",
        "my_data = tf.data.Dataset.from_tensor_slices(np.array([1, 2, 13, 45, 66, 77, 12, 44, 52, 12, 12, 23, 13, 14, 15, 17]))"
      ],
      "execution_count": 0,
      "outputs": []
    },
    {
      "cell_type": "code",
      "metadata": {
        "id": "vY0VNonzHLh6",
        "colab_type": "code",
        "colab": {
          "base_uri": "https://localhost:8080/",
          "height": 316
        },
        "outputId": "8fa1dd84-86ca-4e49-8435-14075b620fab"
      },
      "source": [
        "# Generate shifts\n",
        "my_data = my_data.window(10, shift = 1)\n",
        "\n",
        "for window in my_data:\n",
        "    for val in window:\n",
        "        print(val.numpy(), end = ' ')\n",
        "    print()\n"
      ],
      "execution_count": 103,
      "outputs": [
        {
          "output_type": "stream",
          "text": [
            "1 2 13 45 66 77 12 44 52 12 \n",
            "2 13 45 66 77 12 44 52 12 12 \n",
            "13 45 66 77 12 44 52 12 12 23 \n",
            "45 66 77 12 44 52 12 12 23 13 \n",
            "66 77 12 44 52 12 12 23 13 14 \n",
            "77 12 44 52 12 12 23 13 14 15 \n",
            "12 44 52 12 12 23 13 14 15 17 \n",
            "44 52 12 12 23 13 14 15 17 \n",
            "52 12 12 23 13 14 15 17 \n",
            "12 12 23 13 14 15 17 \n",
            "12 23 13 14 15 17 \n",
            "23 13 14 15 17 \n",
            "13 14 15 17 \n",
            "14 15 17 \n",
            "15 17 \n",
            "17 \n"
          ],
          "name": "stdout"
        }
      ]
    },
    {
      "cell_type": "code",
      "metadata": {
        "id": "S83Vs_0XFqK-",
        "colab_type": "code",
        "colab": {
          "base_uri": "https://localhost:8080/",
          "height": 148
        },
        "outputId": "0bdd15d8-b407-44a6-82ab-0a99d80cc1eb"
      },
      "source": [
        "# Generate shifts and drop remainder\n",
        "my_data = tf.data.Dataset.from_tensor_slices(np.array([1, 2, 13, 45, 66, 77, 12, 44, 52, 12, 12, 23, 13, 14, 15, 17]))\n",
        "\n",
        "my_data = my_data.window(10, shift = 1, drop_remainder = True)\n",
        "\n",
        "for window in my_data:\n",
        "    for val in window:\n",
        "        print(val.numpy(), end = ' ')\n",
        "    print()\n"
      ],
      "execution_count": 105,
      "outputs": [
        {
          "output_type": "stream",
          "text": [
            "1 2 13 45 66 77 12 44 52 12 \n",
            "2 13 45 66 77 12 44 52 12 12 \n",
            "13 45 66 77 12 44 52 12 12 23 \n",
            "45 66 77 12 44 52 12 12 23 13 \n",
            "66 77 12 44 52 12 12 23 13 14 \n",
            "77 12 44 52 12 12 23 13 14 15 \n",
            "12 44 52 12 12 23 13 14 15 17 \n"
          ],
          "name": "stdout"
        }
      ]
    },
    {
      "cell_type": "code",
      "metadata": {
        "id": "d0_q3BH6FzwV",
        "colab_type": "code",
        "colab": {
          "base_uri": "https://localhost:8080/",
          "height": 148
        },
        "outputId": "9d92c9d0-aa09-4bce-d9fd-1597f0f77e24"
      },
      "source": [
        "# Create rows\n",
        "my_data = my_data.flat_map(lambda window: window.batch(10))\n",
        "\n",
        "for i in my_data:\n",
        "    print(i.numpy())"
      ],
      "execution_count": 106,
      "outputs": [
        {
          "output_type": "stream",
          "text": [
            "[ 1  2 13 45 66 77 12 44 52 12]\n",
            "[ 2 13 45 66 77 12 44 52 12 12]\n",
            "[13 45 66 77 12 44 52 12 12 23]\n",
            "[45 66 77 12 44 52 12 12 23 13]\n",
            "[66 77 12 44 52 12 12 23 13 14]\n",
            "[77 12 44 52 12 12 23 13 14 15]\n",
            "[12 44 52 12 12 23 13 14 15 17]\n"
          ],
          "name": "stdout"
        }
      ]
    },
    {
      "cell_type": "code",
      "metadata": {
        "id": "ozyo6eMMGqMw",
        "colab_type": "code",
        "colab": {
          "base_uri": "https://localhost:8080/",
          "height": 148
        },
        "outputId": "6ba61d30-93a3-4334-b6ef-303587327794"
      },
      "source": [
        "# Split to xs and ys\n",
        "my_data = my_data.map(lambda window: (window[:-1], window[-1:]))\n",
        "\n",
        "for x, y in my_data:\n",
        "  print(x.numpy(), y.numpy())"
      ],
      "execution_count": 108,
      "outputs": [
        {
          "output_type": "stream",
          "text": [
            "[ 1  2 13 45 66 77 12 44 52] [12]\n",
            "[ 2 13 45 66 77 12 44 52 12] [12]\n",
            "[13 45 66 77 12 44 52 12 12] [23]\n",
            "[45 66 77 12 44 52 12 12 23] [13]\n",
            "[66 77 12 44 52 12 12 23 13] [14]\n",
            "[77 12 44 52 12 12 23 13 14] [15]\n",
            "[12 44 52 12 12 23 13 14 15] [17]\n"
          ],
          "name": "stdout"
        }
      ]
    },
    {
      "cell_type": "code",
      "metadata": {
        "id": "zVDNB8MsH1Oo",
        "colab_type": "code",
        "colab": {
          "base_uri": "https://localhost:8080/",
          "height": 148
        },
        "outputId": "8ac225ed-5696-4bb1-8cc9-477229645d4a"
      },
      "source": [
        "# Shuffle the data\n",
        "my_data = my_data.shuffle(buffer_size = 10)\n",
        "\n",
        "for x, y in my_data:\n",
        "  print(x.numpy(), y.numpy())"
      ],
      "execution_count": 111,
      "outputs": [
        {
          "output_type": "stream",
          "text": [
            "[13 45 66 77 12 44 52 12 12] [23]\n",
            "[77 12 44 52 12 12 23 13 14] [15]\n",
            "[12 44 52 12 12 23 13 14 15] [17]\n",
            "[66 77 12 44 52 12 12 23 13] [14]\n",
            "[ 1  2 13 45 66 77 12 44 52] [12]\n",
            "[ 2 13 45 66 77 12 44 52 12] [12]\n",
            "[45 66 77 12 44 52 12 12 23] [13]\n"
          ],
          "name": "stdout"
        }
      ]
    },
    {
      "cell_type": "code",
      "metadata": {
        "id": "wcuBVOu3IEQd",
        "colab_type": "code",
        "colab": {
          "base_uri": "https://localhost:8080/",
          "height": 578
        },
        "outputId": "9fc0da66-5c3d-4661-8a64-d2f5b1ab7f52"
      },
      "source": [
        "# Create batches (and use `prefetch` to optimize performance)\n",
        "my_data = my_data.batch(2).prefetch(1)\n",
        "\n",
        "for x, y in my_data:\n",
        "  print(\"x:\\n\", x.numpy())\n",
        "  print(\"y:\\n\", y.numpy())\n",
        "  print('\\n')"
      ],
      "execution_count": 112,
      "outputs": [
        {
          "output_type": "stream",
          "text": [
            "x:\n",
            " [[ 2 13 45 66 77 12 44 52 12]\n",
            " [77 12 44 52 12 12 23 13 14]]\n",
            "y:\n",
            " [[12]\n",
            " [15]]\n",
            "\n",
            "\n",
            "x:\n",
            " [[ 1  2 13 45 66 77 12 44 52]\n",
            " [13 45 66 77 12 44 52 12 12]]\n",
            "y:\n",
            " [[12]\n",
            " [23]]\n",
            "\n",
            "\n",
            "x:\n",
            " [[12 44 52 12 12 23 13 14 15]\n",
            " [66 77 12 44 52 12 12 23 13]]\n",
            "y:\n",
            " [[17]\n",
            " [14]]\n",
            "\n",
            "\n",
            "x:\n",
            " [[45 66 77 12 44 52 12 12 23]]\n",
            "y:\n",
            " [[13]]\n",
            "\n",
            "\n"
          ],
          "name": "stdout"
        }
      ]
    },
    {
      "cell_type": "code",
      "metadata": {
        "id": "yp4pr_8GIiQB",
        "colab_type": "code",
        "colab": {}
      },
      "source": [
        ""
      ],
      "execution_count": 0,
      "outputs": []
    }
  ]
}